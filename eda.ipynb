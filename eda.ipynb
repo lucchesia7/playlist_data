{
 "cells": [
  {
   "cell_type": "code",
   "execution_count": 1,
   "metadata": {},
   "outputs": [],
   "source": [
    "# Imports\n",
    "import pandas as pd\n",
    "import plotly.express as px\n",
    "import matplotlib.pyplot as plt\n",
    "from clean_up import data_cleaning"
   ]
  },
  {
   "cell_type": "code",
   "execution_count": 2,
   "metadata": {},
   "outputs": [],
   "source": [
    "# Instantiate playlist DataFrame objects\n",
    "playlist_1 = data_cleaning(r'C:\\Users\\Alex Lucchesi\\OneDrive\\Desktop\\playlist_data\\playlist1.csv')\n",
    "playlist_2 = data_cleaning(r'C:\\Users\\Alex Lucchesi\\OneDrive\\Desktop\\playlist_data\\playlist2.csv')"
   ]
  },
  {
   "cell_type": "code",
   "execution_count": 4,
   "metadata": {},
   "outputs": [],
   "source": [
    "# We can merge both dataframe objects to get all songs in one dataframe object.\n",
    "merge = pd.merge(playlist_1, playlist_2, how = 'outer')"
   ]
  },
  {
   "attachments": {},
   "cell_type": "markdown",
   "metadata": {},
   "source": [
    "# Data Analysis and Visualization Questions:"
   ]
  },
  {
   "attachments": {},
   "cell_type": "markdown",
   "metadata": {},
   "source": [
    "## Runtime?"
   ]
  },
  {
   "attachments": {},
   "cell_type": "markdown",
   "metadata": {},
   "source": [
    "### What song has the longest runtime?\n",
    "By using the duration column and the merged DataFrame object, we can identify the song which has the longest duration between both playlists."
   ]
  },
  {
   "cell_type": "code",
   "execution_count": 5,
   "metadata": {},
   "outputs": [
    {
     "data": {
      "text/html": [
       "<div>\n",
       "<style scoped>\n",
       "    .dataframe tbody tr th:only-of-type {\n",
       "        vertical-align: middle;\n",
       "    }\n",
       "\n",
       "    .dataframe tbody tr th {\n",
       "        vertical-align: top;\n",
       "    }\n",
       "\n",
       "    .dataframe thead th {\n",
       "        text-align: right;\n",
       "    }\n",
       "</style>\n",
       "<table border=\"1\" class=\"dataframe\">\n",
       "  <thead>\n",
       "    <tr style=\"text-align: right;\">\n",
       "      <th></th>\n",
       "      <th>album</th>\n",
       "      <th>artists</th>\n",
       "      <th>duration</th>\n",
       "      <th>explicit</th>\n",
       "      <th>name</th>\n",
       "      <th>popularity</th>\n",
       "      <th>preview_url</th>\n",
       "    </tr>\n",
       "  </thead>\n",
       "  <tbody>\n",
       "    <tr>\n",
       "      <th>31</th>\n",
       "      <td>Ocean</td>\n",
       "      <td>John Butler</td>\n",
       "      <td>11:39</td>\n",
       "      <td>False</td>\n",
       "      <td>Ocean</td>\n",
       "      <td>49</td>\n",
       "      <td>https://p.scdn.co/mp3-preview/182e1fc3028c04f5...</td>\n",
       "    </tr>\n",
       "  </tbody>\n",
       "</table>\n",
       "</div>"
      ],
      "text/plain": [
       "    album      artists duration  explicit   name  popularity  \\\n",
       "31  Ocean  John Butler    11:39     False  Ocean          49   \n",
       "\n",
       "                                          preview_url  \n",
       "31  https://p.scdn.co/mp3-preview/182e1fc3028c04f5...  "
      ]
     },
     "execution_count": 5,
     "metadata": {},
     "output_type": "execute_result"
    }
   ],
   "source": [
    "# Grab the song with the largest duration of both playlists\n",
    "merge[merge['duration'] == max(merge['duration'])]"
   ]
  },
  {
   "attachments": {},
   "cell_type": "markdown",
   "metadata": {},
   "source": [
    "After running the code above, we can see the song Ocean by John Butler is the song with the longest duration. The duration for this song is 11 minutes and 39 seconds! "
   ]
  },
  {
   "attachments": {},
   "cell_type": "markdown",
   "metadata": {},
   "source": [
    "### What is the average runtime of songs in each playlist?\n",
    "### Which playlist has a longer total runtime?\n",
    "\n",
    "Using both DataFrame objects, we can identify the average runtime of each playlist using the duration column. In the calculation, it will be easy to grab both answers at the same time as we will create a sum of total time in each duration column. "
   ]
  },
  {
   "cell_type": "code",
   "execution_count": 6,
   "metadata": {},
   "outputs": [
    {
     "name": "stdout",
     "output_type": "stream",
     "text": [
      "Average times for Playlist 1 are 203.52 seconds while average times for Playlist 2 are 217.16 seconds\n",
      "Playlist 1 has a runtime of 43553 seconds while Playlist 2 has a runtime of 43431 seconds\n",
      "Playlist 1 has a slightly longer runtime. The difference between both is 122 seconds\n"
     ]
    }
   ],
   "source": [
    "# Create time variables for each DataFrame to store sum of time in seconds\n",
    "time_1=0\n",
    "time_2=0\n",
    "\n",
    "# Iterate through both duration columns\n",
    "for dur1, dur2 in zip(playlist_1['duration'], playlist_2['duration']):\n",
    "    # Split into minutes and seconds\n",
    "    m1, s1 = dur1.split(':')\n",
    "    # Create total time and add it to playlist total\n",
    "    total1 = 60 * int(m1) + int(s1)\n",
    "    time_1 += total1\n",
    "\n",
    "    # Split into minutes and seconds\n",
    "    m2, s2 = dur2.split(':')\n",
    "    # Create total time and add it to playlist total\n",
    "    total2 = 60 * int(m2) + int(s2)\n",
    "    time_2 += total2\n",
    "# Calculate averages using both time sum variables\n",
    "time_1_avg = time_1 / len(playlist_1['duration'])\n",
    "time_2_avg = time_2 / len(playlist_2['duration'])\n",
    "\n",
    "print(f\"Average times for Playlist 1 are {round(time_1_avg,2)} seconds while average times for Playlist 2 are {round(time_2_avg, 2)} seconds\")\n",
    "print(f\"Playlist 1 has a runtime of {time_1} seconds while Playlist 2 has a runtime of {time_2} seconds\")\n",
    "print(f\"Playlist 1 has a slightly longer runtime. The difference between both is {time_1 - time_2} seconds\")"
   ]
  },
  {
   "attachments": {},
   "cell_type": "markdown",
   "metadata": {},
   "source": [
    "### Can we visualize the song runtime?\n"
   ]
  },
  {
   "cell_type": "code",
   "execution_count": 7,
   "metadata": {},
   "outputs": [],
   "source": [
    "# Create top 10 duration DataFrame from both playlist\n",
    "top_10_duration = merge[merge['name'].duplicated() == False].sort_values(by = 'duration').tail(10)\n"
   ]
  },
  {
   "cell_type": "code",
   "execution_count": 8,
   "metadata": {},
   "outputs": [
    {
     "data": {
      "application/vnd.plotly.v1+json": {
       "config": {
        "plotlyServerURL": "https://plot.ly"
       },
       "data": [
        {
         "alignmentgroup": "True",
         "customdata": [
          [
           "Chance the Rapper / VIC MENSA / Twista",
           true,
           69
          ],
          [
           "Milky Chance",
           false,
           0
          ],
          [
           "Frank Ocean",
           true,
           71
          ],
          [
           "alt J",
           false,
           55
          ],
          [
           "Trettmann / KitschKrieg / SFR",
           false,
           43
          ],
          [
           "The Game / Elijah Blake",
           true,
           30
          ],
          [
           "Rick Ross / Drake",
           true,
           63
          ],
          [
           "Dave",
           true,
           63
          ],
          [
           "Nu",
           false,
           55
          ],
          [
           "John Butler",
           false,
           49
          ]
         ],
         "hovertemplate": "duration=%{x}<br>name=%{y}<br>artists=%{customdata[0]}<br>explicit=%{customdata[1]}<br>popularity=%{customdata[2]}<extra></extra>",
         "legendgroup": "",
         "marker": {
          "color": "#636efa",
          "pattern": {
           "shape": ""
          }
         },
         "name": "",
         "offsetgroup": "",
         "orientation": "h",
         "showlegend": false,
         "textposition": "auto",
         "type": "bar",
         "x": [
          "05:07",
          "05:11",
          "05:14",
          "05:14",
          "05:25",
          "05:46",
          "05:49",
          "07:03",
          "09:40",
          "11:39"
         ],
         "xaxis": "x",
         "y": [
          "Cocoa Butter Kisses",
          "Stolen Dance",
          "Nikes",
          "Taro",
          "Geh ran",
          "Freedom",
          "Gold Roses (feat. Drake)",
          "In The Fire",
          "Man O To - Original Mix",
          "Ocean"
         ],
         "yaxis": "y"
        }
       ],
       "layout": {
        "barmode": "relative",
        "legend": {
         "tracegroupgap": 0
        },
        "margin": {
         "t": 60
        },
        "template": {
         "data": {
          "bar": [
           {
            "error_x": {
             "color": "#2a3f5f"
            },
            "error_y": {
             "color": "#2a3f5f"
            },
            "marker": {
             "line": {
              "color": "#E5ECF6",
              "width": 0.5
             },
             "pattern": {
              "fillmode": "overlay",
              "size": 10,
              "solidity": 0.2
             }
            },
            "type": "bar"
           }
          ],
          "barpolar": [
           {
            "marker": {
             "line": {
              "color": "#E5ECF6",
              "width": 0.5
             },
             "pattern": {
              "fillmode": "overlay",
              "size": 10,
              "solidity": 0.2
             }
            },
            "type": "barpolar"
           }
          ],
          "carpet": [
           {
            "aaxis": {
             "endlinecolor": "#2a3f5f",
             "gridcolor": "white",
             "linecolor": "white",
             "minorgridcolor": "white",
             "startlinecolor": "#2a3f5f"
            },
            "baxis": {
             "endlinecolor": "#2a3f5f",
             "gridcolor": "white",
             "linecolor": "white",
             "minorgridcolor": "white",
             "startlinecolor": "#2a3f5f"
            },
            "type": "carpet"
           }
          ],
          "choropleth": [
           {
            "colorbar": {
             "outlinewidth": 0,
             "ticks": ""
            },
            "type": "choropleth"
           }
          ],
          "contour": [
           {
            "colorbar": {
             "outlinewidth": 0,
             "ticks": ""
            },
            "colorscale": [
             [
              0,
              "#0d0887"
             ],
             [
              0.1111111111111111,
              "#46039f"
             ],
             [
              0.2222222222222222,
              "#7201a8"
             ],
             [
              0.3333333333333333,
              "#9c179e"
             ],
             [
              0.4444444444444444,
              "#bd3786"
             ],
             [
              0.5555555555555556,
              "#d8576b"
             ],
             [
              0.6666666666666666,
              "#ed7953"
             ],
             [
              0.7777777777777778,
              "#fb9f3a"
             ],
             [
              0.8888888888888888,
              "#fdca26"
             ],
             [
              1,
              "#f0f921"
             ]
            ],
            "type": "contour"
           }
          ],
          "contourcarpet": [
           {
            "colorbar": {
             "outlinewidth": 0,
             "ticks": ""
            },
            "type": "contourcarpet"
           }
          ],
          "heatmap": [
           {
            "colorbar": {
             "outlinewidth": 0,
             "ticks": ""
            },
            "colorscale": [
             [
              0,
              "#0d0887"
             ],
             [
              0.1111111111111111,
              "#46039f"
             ],
             [
              0.2222222222222222,
              "#7201a8"
             ],
             [
              0.3333333333333333,
              "#9c179e"
             ],
             [
              0.4444444444444444,
              "#bd3786"
             ],
             [
              0.5555555555555556,
              "#d8576b"
             ],
             [
              0.6666666666666666,
              "#ed7953"
             ],
             [
              0.7777777777777778,
              "#fb9f3a"
             ],
             [
              0.8888888888888888,
              "#fdca26"
             ],
             [
              1,
              "#f0f921"
             ]
            ],
            "type": "heatmap"
           }
          ],
          "heatmapgl": [
           {
            "colorbar": {
             "outlinewidth": 0,
             "ticks": ""
            },
            "colorscale": [
             [
              0,
              "#0d0887"
             ],
             [
              0.1111111111111111,
              "#46039f"
             ],
             [
              0.2222222222222222,
              "#7201a8"
             ],
             [
              0.3333333333333333,
              "#9c179e"
             ],
             [
              0.4444444444444444,
              "#bd3786"
             ],
             [
              0.5555555555555556,
              "#d8576b"
             ],
             [
              0.6666666666666666,
              "#ed7953"
             ],
             [
              0.7777777777777778,
              "#fb9f3a"
             ],
             [
              0.8888888888888888,
              "#fdca26"
             ],
             [
              1,
              "#f0f921"
             ]
            ],
            "type": "heatmapgl"
           }
          ],
          "histogram": [
           {
            "marker": {
             "pattern": {
              "fillmode": "overlay",
              "size": 10,
              "solidity": 0.2
             }
            },
            "type": "histogram"
           }
          ],
          "histogram2d": [
           {
            "colorbar": {
             "outlinewidth": 0,
             "ticks": ""
            },
            "colorscale": [
             [
              0,
              "#0d0887"
             ],
             [
              0.1111111111111111,
              "#46039f"
             ],
             [
              0.2222222222222222,
              "#7201a8"
             ],
             [
              0.3333333333333333,
              "#9c179e"
             ],
             [
              0.4444444444444444,
              "#bd3786"
             ],
             [
              0.5555555555555556,
              "#d8576b"
             ],
             [
              0.6666666666666666,
              "#ed7953"
             ],
             [
              0.7777777777777778,
              "#fb9f3a"
             ],
             [
              0.8888888888888888,
              "#fdca26"
             ],
             [
              1,
              "#f0f921"
             ]
            ],
            "type": "histogram2d"
           }
          ],
          "histogram2dcontour": [
           {
            "colorbar": {
             "outlinewidth": 0,
             "ticks": ""
            },
            "colorscale": [
             [
              0,
              "#0d0887"
             ],
             [
              0.1111111111111111,
              "#46039f"
             ],
             [
              0.2222222222222222,
              "#7201a8"
             ],
             [
              0.3333333333333333,
              "#9c179e"
             ],
             [
              0.4444444444444444,
              "#bd3786"
             ],
             [
              0.5555555555555556,
              "#d8576b"
             ],
             [
              0.6666666666666666,
              "#ed7953"
             ],
             [
              0.7777777777777778,
              "#fb9f3a"
             ],
             [
              0.8888888888888888,
              "#fdca26"
             ],
             [
              1,
              "#f0f921"
             ]
            ],
            "type": "histogram2dcontour"
           }
          ],
          "mesh3d": [
           {
            "colorbar": {
             "outlinewidth": 0,
             "ticks": ""
            },
            "type": "mesh3d"
           }
          ],
          "parcoords": [
           {
            "line": {
             "colorbar": {
              "outlinewidth": 0,
              "ticks": ""
             }
            },
            "type": "parcoords"
           }
          ],
          "pie": [
           {
            "automargin": true,
            "type": "pie"
           }
          ],
          "scatter": [
           {
            "fillpattern": {
             "fillmode": "overlay",
             "size": 10,
             "solidity": 0.2
            },
            "type": "scatter"
           }
          ],
          "scatter3d": [
           {
            "line": {
             "colorbar": {
              "outlinewidth": 0,
              "ticks": ""
             }
            },
            "marker": {
             "colorbar": {
              "outlinewidth": 0,
              "ticks": ""
             }
            },
            "type": "scatter3d"
           }
          ],
          "scattercarpet": [
           {
            "marker": {
             "colorbar": {
              "outlinewidth": 0,
              "ticks": ""
             }
            },
            "type": "scattercarpet"
           }
          ],
          "scattergeo": [
           {
            "marker": {
             "colorbar": {
              "outlinewidth": 0,
              "ticks": ""
             }
            },
            "type": "scattergeo"
           }
          ],
          "scattergl": [
           {
            "marker": {
             "colorbar": {
              "outlinewidth": 0,
              "ticks": ""
             }
            },
            "type": "scattergl"
           }
          ],
          "scattermapbox": [
           {
            "marker": {
             "colorbar": {
              "outlinewidth": 0,
              "ticks": ""
             }
            },
            "type": "scattermapbox"
           }
          ],
          "scatterpolar": [
           {
            "marker": {
             "colorbar": {
              "outlinewidth": 0,
              "ticks": ""
             }
            },
            "type": "scatterpolar"
           }
          ],
          "scatterpolargl": [
           {
            "marker": {
             "colorbar": {
              "outlinewidth": 0,
              "ticks": ""
             }
            },
            "type": "scatterpolargl"
           }
          ],
          "scatterternary": [
           {
            "marker": {
             "colorbar": {
              "outlinewidth": 0,
              "ticks": ""
             }
            },
            "type": "scatterternary"
           }
          ],
          "surface": [
           {
            "colorbar": {
             "outlinewidth": 0,
             "ticks": ""
            },
            "colorscale": [
             [
              0,
              "#0d0887"
             ],
             [
              0.1111111111111111,
              "#46039f"
             ],
             [
              0.2222222222222222,
              "#7201a8"
             ],
             [
              0.3333333333333333,
              "#9c179e"
             ],
             [
              0.4444444444444444,
              "#bd3786"
             ],
             [
              0.5555555555555556,
              "#d8576b"
             ],
             [
              0.6666666666666666,
              "#ed7953"
             ],
             [
              0.7777777777777778,
              "#fb9f3a"
             ],
             [
              0.8888888888888888,
              "#fdca26"
             ],
             [
              1,
              "#f0f921"
             ]
            ],
            "type": "surface"
           }
          ],
          "table": [
           {
            "cells": {
             "fill": {
              "color": "#EBF0F8"
             },
             "line": {
              "color": "white"
             }
            },
            "header": {
             "fill": {
              "color": "#C8D4E3"
             },
             "line": {
              "color": "white"
             }
            },
            "type": "table"
           }
          ]
         },
         "layout": {
          "annotationdefaults": {
           "arrowcolor": "#2a3f5f",
           "arrowhead": 0,
           "arrowwidth": 1
          },
          "autotypenumbers": "strict",
          "coloraxis": {
           "colorbar": {
            "outlinewidth": 0,
            "ticks": ""
           }
          },
          "colorscale": {
           "diverging": [
            [
             0,
             "#8e0152"
            ],
            [
             0.1,
             "#c51b7d"
            ],
            [
             0.2,
             "#de77ae"
            ],
            [
             0.3,
             "#f1b6da"
            ],
            [
             0.4,
             "#fde0ef"
            ],
            [
             0.5,
             "#f7f7f7"
            ],
            [
             0.6,
             "#e6f5d0"
            ],
            [
             0.7,
             "#b8e186"
            ],
            [
             0.8,
             "#7fbc41"
            ],
            [
             0.9,
             "#4d9221"
            ],
            [
             1,
             "#276419"
            ]
           ],
           "sequential": [
            [
             0,
             "#0d0887"
            ],
            [
             0.1111111111111111,
             "#46039f"
            ],
            [
             0.2222222222222222,
             "#7201a8"
            ],
            [
             0.3333333333333333,
             "#9c179e"
            ],
            [
             0.4444444444444444,
             "#bd3786"
            ],
            [
             0.5555555555555556,
             "#d8576b"
            ],
            [
             0.6666666666666666,
             "#ed7953"
            ],
            [
             0.7777777777777778,
             "#fb9f3a"
            ],
            [
             0.8888888888888888,
             "#fdca26"
            ],
            [
             1,
             "#f0f921"
            ]
           ],
           "sequentialminus": [
            [
             0,
             "#0d0887"
            ],
            [
             0.1111111111111111,
             "#46039f"
            ],
            [
             0.2222222222222222,
             "#7201a8"
            ],
            [
             0.3333333333333333,
             "#9c179e"
            ],
            [
             0.4444444444444444,
             "#bd3786"
            ],
            [
             0.5555555555555556,
             "#d8576b"
            ],
            [
             0.6666666666666666,
             "#ed7953"
            ],
            [
             0.7777777777777778,
             "#fb9f3a"
            ],
            [
             0.8888888888888888,
             "#fdca26"
            ],
            [
             1,
             "#f0f921"
            ]
           ]
          },
          "colorway": [
           "#636efa",
           "#EF553B",
           "#00cc96",
           "#ab63fa",
           "#FFA15A",
           "#19d3f3",
           "#FF6692",
           "#B6E880",
           "#FF97FF",
           "#FECB52"
          ],
          "font": {
           "color": "#2a3f5f"
          },
          "geo": {
           "bgcolor": "white",
           "lakecolor": "white",
           "landcolor": "#E5ECF6",
           "showlakes": true,
           "showland": true,
           "subunitcolor": "white"
          },
          "hoverlabel": {
           "align": "left"
          },
          "hovermode": "closest",
          "mapbox": {
           "style": "light"
          },
          "paper_bgcolor": "white",
          "plot_bgcolor": "#E5ECF6",
          "polar": {
           "angularaxis": {
            "gridcolor": "white",
            "linecolor": "white",
            "ticks": ""
           },
           "bgcolor": "#E5ECF6",
           "radialaxis": {
            "gridcolor": "white",
            "linecolor": "white",
            "ticks": ""
           }
          },
          "scene": {
           "xaxis": {
            "backgroundcolor": "#E5ECF6",
            "gridcolor": "white",
            "gridwidth": 2,
            "linecolor": "white",
            "showbackground": true,
            "ticks": "",
            "zerolinecolor": "white"
           },
           "yaxis": {
            "backgroundcolor": "#E5ECF6",
            "gridcolor": "white",
            "gridwidth": 2,
            "linecolor": "white",
            "showbackground": true,
            "ticks": "",
            "zerolinecolor": "white"
           },
           "zaxis": {
            "backgroundcolor": "#E5ECF6",
            "gridcolor": "white",
            "gridwidth": 2,
            "linecolor": "white",
            "showbackground": true,
            "ticks": "",
            "zerolinecolor": "white"
           }
          },
          "shapedefaults": {
           "line": {
            "color": "#2a3f5f"
           }
          },
          "ternary": {
           "aaxis": {
            "gridcolor": "white",
            "linecolor": "white",
            "ticks": ""
           },
           "baxis": {
            "gridcolor": "white",
            "linecolor": "white",
            "ticks": ""
           },
           "bgcolor": "#E5ECF6",
           "caxis": {
            "gridcolor": "white",
            "linecolor": "white",
            "ticks": ""
           }
          },
          "title": {
           "x": 0.05
          },
          "xaxis": {
           "automargin": true,
           "gridcolor": "white",
           "linecolor": "white",
           "ticks": "",
           "title": {
            "standoff": 15
           },
           "zerolinecolor": "white",
           "zerolinewidth": 2
          },
          "yaxis": {
           "automargin": true,
           "gridcolor": "white",
           "linecolor": "white",
           "ticks": "",
           "title": {
            "standoff": 15
           },
           "zerolinecolor": "white",
           "zerolinewidth": 2
          }
         }
        },
        "xaxis": {
         "anchor": "y",
         "domain": [
          0,
          1
         ],
         "title": {
          "text": "duration"
         }
        },
        "yaxis": {
         "anchor": "x",
         "domain": [
          0,
          1
         ],
         "title": {
          "text": "name"
         }
        }
       }
      }
     },
     "metadata": {},
     "output_type": "display_data"
    }
   ],
   "source": [
    "# Visualize top 10\n",
    "px.bar(top_10_duration, x = 'duration', y = 'name', hover_data= ['artists', 'explicit', 'popularity'], orientation='h')"
   ]
  },
  {
   "cell_type": "code",
   "execution_count": 9,
   "metadata": {},
   "outputs": [
    {
     "data": {
      "application/vnd.plotly.v1+json": {
       "config": {
        "plotlyServerURL": "https://plot.ly"
       },
       "data": [
        {
         "alignmentgroup": "True",
         "bingroup": "x",
         "hovertemplate": "duration=%{x}<br>count=%{y}<extra></extra>",
         "legendgroup": "",
         "marker": {
          "color": "#636efa",
          "pattern": {
           "shape": ""
          }
         },
         "name": "",
         "offsetgroup": "",
         "orientation": "v",
         "showlegend": false,
         "type": "histogram",
         "x": [
          "01:57",
          "01:57",
          "02:00",
          "02:13",
          "02:19",
          "02:23",
          "02:23",
          "02:24",
          "02:26",
          "02:30",
          "02:32",
          "02:37",
          "02:38",
          "02:38",
          "02:39",
          "02:39",
          "02:39",
          "02:40",
          "02:40",
          "02:40",
          "02:40",
          "02:43",
          "02:43",
          "02:43",
          "02:45",
          "02:48",
          "02:49",
          "02:49",
          "02:49",
          "02:51",
          "02:51",
          "02:51",
          "02:51",
          "02:52",
          "02:52",
          "02:52",
          "02:53",
          "02:53",
          "02:53",
          "02:54",
          "02:54",
          "02:54",
          "02:54",
          "02:54",
          "02:55",
          "02:56",
          "02:58",
          "02:59",
          "02:59",
          "02:59",
          "02:59",
          "02:59",
          "02:59",
          "03:00",
          "03:00",
          "03:01",
          "03:01",
          "03:01",
          "03:01",
          "03:01",
          "03:02",
          "03:02",
          "03:02",
          "03:02",
          "03:02",
          "03:02",
          "03:02",
          "03:03",
          "03:03",
          "03:04",
          "03:04",
          "03:04",
          "03:04",
          "03:04",
          "03:04",
          "03:04",
          "03:04",
          "03:05",
          "03:05",
          "03:05",
          "03:06",
          "03:06",
          "03:06",
          "03:07",
          "03:07",
          "03:08",
          "03:08",
          "03:08",
          "03:08",
          "03:09",
          "03:09",
          "03:09",
          "03:10",
          "03:10",
          "03:10",
          "03:10",
          "03:11",
          "03:11",
          "03:11",
          "03:12",
          "03:12",
          "03:12",
          "03:12",
          "03:12",
          "03:12",
          "03:12",
          "03:12",
          "03:12",
          "03:12",
          "03:12",
          "03:12",
          "03:13",
          "03:13",
          "03:13",
          "03:13",
          "03:13",
          "03:13",
          "03:14",
          "03:14",
          "03:14",
          "03:14",
          "03:14",
          "03:14",
          "03:15",
          "03:15",
          "03:16",
          "03:16",
          "03:16",
          "03:16",
          "03:16",
          "03:16",
          "03:16",
          "03:16",
          "03:17",
          "03:17",
          "03:17",
          "03:17",
          "03:17",
          "03:17",
          "03:17",
          "03:18",
          "03:18",
          "03:19",
          "03:19",
          "03:19",
          "03:20",
          "03:20",
          "03:20",
          "03:20",
          "03:21",
          "03:21",
          "03:21",
          "03:21",
          "03:21",
          "03:21",
          "03:22",
          "03:22",
          "03:22",
          "03:22",
          "03:23",
          "03:23",
          "03:23",
          "03:23",
          "03:23",
          "03:23",
          "03:24",
          "03:24",
          "03:24",
          "03:24",
          "03:25",
          "03:25",
          "03:25",
          "03:25",
          "03:26",
          "03:26",
          "03:26",
          "03:26",
          "03:26",
          "03:27",
          "03:27",
          "03:27",
          "03:27",
          "03:27",
          "03:27",
          "03:27",
          "03:27",
          "03:27",
          "03:27",
          "03:28",
          "03:29",
          "03:29",
          "03:29",
          "03:29",
          "03:29",
          "03:29",
          "03:31",
          "03:31",
          "03:31",
          "03:32",
          "03:32",
          "03:32",
          "03:32",
          "03:32",
          "03:32",
          "03:32",
          "03:32",
          "03:33",
          "03:33",
          "03:33",
          "03:33",
          "03:33",
          "03:34",
          "03:34",
          "03:34",
          "03:35",
          "03:35",
          "03:36",
          "03:37",
          "03:37",
          "03:37",
          "03:37",
          "03:37",
          "03:37",
          "03:38",
          "03:38",
          "03:39",
          "03:39",
          "03:39",
          "03:39",
          "03:39",
          "03:40",
          "03:41",
          "03:41",
          "03:41",
          "03:41",
          "03:41",
          "03:41",
          "03:41",
          "03:41",
          "03:42",
          "03:42",
          "03:42",
          "03:42",
          "03:42",
          "03:42",
          "03:43",
          "03:43",
          "03:43",
          "03:43",
          "03:43",
          "03:43",
          "03:43",
          "03:44",
          "03:45",
          "03:45",
          "03:45",
          "03:46",
          "03:46",
          "03:46",
          "03:46",
          "03:46",
          "03:47",
          "03:47",
          "03:47",
          "03:47",
          "03:48",
          "03:48",
          "03:49",
          "03:49",
          "03:50",
          "03:50",
          "03:50",
          "03:51",
          "03:51",
          "03:51",
          "03:51",
          "03:52",
          "03:52",
          "03:53",
          "03:53",
          "03:54",
          "03:55",
          "03:55",
          "03:56",
          "03:56",
          "03:56",
          "03:57",
          "03:57",
          "03:57",
          "03:58",
          "03:58",
          "03:58",
          "03:58",
          "03:59",
          "03:59",
          "04:00",
          "04:00",
          "04:00",
          "04:00",
          "04:00",
          "04:01",
          "04:01",
          "04:01",
          "04:01",
          "04:01",
          "04:01",
          "04:03",
          "04:04",
          "04:05",
          "04:05",
          "04:06",
          "04:06",
          "04:06",
          "04:07",
          "04:07",
          "04:08",
          "04:09",
          "04:09",
          "04:10",
          "04:10",
          "04:10",
          "04:11",
          "04:11",
          "04:11",
          "04:11",
          "04:13",
          "04:15",
          "04:15",
          "04:18",
          "04:20",
          "04:21",
          "04:21",
          "04:21",
          "04:21",
          "04:21",
          "04:21",
          "04:21",
          "04:21",
          "04:24",
          "04:24",
          "04:25",
          "04:26",
          "04:28",
          "04:29",
          "04:30",
          "04:30",
          "04:30",
          "04:33",
          "04:33",
          "04:35",
          "04:35",
          "04:37",
          "04:40",
          "04:40",
          "04:43",
          "04:43",
          "04:44",
          "04:48",
          "04:50",
          "04:51",
          "04:51",
          "04:52",
          "05:01",
          "05:01",
          "05:01",
          "05:01",
          "05:02",
          "05:02",
          "05:04",
          "05:07",
          "05:11",
          "05:11",
          "05:14",
          "05:14",
          "05:25",
          "05:25",
          "05:46",
          "05:49",
          "07:03",
          "07:03",
          "09:40",
          "09:40",
          "11:39"
         ],
         "xaxis": "x",
         "yaxis": "y"
        }
       ],
       "layout": {
        "barmode": "relative",
        "legend": {
         "tracegroupgap": 0
        },
        "margin": {
         "t": 60
        },
        "template": {
         "data": {
          "bar": [
           {
            "error_x": {
             "color": "#2a3f5f"
            },
            "error_y": {
             "color": "#2a3f5f"
            },
            "marker": {
             "line": {
              "color": "#E5ECF6",
              "width": 0.5
             },
             "pattern": {
              "fillmode": "overlay",
              "size": 10,
              "solidity": 0.2
             }
            },
            "type": "bar"
           }
          ],
          "barpolar": [
           {
            "marker": {
             "line": {
              "color": "#E5ECF6",
              "width": 0.5
             },
             "pattern": {
              "fillmode": "overlay",
              "size": 10,
              "solidity": 0.2
             }
            },
            "type": "barpolar"
           }
          ],
          "carpet": [
           {
            "aaxis": {
             "endlinecolor": "#2a3f5f",
             "gridcolor": "white",
             "linecolor": "white",
             "minorgridcolor": "white",
             "startlinecolor": "#2a3f5f"
            },
            "baxis": {
             "endlinecolor": "#2a3f5f",
             "gridcolor": "white",
             "linecolor": "white",
             "minorgridcolor": "white",
             "startlinecolor": "#2a3f5f"
            },
            "type": "carpet"
           }
          ],
          "choropleth": [
           {
            "colorbar": {
             "outlinewidth": 0,
             "ticks": ""
            },
            "type": "choropleth"
           }
          ],
          "contour": [
           {
            "colorbar": {
             "outlinewidth": 0,
             "ticks": ""
            },
            "colorscale": [
             [
              0,
              "#0d0887"
             ],
             [
              0.1111111111111111,
              "#46039f"
             ],
             [
              0.2222222222222222,
              "#7201a8"
             ],
             [
              0.3333333333333333,
              "#9c179e"
             ],
             [
              0.4444444444444444,
              "#bd3786"
             ],
             [
              0.5555555555555556,
              "#d8576b"
             ],
             [
              0.6666666666666666,
              "#ed7953"
             ],
             [
              0.7777777777777778,
              "#fb9f3a"
             ],
             [
              0.8888888888888888,
              "#fdca26"
             ],
             [
              1,
              "#f0f921"
             ]
            ],
            "type": "contour"
           }
          ],
          "contourcarpet": [
           {
            "colorbar": {
             "outlinewidth": 0,
             "ticks": ""
            },
            "type": "contourcarpet"
           }
          ],
          "heatmap": [
           {
            "colorbar": {
             "outlinewidth": 0,
             "ticks": ""
            },
            "colorscale": [
             [
              0,
              "#0d0887"
             ],
             [
              0.1111111111111111,
              "#46039f"
             ],
             [
              0.2222222222222222,
              "#7201a8"
             ],
             [
              0.3333333333333333,
              "#9c179e"
             ],
             [
              0.4444444444444444,
              "#bd3786"
             ],
             [
              0.5555555555555556,
              "#d8576b"
             ],
             [
              0.6666666666666666,
              "#ed7953"
             ],
             [
              0.7777777777777778,
              "#fb9f3a"
             ],
             [
              0.8888888888888888,
              "#fdca26"
             ],
             [
              1,
              "#f0f921"
             ]
            ],
            "type": "heatmap"
           }
          ],
          "heatmapgl": [
           {
            "colorbar": {
             "outlinewidth": 0,
             "ticks": ""
            },
            "colorscale": [
             [
              0,
              "#0d0887"
             ],
             [
              0.1111111111111111,
              "#46039f"
             ],
             [
              0.2222222222222222,
              "#7201a8"
             ],
             [
              0.3333333333333333,
              "#9c179e"
             ],
             [
              0.4444444444444444,
              "#bd3786"
             ],
             [
              0.5555555555555556,
              "#d8576b"
             ],
             [
              0.6666666666666666,
              "#ed7953"
             ],
             [
              0.7777777777777778,
              "#fb9f3a"
             ],
             [
              0.8888888888888888,
              "#fdca26"
             ],
             [
              1,
              "#f0f921"
             ]
            ],
            "type": "heatmapgl"
           }
          ],
          "histogram": [
           {
            "marker": {
             "pattern": {
              "fillmode": "overlay",
              "size": 10,
              "solidity": 0.2
             }
            },
            "type": "histogram"
           }
          ],
          "histogram2d": [
           {
            "colorbar": {
             "outlinewidth": 0,
             "ticks": ""
            },
            "colorscale": [
             [
              0,
              "#0d0887"
             ],
             [
              0.1111111111111111,
              "#46039f"
             ],
             [
              0.2222222222222222,
              "#7201a8"
             ],
             [
              0.3333333333333333,
              "#9c179e"
             ],
             [
              0.4444444444444444,
              "#bd3786"
             ],
             [
              0.5555555555555556,
              "#d8576b"
             ],
             [
              0.6666666666666666,
              "#ed7953"
             ],
             [
              0.7777777777777778,
              "#fb9f3a"
             ],
             [
              0.8888888888888888,
              "#fdca26"
             ],
             [
              1,
              "#f0f921"
             ]
            ],
            "type": "histogram2d"
           }
          ],
          "histogram2dcontour": [
           {
            "colorbar": {
             "outlinewidth": 0,
             "ticks": ""
            },
            "colorscale": [
             [
              0,
              "#0d0887"
             ],
             [
              0.1111111111111111,
              "#46039f"
             ],
             [
              0.2222222222222222,
              "#7201a8"
             ],
             [
              0.3333333333333333,
              "#9c179e"
             ],
             [
              0.4444444444444444,
              "#bd3786"
             ],
             [
              0.5555555555555556,
              "#d8576b"
             ],
             [
              0.6666666666666666,
              "#ed7953"
             ],
             [
              0.7777777777777778,
              "#fb9f3a"
             ],
             [
              0.8888888888888888,
              "#fdca26"
             ],
             [
              1,
              "#f0f921"
             ]
            ],
            "type": "histogram2dcontour"
           }
          ],
          "mesh3d": [
           {
            "colorbar": {
             "outlinewidth": 0,
             "ticks": ""
            },
            "type": "mesh3d"
           }
          ],
          "parcoords": [
           {
            "line": {
             "colorbar": {
              "outlinewidth": 0,
              "ticks": ""
             }
            },
            "type": "parcoords"
           }
          ],
          "pie": [
           {
            "automargin": true,
            "type": "pie"
           }
          ],
          "scatter": [
           {
            "fillpattern": {
             "fillmode": "overlay",
             "size": 10,
             "solidity": 0.2
            },
            "type": "scatter"
           }
          ],
          "scatter3d": [
           {
            "line": {
             "colorbar": {
              "outlinewidth": 0,
              "ticks": ""
             }
            },
            "marker": {
             "colorbar": {
              "outlinewidth": 0,
              "ticks": ""
             }
            },
            "type": "scatter3d"
           }
          ],
          "scattercarpet": [
           {
            "marker": {
             "colorbar": {
              "outlinewidth": 0,
              "ticks": ""
             }
            },
            "type": "scattercarpet"
           }
          ],
          "scattergeo": [
           {
            "marker": {
             "colorbar": {
              "outlinewidth": 0,
              "ticks": ""
             }
            },
            "type": "scattergeo"
           }
          ],
          "scattergl": [
           {
            "marker": {
             "colorbar": {
              "outlinewidth": 0,
              "ticks": ""
             }
            },
            "type": "scattergl"
           }
          ],
          "scattermapbox": [
           {
            "marker": {
             "colorbar": {
              "outlinewidth": 0,
              "ticks": ""
             }
            },
            "type": "scattermapbox"
           }
          ],
          "scatterpolar": [
           {
            "marker": {
             "colorbar": {
              "outlinewidth": 0,
              "ticks": ""
             }
            },
            "type": "scatterpolar"
           }
          ],
          "scatterpolargl": [
           {
            "marker": {
             "colorbar": {
              "outlinewidth": 0,
              "ticks": ""
             }
            },
            "type": "scatterpolargl"
           }
          ],
          "scatterternary": [
           {
            "marker": {
             "colorbar": {
              "outlinewidth": 0,
              "ticks": ""
             }
            },
            "type": "scatterternary"
           }
          ],
          "surface": [
           {
            "colorbar": {
             "outlinewidth": 0,
             "ticks": ""
            },
            "colorscale": [
             [
              0,
              "#0d0887"
             ],
             [
              0.1111111111111111,
              "#46039f"
             ],
             [
              0.2222222222222222,
              "#7201a8"
             ],
             [
              0.3333333333333333,
              "#9c179e"
             ],
             [
              0.4444444444444444,
              "#bd3786"
             ],
             [
              0.5555555555555556,
              "#d8576b"
             ],
             [
              0.6666666666666666,
              "#ed7953"
             ],
             [
              0.7777777777777778,
              "#fb9f3a"
             ],
             [
              0.8888888888888888,
              "#fdca26"
             ],
             [
              1,
              "#f0f921"
             ]
            ],
            "type": "surface"
           }
          ],
          "table": [
           {
            "cells": {
             "fill": {
              "color": "#EBF0F8"
             },
             "line": {
              "color": "white"
             }
            },
            "header": {
             "fill": {
              "color": "#C8D4E3"
             },
             "line": {
              "color": "white"
             }
            },
            "type": "table"
           }
          ]
         },
         "layout": {
          "annotationdefaults": {
           "arrowcolor": "#2a3f5f",
           "arrowhead": 0,
           "arrowwidth": 1
          },
          "autotypenumbers": "strict",
          "coloraxis": {
           "colorbar": {
            "outlinewidth": 0,
            "ticks": ""
           }
          },
          "colorscale": {
           "diverging": [
            [
             0,
             "#8e0152"
            ],
            [
             0.1,
             "#c51b7d"
            ],
            [
             0.2,
             "#de77ae"
            ],
            [
             0.3,
             "#f1b6da"
            ],
            [
             0.4,
             "#fde0ef"
            ],
            [
             0.5,
             "#f7f7f7"
            ],
            [
             0.6,
             "#e6f5d0"
            ],
            [
             0.7,
             "#b8e186"
            ],
            [
             0.8,
             "#7fbc41"
            ],
            [
             0.9,
             "#4d9221"
            ],
            [
             1,
             "#276419"
            ]
           ],
           "sequential": [
            [
             0,
             "#0d0887"
            ],
            [
             0.1111111111111111,
             "#46039f"
            ],
            [
             0.2222222222222222,
             "#7201a8"
            ],
            [
             0.3333333333333333,
             "#9c179e"
            ],
            [
             0.4444444444444444,
             "#bd3786"
            ],
            [
             0.5555555555555556,
             "#d8576b"
            ],
            [
             0.6666666666666666,
             "#ed7953"
            ],
            [
             0.7777777777777778,
             "#fb9f3a"
            ],
            [
             0.8888888888888888,
             "#fdca26"
            ],
            [
             1,
             "#f0f921"
            ]
           ],
           "sequentialminus": [
            [
             0,
             "#0d0887"
            ],
            [
             0.1111111111111111,
             "#46039f"
            ],
            [
             0.2222222222222222,
             "#7201a8"
            ],
            [
             0.3333333333333333,
             "#9c179e"
            ],
            [
             0.4444444444444444,
             "#bd3786"
            ],
            [
             0.5555555555555556,
             "#d8576b"
            ],
            [
             0.6666666666666666,
             "#ed7953"
            ],
            [
             0.7777777777777778,
             "#fb9f3a"
            ],
            [
             0.8888888888888888,
             "#fdca26"
            ],
            [
             1,
             "#f0f921"
            ]
           ]
          },
          "colorway": [
           "#636efa",
           "#EF553B",
           "#00cc96",
           "#ab63fa",
           "#FFA15A",
           "#19d3f3",
           "#FF6692",
           "#B6E880",
           "#FF97FF",
           "#FECB52"
          ],
          "font": {
           "color": "#2a3f5f"
          },
          "geo": {
           "bgcolor": "white",
           "lakecolor": "white",
           "landcolor": "#E5ECF6",
           "showlakes": true,
           "showland": true,
           "subunitcolor": "white"
          },
          "hoverlabel": {
           "align": "left"
          },
          "hovermode": "closest",
          "mapbox": {
           "style": "light"
          },
          "paper_bgcolor": "white",
          "plot_bgcolor": "#E5ECF6",
          "polar": {
           "angularaxis": {
            "gridcolor": "white",
            "linecolor": "white",
            "ticks": ""
           },
           "bgcolor": "#E5ECF6",
           "radialaxis": {
            "gridcolor": "white",
            "linecolor": "white",
            "ticks": ""
           }
          },
          "scene": {
           "xaxis": {
            "backgroundcolor": "#E5ECF6",
            "gridcolor": "white",
            "gridwidth": 2,
            "linecolor": "white",
            "showbackground": true,
            "ticks": "",
            "zerolinecolor": "white"
           },
           "yaxis": {
            "backgroundcolor": "#E5ECF6",
            "gridcolor": "white",
            "gridwidth": 2,
            "linecolor": "white",
            "showbackground": true,
            "ticks": "",
            "zerolinecolor": "white"
           },
           "zaxis": {
            "backgroundcolor": "#E5ECF6",
            "gridcolor": "white",
            "gridwidth": 2,
            "linecolor": "white",
            "showbackground": true,
            "ticks": "",
            "zerolinecolor": "white"
           }
          },
          "shapedefaults": {
           "line": {
            "color": "#2a3f5f"
           }
          },
          "ternary": {
           "aaxis": {
            "gridcolor": "white",
            "linecolor": "white",
            "ticks": ""
           },
           "baxis": {
            "gridcolor": "white",
            "linecolor": "white",
            "ticks": ""
           },
           "bgcolor": "#E5ECF6",
           "caxis": {
            "gridcolor": "white",
            "linecolor": "white",
            "ticks": ""
           }
          },
          "title": {
           "x": 0.05
          },
          "xaxis": {
           "automargin": true,
           "gridcolor": "white",
           "linecolor": "white",
           "ticks": "",
           "title": {
            "standoff": 15
           },
           "zerolinecolor": "white",
           "zerolinewidth": 2
          },
          "yaxis": {
           "automargin": true,
           "gridcolor": "white",
           "linecolor": "white",
           "ticks": "",
           "title": {
            "standoff": 15
           },
           "zerolinecolor": "white",
           "zerolinewidth": 2
          }
         }
        },
        "xaxis": {
         "anchor": "y",
         "domain": [
          0,
          1
         ],
         "title": {
          "text": "duration"
         }
        },
        "yaxis": {
         "anchor": "x",
         "domain": [
          0,
          1
         ],
         "title": {
          "text": "count"
         }
        }
       }
      }
     },
     "metadata": {},
     "output_type": "display_data"
    }
   ],
   "source": [
    "# Visualize duration of all songs\n",
    "px.histogram(merge.sort_values(by = 'duration'), x = 'duration', hover_data=['name', 'artists', 'album'])"
   ]
  },
  {
   "attachments": {},
   "cell_type": "markdown",
   "metadata": {},
   "source": [
    "## Popularity"
   ]
  },
  {
   "attachments": {},
   "cell_type": "markdown",
   "metadata": {},
   "source": [
    "### Which playlist contains more popular music?\n"
   ]
  },
  {
   "attachments": {},
   "cell_type": "markdown",
   "metadata": {},
   "source": [
    "We can view the playlists with duplicated data or with singular songs in it. \n",
    "\n",
    "We could argue that the playlist data from multiple users, therefore leaving in duplicates allows insight into the total popularity of a song. However, we could also argue that leaving in duplicate values detaches us from the real popularity of each playlist. For this assesment, I chose to leave in duplicates."
   ]
  },
  {
   "cell_type": "code",
   "execution_count": 10,
   "metadata": {},
   "outputs": [
    {
     "name": "stdout",
     "output_type": "stream",
     "text": [
      "Playlist 1 contains a total popularity score of 8788\n",
      "Playlist 2 contains a total popularity score of 10878\n",
      "Playlist 2 has a higher total popularity score, totaling 10878, which is higher than Playlist 1 by 2090\n"
     ]
    }
   ],
   "source": [
    "#Popularity is an integer column. We can sum up the values in each column and compare to one another\n",
    "p1_pop = playlist_1['popularity'].sum()\n",
    "p2_pop = playlist_2['popularity'].sum()\n",
    "\n",
    "print(f'Playlist 1 contains a total popularity score of {p1_pop}\\nPlaylist 2 contains a total popularity score of {p2_pop}')\n",
    "print(f'Playlist 2 has a higher total popularity score, totaling {p2_pop}, which is higher than Playlist 1 by {p2_pop - p1_pop}')"
   ]
  },
  {
   "attachments": {},
   "cell_type": "markdown",
   "metadata": {},
   "source": [
    "### Create a visualization of song popularity"
   ]
  },
  {
   "cell_type": "code",
   "execution_count": 11,
   "metadata": {},
   "outputs": [
    {
     "data": {
      "application/vnd.plotly.v1+json": {
       "config": {
        "plotlyServerURL": "https://plot.ly"
       },
       "data": [
        {
         "alignmentgroup": "True",
         "bingroup": "y",
         "histfunc": "sum",
         "hovertemplate": "sum of popularity=%{x}<br>name=%{y}<extra></extra>",
         "legendgroup": "",
         "marker": {
          "color": "#636efa",
          "pattern": {
           "shape": ""
          }
         },
         "name": "",
         "offsetgroup": "",
         "orientation": "h",
         "showlegend": false,
         "type": "histogram",
         "x": [
          54,
          66,
          66,
          53,
          61,
          56,
          57,
          56,
          59,
          43,
          59,
          7,
          20,
          49,
          61,
          24,
          45,
          60,
          51,
          48,
          55,
          53,
          37,
          57,
          61,
          62,
          63,
          66,
          66,
          66,
          51,
          49,
          59,
          59,
          79,
          69,
          19,
          66,
          61,
          61,
          61,
          61,
          0,
          0,
          0,
          54,
          54,
          54,
          54,
          54,
          54,
          43,
          43,
          61,
          61,
          61,
          61,
          47,
          47,
          47,
          60,
          60,
          60,
          60,
          52,
          52,
          1,
          1,
          1,
          64,
          29,
          51,
          72,
          37,
          41,
          41,
          41,
          41,
          59,
          59,
          58,
          58,
          0,
          0,
          67,
          67,
          68,
          68,
          48,
          48,
          66,
          0,
          0,
          61,
          61,
          0,
          0,
          34,
          65,
          0,
          14,
          34,
          0,
          0,
          39,
          26,
          0,
          43,
          54,
          0,
          47,
          0,
          37,
          0,
          0,
          56,
          61,
          83,
          55,
          0,
          0,
          0,
          0,
          51,
          51,
          0,
          0,
          72,
          72,
          76,
          76,
          81,
          81,
          0,
          68,
          76,
          0,
          0,
          0,
          47,
          47,
          56,
          51,
          0,
          0,
          75,
          0,
          0,
          73,
          57,
          45,
          0,
          42,
          55,
          58,
          59,
          42,
          54,
          68,
          48,
          0,
          64,
          0,
          50,
          61,
          45,
          81,
          68,
          0,
          44,
          62,
          56,
          78,
          0,
          71,
          86,
          80,
          0,
          58,
          73,
          63,
          17,
          2,
          56,
          1,
          3,
          0,
          57,
          46,
          74,
          0,
          22,
          43,
          52,
          50,
          56,
          45,
          56,
          36,
          39,
          36,
          51,
          32,
          36,
          33,
          37,
          34,
          31,
          29,
          31,
          30,
          30,
          36,
          50,
          46,
          43,
          35,
          0,
          45,
          46,
          0,
          56,
          37,
          0,
          53,
          57,
          62,
          41,
          41,
          59,
          56,
          57,
          49,
          43,
          43,
          55,
          44,
          47,
          36,
          39,
          73,
          73,
          50,
          53,
          63,
          44,
          41,
          41,
          42,
          57,
          66,
          66,
          49,
          73,
          49,
          49,
          54,
          54,
          70,
          54,
          69,
          69,
          49,
          49,
          51,
          57,
          52,
          52,
          62,
          62,
          55,
          49,
          49,
          55,
          55,
          70,
          70,
          65,
          65,
          57,
          57,
          72,
          75,
          40,
          40,
          66,
          66,
          82,
          82,
          48,
          48,
          61,
          41,
          54,
          46,
          46,
          55,
          55,
          49,
          49,
          79,
          79,
          57,
          57,
          63,
          63,
          68,
          68,
          55,
          55,
          69,
          50,
          59,
          59,
          70,
          70,
          65,
          65,
          62,
          59,
          59,
          35,
          57,
          57,
          72,
          72,
          59,
          74,
          74,
          63,
          63,
          64,
          64,
          75,
          75,
          62,
          62,
          76,
          0,
          62,
          41,
          39,
          44,
          65,
          0,
          42,
          73,
          59,
          30,
          36,
          69,
          38,
          63,
          73,
          46,
          70,
          0,
          43,
          62,
          50,
          46,
          69,
          64,
          52,
          55,
          68,
          52,
          35,
          0,
          82,
          85,
          16,
          59,
          53,
          68,
          15,
          73,
          0,
          42,
          46,
          0,
          59,
          30
         ],
         "xaxis": "x",
         "y": [
          "Hey Mami",
          "Skin",
          "Eyes on Fire",
          "Can't Hide",
          "Coffee",
          "Oh Devil",
          "Crush",
          "Young Hearts",
          "Guru",
          "Santa Fe",
          "anemone",
          "Lonely Lullabies",
          "Powerlines",
          "I Dreamt We Spoke Again - Louis the Child Remix",
          "Good Nights (feat. Mascolo)",
          "She Said",
          "Dress",
          "BOTTOM OF THE BOTTLE",
          "Uncatena",
          "Napkins",
          "Story",
          "Coins",
          "Mother May I Sleep With Danger? - A COLORS SHOW",
          "Sober",
          "Coming Alive",
          "Summer's Gone",
          "Cold War",
          "Electric (feat. Khalid)",
          "Electric (feat. Khalid)",
          "Electric (feat. Khalid)",
          "gray",
          "Ocean",
          "Roll The Bones - Audiotree Live Version",
          "Roll The Bones - Audiotree Live Version",
          "Way down We Go",
          "All the Pretty Girls",
          "Woman",
          "Balance ton quoi",
          "Pink Skies (Demo)",
          "Pink Skies (Demo)",
          "Pink Skies (Demo)",
          "Pink Skies (Demo)",
          "Drift",
          "Drift",
          "Drift",
          "Grey Luh",
          "Grey Luh",
          "Grey Luh",
          "Grey Luh",
          "Grey Luh",
          "Grey Luh",
          "Sweat and Smokes",
          "Sweat and Smokes",
          "Leftovers",
          "Leftovers",
          "Leftovers",
          "Leftovers",
          "Angel of Small Death and the Codeine Scene",
          "Angel of Small Death and the Codeine Scene",
          "Angel of Small Death and the Codeine Scene",
          "Lolita",
          "Lolita",
          "Lolita",
          "Lolita",
          "something more",
          "something more",
          "Skinny Love",
          "Skinny Love",
          "Skinny Love",
          "From Eden",
          "Beige",
          "Six Speed",
          "Dance Monkey",
          "Saisons",
          "Motel",
          "Motel",
          "Old School Turntables",
          "Old School Turntables",
          "Prone",
          "Prone",
          "Sex n' Drugs",
          "Sex n' Drugs",
          "Tadow",
          "Tadow",
          "Blue Lights",
          "Blue Lights",
          "Navajo",
          "Navajo",
          "Alaska",
          "Alaska",
          "Crack Rock",
          "Still Beating",
          "Still Beating",
          "Flare Guns",
          "Flare Guns",
          "Can't Buy the Mood",
          "Paramount",
          "About Girls",
          "Photosynthesis",
          "treasure this life!",
          "Thank You",
          "Used To You",
          "Shaky in the Knees",
          "Filme moi",
          "Salvador Dali",
          "Cinnamon Girl",
          "Coming Alive",
          "BŭRGŭNDí",
          "Waiting for You",
          "Van Gogh",
          "Somebody to Love",
          "Cool Again",
          "Worry Bout A Thing",
          "Sex on Drugs",
          "Let Go Today",
          "Baby Blue",
          "Across The Room (feat. Leon Bridges)",
          "Wait a Minute!",
          "Taro",
          "Coming Over",
          "Coming Over",
          "Stolen Dance",
          "Stolen Dance",
          "Right Where You Should Be (feat. Ashe & Louis Futon)",
          "Right Where You Should Be (feat. Ashe & Louis Futon)",
          "Ode to Viceroy",
          "Ode to Viceroy",
          "Breezeblocks",
          "Breezeblocks",
          "wish you were gay",
          "wish you were gay",
          "idontwannabeyouanymore",
          "idontwannabeyouanymore",
          "Alien Boy",
          "Trampoline (with ZAYN)",
          "Goodie Bag",
          "Low Tide",
          "AF1s",
          "slow down my thoughts",
          "Swing Swing",
          "Swing Swing",
          "Going up the Coast",
          "Lavish Lullaby",
          "Wait",
          "Fool",
          "Blue World",
          "Deviate",
          "Budapest",
          "The Weekend - Funk Wav Remix",
          "California",
          "Runaway (feat. Khalid)",
          "Pulling Me Under",
          "Monkey Tree - UK Mix",
          "Paradise",
          "My Bad",
          "Bad Luck",
          "Messy",
          "Only Child",
          "Talk",
          "Cleopatra",
          "Another Day in Paradise",
          "Provider",
          "Full Circle",
          "Lost in Paris",
          "Straightjacket",
          "You're On My Mind",
          "Novacane",
          "All Time Low",
          "FFYL",
          "How I Feel",
          "Juke Jam (feat. Justin Bieber & Towkio)",
          "Summer Friends (feat. Jeremih & Francis & The Lights)",
          "Thinkin Bout You",
          "Talk Is Cheap",
          "Nikes",
          "Pink + White",
          "Ivy",
          "Stung",
          "Overwhelming",
          "Lost Boy",
          "Gold",
          "Hide Away",
          "Here",
          "The One",
          "My Kind of Woman",
          "Chamber Of Reflection",
          "One More Love Song",
          "Get You Good",
          "Middle Finger",
          "Love Lies (with Normani)",
          "She Needed Me",
          "Twenty//Three",
          "Holding Hands (feat. Elohim)",
          "Autopilot",
          "Life Must Go On",
          "U & Us",
          "Werewolf (feat. Yoshi Flower)",
          "Tough (feat. Noah Kahan)",
          "Matches",
          "When I Die",
          "Abel & Cain",
          "Good Thing Go",
          "Intro (Slow)",
          "Straightjacket",
          "Worst",
          "Flare Guns",
          "Fake Denim",
          "Don't You",
          "60 Seconds",
          "Walls",
          "Tourist",
          "One Day At A Time",
          "Always Been You",
          "Candle",
          "Iron & Steel",
          "What The Hell Happened To Us",
          "Before It Burned",
          "Coloring",
          "We Won't",
          "Foreigner's God",
          "Sick Fool",
          "Work Song",
          "Naked",
          "Barcelona",
          "May I Have This Dance (Remix) [feat. Chance the Rapper]",
          "Vertigo",
          "Disaster (feat. J Hus)",
          "Wenn du mich brauchst",
          "Wenn du mich brauchst",
          "Angetenar",
          "Fuck No (feat. Brasstracks & PhiloSofie)",
          "5 Minuten (feat. Cro, AnnenMayKantereit & Trettmann)",
          "Napkins",
          "Geh ran",
          "Geh ran",
          "Confidant",
          "She Said",
          "Lonely Lullabies",
          "Heartbreak Hangovers",
          "Powerlines",
          "Nathy Peluso: Bzrp Music Sessions, Vol. 36",
          "Nathy Peluso: Bzrp Music Sessions, Vol. 36",
          "Open Spaces",
          "Suede Jaw",
          "Gold Roses (feat. Drake)",
          "Santa Fe",
          "Dumplin & Callaloo",
          "Dumplin & Callaloo",
          "LEAP!",
          "Trust Fall",
          "Shut Up",
          "Shut Up",
          "Drift",
          "Kiss from a Rose",
          "Rewind",
          "Trophies",
          "GottSeiDank (feat. Bonez MC & RAF Camora)",
          "GottSeiDank (feat. Bonez MC & RAF Camora)",
          "DONTTRUSTME",
          "Show Me",
          "Summertime In Paris",
          "Summertime In Paris",
          "New York",
          "New York",
          "Wedding Day",
          "One Day",
          "Grauer Beton",
          "Grauer Beton",
          "The Boss",
          "The Boss",
          "Freestyle",
          "Billie Holiday",
          "Billie Holiday",
          "How Hard I Try",
          "How Hard I Try",
          "212",
          "212",
          "Damselfly",
          "Damselfly",
          "Knöcheltief",
          "Knöcheltief",
          "Lips Of An Angel",
          "Torn",
          "#DIY",
          "#DIY",
          "Sleepyhead",
          "Sleepyhead",
          "The Way I Are",
          "The Way I Are",
          "Fast Forward (feat. Marteria)",
          "Fast Forward (feat. Marteria)",
          "94 Bentley",
          "Good Thing Gone",
          "Hold On",
          "Nur noch einen (feat. Joey Bargeld & Haiyti)",
          "Nur noch einen (feat. Joey Bargeld & Haiyti)",
          "Lockdown",
          "Lockdown",
          "Water (with Mahalia)",
          "Water (with Mahalia)",
          "Location (feat. Burna Boy)",
          "Location (feat. Burna Boy)",
          "What Do You Mean?",
          "What Do You Mean?",
          "Ain't It Different (feat. AJ Tracey & Stormzy)",
          "Ain't It Different (feat. AJ Tracey & Stormzy)",
          "Seduce (Feat. Capella Grey & Tamae)",
          "Seduce (Feat. Capella Grey & Tamae)",
          "Man O To - Original Mix",
          "Man O To - Original Mix",
          "Vossi Bop",
          "Hesitate",
          "Dapper (feat. Anderson .Paak)",
          "Dapper (feat. Anderson .Paak)",
          "Verdansk",
          "Verdansk",
          "Energy (Stay Far Away)",
          "Energy (Stay Far Away)",
          "Baby's On Fire",
          "Broke",
          "Broke",
          "Bury Me Alive - A COLORS SHOW",
          "It Ain't Safe",
          "It Ain't Safe",
          "Clash (feat. Stormzy)",
          "Clash (feat. Stormzy)",
          "Bedroom",
          "Lalala",
          "Lalala",
          "In The Fire",
          "In The Fire",
          "Disco Man",
          "Disco Man",
          "Tadow",
          "Tadow",
          "Baby Blue (feat. Chance the Rapper)",
          "Baby Blue (feat. Chance the Rapper)",
          "Sk8er Boi",
          "Freestyle",
          "Vossi Bop",
          "Russia Privjet",
          "Flexing (Side A)",
          "Someday Soon",
          "Come Down",
          "Droogs",
          "NOBODY'S BUSINESS",
          "Tequila Shots",
          "Wow",
          "Freedom",
          "Redemption",
          "Holiday",
          "L'hiver indien - Radio édit",
          "WAM",
          "American Boy",
          "A Vibe (feat. Wiz Khalifa)",
          "Miami",
          "No Peace",
          "When the Sun Comes Out",
          "Shutdown",
          "Pusha Man",
          "YUUUU",
          "Cocoa Butter Kisses",
          "Don't Rush (feat. DaBaby)",
          "Paranoia",
          "Little More Love",
          "The Devil Wears a Suit and Tie",
          "Stereo Love - Radio Edit",
          "Waze (feat. SL) - Edit",
          "DotA",
          "Praise The Lord (Da Shine) (feat. Skepta)",
          "One Dance",
          "Bounce",
          "Woodlawn",
          "Good Ass Intro",
          "BEST ON EARTH (feat. BIA) - Bonus",
          "No Rush",
          "Tropical",
          "Who Died",
          "Mozambique (feat. Jaykae & Moonchild Sanelly) - Single Version",
          "In The Morning",
          "Dark Days (feat. Kojey Radical)",
          "Yesterday",
          "Drift"
         ],
         "yaxis": "y"
        }
       ],
       "layout": {
        "barmode": "relative",
        "height": 1000,
        "legend": {
         "tracegroupgap": 0
        },
        "template": {
         "data": {
          "bar": [
           {
            "error_x": {
             "color": "#2a3f5f"
            },
            "error_y": {
             "color": "#2a3f5f"
            },
            "marker": {
             "line": {
              "color": "#E5ECF6",
              "width": 0.5
             },
             "pattern": {
              "fillmode": "overlay",
              "size": 10,
              "solidity": 0.2
             }
            },
            "type": "bar"
           }
          ],
          "barpolar": [
           {
            "marker": {
             "line": {
              "color": "#E5ECF6",
              "width": 0.5
             },
             "pattern": {
              "fillmode": "overlay",
              "size": 10,
              "solidity": 0.2
             }
            },
            "type": "barpolar"
           }
          ],
          "carpet": [
           {
            "aaxis": {
             "endlinecolor": "#2a3f5f",
             "gridcolor": "white",
             "linecolor": "white",
             "minorgridcolor": "white",
             "startlinecolor": "#2a3f5f"
            },
            "baxis": {
             "endlinecolor": "#2a3f5f",
             "gridcolor": "white",
             "linecolor": "white",
             "minorgridcolor": "white",
             "startlinecolor": "#2a3f5f"
            },
            "type": "carpet"
           }
          ],
          "choropleth": [
           {
            "colorbar": {
             "outlinewidth": 0,
             "ticks": ""
            },
            "type": "choropleth"
           }
          ],
          "contour": [
           {
            "colorbar": {
             "outlinewidth": 0,
             "ticks": ""
            },
            "colorscale": [
             [
              0,
              "#0d0887"
             ],
             [
              0.1111111111111111,
              "#46039f"
             ],
             [
              0.2222222222222222,
              "#7201a8"
             ],
             [
              0.3333333333333333,
              "#9c179e"
             ],
             [
              0.4444444444444444,
              "#bd3786"
             ],
             [
              0.5555555555555556,
              "#d8576b"
             ],
             [
              0.6666666666666666,
              "#ed7953"
             ],
             [
              0.7777777777777778,
              "#fb9f3a"
             ],
             [
              0.8888888888888888,
              "#fdca26"
             ],
             [
              1,
              "#f0f921"
             ]
            ],
            "type": "contour"
           }
          ],
          "contourcarpet": [
           {
            "colorbar": {
             "outlinewidth": 0,
             "ticks": ""
            },
            "type": "contourcarpet"
           }
          ],
          "heatmap": [
           {
            "colorbar": {
             "outlinewidth": 0,
             "ticks": ""
            },
            "colorscale": [
             [
              0,
              "#0d0887"
             ],
             [
              0.1111111111111111,
              "#46039f"
             ],
             [
              0.2222222222222222,
              "#7201a8"
             ],
             [
              0.3333333333333333,
              "#9c179e"
             ],
             [
              0.4444444444444444,
              "#bd3786"
             ],
             [
              0.5555555555555556,
              "#d8576b"
             ],
             [
              0.6666666666666666,
              "#ed7953"
             ],
             [
              0.7777777777777778,
              "#fb9f3a"
             ],
             [
              0.8888888888888888,
              "#fdca26"
             ],
             [
              1,
              "#f0f921"
             ]
            ],
            "type": "heatmap"
           }
          ],
          "heatmapgl": [
           {
            "colorbar": {
             "outlinewidth": 0,
             "ticks": ""
            },
            "colorscale": [
             [
              0,
              "#0d0887"
             ],
             [
              0.1111111111111111,
              "#46039f"
             ],
             [
              0.2222222222222222,
              "#7201a8"
             ],
             [
              0.3333333333333333,
              "#9c179e"
             ],
             [
              0.4444444444444444,
              "#bd3786"
             ],
             [
              0.5555555555555556,
              "#d8576b"
             ],
             [
              0.6666666666666666,
              "#ed7953"
             ],
             [
              0.7777777777777778,
              "#fb9f3a"
             ],
             [
              0.8888888888888888,
              "#fdca26"
             ],
             [
              1,
              "#f0f921"
             ]
            ],
            "type": "heatmapgl"
           }
          ],
          "histogram": [
           {
            "marker": {
             "pattern": {
              "fillmode": "overlay",
              "size": 10,
              "solidity": 0.2
             }
            },
            "type": "histogram"
           }
          ],
          "histogram2d": [
           {
            "colorbar": {
             "outlinewidth": 0,
             "ticks": ""
            },
            "colorscale": [
             [
              0,
              "#0d0887"
             ],
             [
              0.1111111111111111,
              "#46039f"
             ],
             [
              0.2222222222222222,
              "#7201a8"
             ],
             [
              0.3333333333333333,
              "#9c179e"
             ],
             [
              0.4444444444444444,
              "#bd3786"
             ],
             [
              0.5555555555555556,
              "#d8576b"
             ],
             [
              0.6666666666666666,
              "#ed7953"
             ],
             [
              0.7777777777777778,
              "#fb9f3a"
             ],
             [
              0.8888888888888888,
              "#fdca26"
             ],
             [
              1,
              "#f0f921"
             ]
            ],
            "type": "histogram2d"
           }
          ],
          "histogram2dcontour": [
           {
            "colorbar": {
             "outlinewidth": 0,
             "ticks": ""
            },
            "colorscale": [
             [
              0,
              "#0d0887"
             ],
             [
              0.1111111111111111,
              "#46039f"
             ],
             [
              0.2222222222222222,
              "#7201a8"
             ],
             [
              0.3333333333333333,
              "#9c179e"
             ],
             [
              0.4444444444444444,
              "#bd3786"
             ],
             [
              0.5555555555555556,
              "#d8576b"
             ],
             [
              0.6666666666666666,
              "#ed7953"
             ],
             [
              0.7777777777777778,
              "#fb9f3a"
             ],
             [
              0.8888888888888888,
              "#fdca26"
             ],
             [
              1,
              "#f0f921"
             ]
            ],
            "type": "histogram2dcontour"
           }
          ],
          "mesh3d": [
           {
            "colorbar": {
             "outlinewidth": 0,
             "ticks": ""
            },
            "type": "mesh3d"
           }
          ],
          "parcoords": [
           {
            "line": {
             "colorbar": {
              "outlinewidth": 0,
              "ticks": ""
             }
            },
            "type": "parcoords"
           }
          ],
          "pie": [
           {
            "automargin": true,
            "type": "pie"
           }
          ],
          "scatter": [
           {
            "fillpattern": {
             "fillmode": "overlay",
             "size": 10,
             "solidity": 0.2
            },
            "type": "scatter"
           }
          ],
          "scatter3d": [
           {
            "line": {
             "colorbar": {
              "outlinewidth": 0,
              "ticks": ""
             }
            },
            "marker": {
             "colorbar": {
              "outlinewidth": 0,
              "ticks": ""
             }
            },
            "type": "scatter3d"
           }
          ],
          "scattercarpet": [
           {
            "marker": {
             "colorbar": {
              "outlinewidth": 0,
              "ticks": ""
             }
            },
            "type": "scattercarpet"
           }
          ],
          "scattergeo": [
           {
            "marker": {
             "colorbar": {
              "outlinewidth": 0,
              "ticks": ""
             }
            },
            "type": "scattergeo"
           }
          ],
          "scattergl": [
           {
            "marker": {
             "colorbar": {
              "outlinewidth": 0,
              "ticks": ""
             }
            },
            "type": "scattergl"
           }
          ],
          "scattermapbox": [
           {
            "marker": {
             "colorbar": {
              "outlinewidth": 0,
              "ticks": ""
             }
            },
            "type": "scattermapbox"
           }
          ],
          "scatterpolar": [
           {
            "marker": {
             "colorbar": {
              "outlinewidth": 0,
              "ticks": ""
             }
            },
            "type": "scatterpolar"
           }
          ],
          "scatterpolargl": [
           {
            "marker": {
             "colorbar": {
              "outlinewidth": 0,
              "ticks": ""
             }
            },
            "type": "scatterpolargl"
           }
          ],
          "scatterternary": [
           {
            "marker": {
             "colorbar": {
              "outlinewidth": 0,
              "ticks": ""
             }
            },
            "type": "scatterternary"
           }
          ],
          "surface": [
           {
            "colorbar": {
             "outlinewidth": 0,
             "ticks": ""
            },
            "colorscale": [
             [
              0,
              "#0d0887"
             ],
             [
              0.1111111111111111,
              "#46039f"
             ],
             [
              0.2222222222222222,
              "#7201a8"
             ],
             [
              0.3333333333333333,
              "#9c179e"
             ],
             [
              0.4444444444444444,
              "#bd3786"
             ],
             [
              0.5555555555555556,
              "#d8576b"
             ],
             [
              0.6666666666666666,
              "#ed7953"
             ],
             [
              0.7777777777777778,
              "#fb9f3a"
             ],
             [
              0.8888888888888888,
              "#fdca26"
             ],
             [
              1,
              "#f0f921"
             ]
            ],
            "type": "surface"
           }
          ],
          "table": [
           {
            "cells": {
             "fill": {
              "color": "#EBF0F8"
             },
             "line": {
              "color": "white"
             }
            },
            "header": {
             "fill": {
              "color": "#C8D4E3"
             },
             "line": {
              "color": "white"
             }
            },
            "type": "table"
           }
          ]
         },
         "layout": {
          "annotationdefaults": {
           "arrowcolor": "#2a3f5f",
           "arrowhead": 0,
           "arrowwidth": 1
          },
          "autotypenumbers": "strict",
          "coloraxis": {
           "colorbar": {
            "outlinewidth": 0,
            "ticks": ""
           }
          },
          "colorscale": {
           "diverging": [
            [
             0,
             "#8e0152"
            ],
            [
             0.1,
             "#c51b7d"
            ],
            [
             0.2,
             "#de77ae"
            ],
            [
             0.3,
             "#f1b6da"
            ],
            [
             0.4,
             "#fde0ef"
            ],
            [
             0.5,
             "#f7f7f7"
            ],
            [
             0.6,
             "#e6f5d0"
            ],
            [
             0.7,
             "#b8e186"
            ],
            [
             0.8,
             "#7fbc41"
            ],
            [
             0.9,
             "#4d9221"
            ],
            [
             1,
             "#276419"
            ]
           ],
           "sequential": [
            [
             0,
             "#0d0887"
            ],
            [
             0.1111111111111111,
             "#46039f"
            ],
            [
             0.2222222222222222,
             "#7201a8"
            ],
            [
             0.3333333333333333,
             "#9c179e"
            ],
            [
             0.4444444444444444,
             "#bd3786"
            ],
            [
             0.5555555555555556,
             "#d8576b"
            ],
            [
             0.6666666666666666,
             "#ed7953"
            ],
            [
             0.7777777777777778,
             "#fb9f3a"
            ],
            [
             0.8888888888888888,
             "#fdca26"
            ],
            [
             1,
             "#f0f921"
            ]
           ],
           "sequentialminus": [
            [
             0,
             "#0d0887"
            ],
            [
             0.1111111111111111,
             "#46039f"
            ],
            [
             0.2222222222222222,
             "#7201a8"
            ],
            [
             0.3333333333333333,
             "#9c179e"
            ],
            [
             0.4444444444444444,
             "#bd3786"
            ],
            [
             0.5555555555555556,
             "#d8576b"
            ],
            [
             0.6666666666666666,
             "#ed7953"
            ],
            [
             0.7777777777777778,
             "#fb9f3a"
            ],
            [
             0.8888888888888888,
             "#fdca26"
            ],
            [
             1,
             "#f0f921"
            ]
           ]
          },
          "colorway": [
           "#636efa",
           "#EF553B",
           "#00cc96",
           "#ab63fa",
           "#FFA15A",
           "#19d3f3",
           "#FF6692",
           "#B6E880",
           "#FF97FF",
           "#FECB52"
          ],
          "font": {
           "color": "#2a3f5f"
          },
          "geo": {
           "bgcolor": "white",
           "lakecolor": "white",
           "landcolor": "#E5ECF6",
           "showlakes": true,
           "showland": true,
           "subunitcolor": "white"
          },
          "hoverlabel": {
           "align": "left"
          },
          "hovermode": "closest",
          "mapbox": {
           "style": "light"
          },
          "paper_bgcolor": "white",
          "plot_bgcolor": "#E5ECF6",
          "polar": {
           "angularaxis": {
            "gridcolor": "white",
            "linecolor": "white",
            "ticks": ""
           },
           "bgcolor": "#E5ECF6",
           "radialaxis": {
            "gridcolor": "white",
            "linecolor": "white",
            "ticks": ""
           }
          },
          "scene": {
           "xaxis": {
            "backgroundcolor": "#E5ECF6",
            "gridcolor": "white",
            "gridwidth": 2,
            "linecolor": "white",
            "showbackground": true,
            "ticks": "",
            "zerolinecolor": "white"
           },
           "yaxis": {
            "backgroundcolor": "#E5ECF6",
            "gridcolor": "white",
            "gridwidth": 2,
            "linecolor": "white",
            "showbackground": true,
            "ticks": "",
            "zerolinecolor": "white"
           },
           "zaxis": {
            "backgroundcolor": "#E5ECF6",
            "gridcolor": "white",
            "gridwidth": 2,
            "linecolor": "white",
            "showbackground": true,
            "ticks": "",
            "zerolinecolor": "white"
           }
          },
          "shapedefaults": {
           "line": {
            "color": "#2a3f5f"
           }
          },
          "ternary": {
           "aaxis": {
            "gridcolor": "white",
            "linecolor": "white",
            "ticks": ""
           },
           "baxis": {
            "gridcolor": "white",
            "linecolor": "white",
            "ticks": ""
           },
           "bgcolor": "#E5ECF6",
           "caxis": {
            "gridcolor": "white",
            "linecolor": "white",
            "ticks": ""
           }
          },
          "title": {
           "x": 0.05
          },
          "xaxis": {
           "automargin": true,
           "gridcolor": "white",
           "linecolor": "white",
           "ticks": "",
           "title": {
            "standoff": 15
           },
           "zerolinecolor": "white",
           "zerolinewidth": 2
          },
          "yaxis": {
           "automargin": true,
           "gridcolor": "white",
           "linecolor": "white",
           "ticks": "",
           "title": {
            "standoff": 15
           },
           "zerolinecolor": "white",
           "zerolinewidth": 2
          }
         }
        },
        "title": {
         "text": "Sum of Popularity by Song",
         "x": 0.5
        },
        "xaxis": {
         "anchor": "y",
         "domain": [
          0,
          1
         ],
         "title": {
          "text": "sum of popularity"
         }
        },
        "yaxis": {
         "anchor": "x",
         "domain": [
          0,
          1
         ],
         "title": {
          "text": "name"
         }
        }
       }
      }
     },
     "metadata": {},
     "output_type": "display_data"
    }
   ],
   "source": [
    "px.histogram(merge, y='name', x='popularity', orientation='h', height = 1000, title = 'Sum of Popularity by Song').update_layout(title_x = 0.5)"
   ]
  },
  {
   "attachments": {},
   "cell_type": "markdown",
   "metadata": {},
   "source": [
    "## Duplicates"
   ]
  },
  {
   "attachments": {},
   "cell_type": "markdown",
   "metadata": {},
   "source": [
    "### Which playlist contains more duplicate songs?"
   ]
  },
  {
   "cell_type": "code",
   "execution_count": 12,
   "metadata": {},
   "outputs": [
    {
     "name": "stdout",
     "output_type": "stream",
     "text": [
      "The number of duplicate songs in playlist 1 is 22\n",
      "The number of duplicate songs in playlist 2 is 45\n",
      "The playlist with the most duplicated songs is playlist 2, totaling 45, which is 23 more than playlist 1\n"
     ]
    }
   ],
   "source": [
    "# Apply boolean mask across DataFrames to get duplicated values\n",
    "#Sum up the number of values that appear in the column to get number of duplicate songs\n",
    "dupe_1 = playlist_1[playlist_1.duplicated() == True].value_counts().sum()\n",
    "dupe_2 = playlist_2[playlist_2.duplicated() == True].value_counts().sum()\n",
    "print(f'The number of duplicate songs in playlist 1 is {dupe_1}\\nThe number of duplicate songs in playlist 2 is {dupe_2}')\n",
    "print(f'The playlist with the most duplicated songs is playlist 2, totaling {dupe_2}, which is {dupe_2 - dupe_1} more than playlist 1')"
   ]
  },
  {
   "attachments": {},
   "cell_type": "markdown",
   "metadata": {},
   "source": [
    "### Which song is present the most times across both playlists?"
   ]
  },
  {
   "cell_type": "code",
   "execution_count": 13,
   "metadata": {},
   "outputs": [
    {
     "name": "stdout",
     "output_type": "stream",
     "text": [
      "The top song in playlist 1 is Flare Guns\n",
      "The top song in playlist 2 is Location (feat. Burna Boy)\n",
      "The top song from both playlists is Grey Luh\n"
     ]
    }
   ],
   "source": [
    "# Value counts can return the song with the highest frequency.\n",
    "# Calling head and returning only one value on the series can give the top song\n",
    "top_1 = playlist_1['name'].value_counts().head(1).rename_axis('Top Song').reset_index(name = 'counts')\n",
    "top_2 = playlist_2['name'].value_counts().head(1).rename_axis('Top Song').reset_index(name = 'counts')\n",
    "top_both = merge['name'].value_counts().head(1).rename_axis('Top Song').reset_index(name = 'counts')\n",
    "\n",
    "print(f'The top song in playlist 1 is {top_1[\"Top Song\"].values[0]}\\nThe top song in playlist 2 is {top_2[\"Top Song\"].values[0]}')\n",
    "print(f'The top song from both playlists is {top_both[\"Top Song\"].values[0]}')"
   ]
  },
  {
   "attachments": {},
   "cell_type": "markdown",
   "metadata": {},
   "source": [
    "## Artists"
   ]
  },
  {
   "attachments": {},
   "cell_type": "markdown",
   "metadata": {},
   "source": [
    "### Which artist has the most songs in each playlist?"
   ]
  },
  {
   "attachments": {},
   "cell_type": "markdown",
   "metadata": {},
   "source": [
    "One point of contingency is that each value count only will return the unique values. So if an artist has a song which they perform on their own and has another song which\n",
    "they perform with a group of others, we don't take into account those songs as a count towards the individual artist. We could make the argument that leaving the column in its original format would make it easier to count the values of each artist in the column. "
   ]
  },
  {
   "cell_type": "code",
   "execution_count": 14,
   "metadata": {},
   "outputs": [
    {
     "name": "stdout",
     "output_type": "stream",
     "text": [
      "The top artist(s) in playlist 1 is Quinn XCII\n",
      "The top artist(s) in playlist 2 is Trettmann / KitschKrieg / SFR\n",
      "The top artist(s) from both playlists is Quinn XCII\n"
     ]
    }
   ],
   "source": [
    "# Grab first value from each playlist artists column which has the highest count\n",
    "top_art_1 = playlist_1['artists'].value_counts().head(1).rename_axis('Top Artists').reset_index(name = 'counts')\n",
    "top_art_2 = playlist_2['artists'].value_counts().head(1).rename_axis('Top Artists').reset_index(name = 'counts')\n",
    "top_art_both = merge['artists'].value_counts().head(1).rename_axis('Top Artists').reset_index(name = 'counts')\n",
    "\n",
    "print(f'The top artist(s) in playlist 1 is {top_art_1[\"Top Artists\"].values[0]}\\nThe top artist(s) in playlist 2 is {top_art_2[\"Top Artists\"].values[0]}')\n",
    "print(f'The top artist(s) from both playlists is {top_art_both[\"Top Artists\"].values[0]}')"
   ]
  },
  {
   "attachments": {},
   "cell_type": "markdown",
   "metadata": {},
   "source": [
    "### Visualize the number of songs per artist in each playlist"
   ]
  },
  {
   "cell_type": "code",
   "execution_count": 15,
   "metadata": {},
   "outputs": [
    {
     "data": {
      "application/vnd.plotly.v1+json": {
       "config": {
        "plotlyServerURL": "https://plot.ly"
       },
       "data": [
        {
         "alignmentgroup": "True",
         "bingroup": "x",
         "hovertemplate": "artists=%{x}<br>count=%{y}<extra></extra>",
         "legendgroup": "",
         "marker": {
          "color": "#636efa",
          "pattern": {
           "shape": ""
          }
         },
         "name": "",
         "offsetgroup": "",
         "orientation": "v",
         "showlegend": false,
         "type": "histogram",
         "x": [
          "Sylvan Esso",
          "Dijon",
          "Blue Foundation",
          "Whethan / Ashe",
          "Sylvan Esso",
          "Electric Guest",
          "Souly Had",
          "NoMBe",
          "Coast Modern",
          "DEVOTED / Billionaire",
          "slenderbodies",
          "Kweku Collins",
          "RIZ LA VIE",
          "Death Cab for Cutie / Louis The Child",
          "Whethan / Mascolo",
          "RIZ LA VIE",
          "Sylvan Esso",
          "Jack Kays",
          "Sylvan Esso",
          "RIZ LA VIE",
          "ODIE",
          "Local Natives",
          "Joy Crookes",
          "Mahalia",
          "Two Another",
          "NoMBe / Thutmose",
          "Cautious Clay",
          "Alina Baraz / Khalid",
          "slenderbodies",
          "John Butler",
          "Shakey Graves",
          "KALEO",
          "KALEO",
          "Mumford   Sons",
          "Ang le",
          "Wiley from Atlanta",
          "Benji Lewis",
          "Berhana",
          "Clay and Friends",
          "Dennis Lloyd",
          "Hozier",
          "Ashh",
          "j ember",
          "Bon Iver",
          "Hozier",
          "TOBi / Harrison",
          "Current Blue",
          "Tones And I",
          "Ashh",
          "Ashh",
          "Alina Baraz / Khalid",
          "Matt DiMona",
          "Benji Lewis",
          "Masego",
          "Abhi The Nomad / Harrison Sands / Copper King",
          "Berhana",
          "Masego / FKJ",
          "Jorja Smith",
          "Masego",
          "Maggie Rogers",
          "Frank Ocean",
          "Mac DeMarco",
          "Quinn XCII / Chelsea Cutler",
          "Tora",
          "Tora",
          "Abhi The Nomad",
          "Saba / Jean Deaux",
          "Dantes",
          "Quincy Mumford",
          "Foreign Air",
          "Grizfolk",
          "Alice et Moi",
          "Royal   the Serpent / Marky Style",
          "ASL",
          "Two Another",
          "KAMAUU",
          "Verzache / Swell",
          "Irie Lee",
          "Abhi The Nomad",
          "Shoffy",
          "Jakubi",
          "NoMBe",
          "Clay and Friends",
          "Shoffy",
          "Rence",
          "ODESZA / Leon Bridges",
          "WILLOW",
          "Dennis Lloyd",
          "alt J",
          "James Hersey",
          "Hozier",
          "Milky Chance",
          "Quinn XCII / Ashe / Louis Futon",
          "Mac DeMarco",
          "Bon Iver",
          "alt J",
          "Billie Eilish",
          "Billie Eilish",
          "Oliver Tree",
          "SHAED / ZAYN",
          "Still Woozy",
          "DRAMA",
          "Chelsea Cutler",
          "j ember",
          "Zachary Knowles",
          "ayokay",
          "Ashh",
          "Clay and Friends",
          "Masego",
          "NoMBe",
          "Zanski",
          "Mac Miller",
          "Wiley from Atlanta",
          "Tora",
          "George Ezra",
          "SZA / Calvin Harris / Funk Wav",
          "The Lagoons",
          "Tayla Parx / Khalid",
          "Kevin Garrett",
          "Alina Baraz / Khalid",
          "Mother Mother",
          "Benji Lewis",
          "Matt DiMona",
          "Masego",
          "Abhi The Nomad / Harrison Sands / Copper King",
          "Berhana",
          "Masego / FKJ",
          "Khalid",
          "Khalid",
          "Khalid",
          "Kiiara",
          "Billie Eilish",
          "Tierra Whack",
          "Khalid / Disclosure",
          "Billie Eilish",
          "The Lumineers",
          "Quinn XCII",
          "Frank Ocean",
          "Quinn XCII",
          "Tom Misch / GoldLink",
          "Quinn XCII",
          "Tom Misch",
          "Frank Ocean",
          "Bon Iver",
          "alt J",
          "Jon Bellion",
          "Quinn XCII / Chelsea Cutler",
          "Quinn XCII",
          "Roy Woods",
          "Chance the Rapper / Justin Bieber / Towkio",
          "Chance the Rapper / Jeremih / Francis and the Lights",
          "Frank Ocean",
          "Chet Faker",
          "Frank Ocean",
          "Frank Ocean",
          "Frank Ocean",
          "Quinn XCII",
          "Jon Bellion",
          "Ruth B",
          "Kiiara",
          "Daya",
          "Alessia Cara",
          "Mac DeMarco",
          "Jorja Smith",
          "Masego",
          "Jorja Smith",
          "Maggie Rogers",
          "Mac DeMarco",
          "Mac DeMarco",
          "Mac DeMarco",
          "Mac DeMarco",
          "Roy Woods",
          "Phoebe Ryan / Quinn XCII",
          "Khalid / Normani",
          "T Pain",
          "Jelani Blackman",
          "Quinn XCII / Elohim",
          "Quinn XCII",
          "Quinn XCII",
          "Quinn XCII",
          "Quinn XCII / Yoshi Flower",
          "Quinn XCII / Noah Kahan",
          "Quinn XCII",
          "Quinn XCII",
          "Quinn XCII",
          "Quinn XCII",
          "Quinn XCII / Ashe / Louis Futon",
          "Quinn XCII",
          "Quinn XCII",
          "Quinn XCII",
          "Quinn XCII / Chelsea Cutler",
          "Quinn XCII",
          "Quinn XCII",
          "Quinn XCII",
          "Quinn XCII",
          "Quinn XCII",
          "Quinn XCII",
          "Quinn XCII",
          "Quinn XCII",
          "Quinn XCII",
          "Quinn XCII / Kailee Morgue",
          "Quinn XCII",
          "Kevin Garrett",
          "Jaymes Young / Phoebe Ryan",
          "Hozier",
          "Milky Chance",
          "James Quick",
          "Hozier",
          "X Ambassadors",
          "George Ezra",
          "Hozier",
          "James Hersey",
          "Francis and the Lights / Chance the Rapper",
          "Khalid"
         ],
         "xaxis": "x",
         "yaxis": "y"
        }
       ],
       "layout": {
        "barmode": "relative",
        "legend": {
         "tracegroupgap": 0
        },
        "template": {
         "data": {
          "bar": [
           {
            "error_x": {
             "color": "#2a3f5f"
            },
            "error_y": {
             "color": "#2a3f5f"
            },
            "marker": {
             "line": {
              "color": "#E5ECF6",
              "width": 0.5
             },
             "pattern": {
              "fillmode": "overlay",
              "size": 10,
              "solidity": 0.2
             }
            },
            "type": "bar"
           }
          ],
          "barpolar": [
           {
            "marker": {
             "line": {
              "color": "#E5ECF6",
              "width": 0.5
             },
             "pattern": {
              "fillmode": "overlay",
              "size": 10,
              "solidity": 0.2
             }
            },
            "type": "barpolar"
           }
          ],
          "carpet": [
           {
            "aaxis": {
             "endlinecolor": "#2a3f5f",
             "gridcolor": "white",
             "linecolor": "white",
             "minorgridcolor": "white",
             "startlinecolor": "#2a3f5f"
            },
            "baxis": {
             "endlinecolor": "#2a3f5f",
             "gridcolor": "white",
             "linecolor": "white",
             "minorgridcolor": "white",
             "startlinecolor": "#2a3f5f"
            },
            "type": "carpet"
           }
          ],
          "choropleth": [
           {
            "colorbar": {
             "outlinewidth": 0,
             "ticks": ""
            },
            "type": "choropleth"
           }
          ],
          "contour": [
           {
            "colorbar": {
             "outlinewidth": 0,
             "ticks": ""
            },
            "colorscale": [
             [
              0,
              "#0d0887"
             ],
             [
              0.1111111111111111,
              "#46039f"
             ],
             [
              0.2222222222222222,
              "#7201a8"
             ],
             [
              0.3333333333333333,
              "#9c179e"
             ],
             [
              0.4444444444444444,
              "#bd3786"
             ],
             [
              0.5555555555555556,
              "#d8576b"
             ],
             [
              0.6666666666666666,
              "#ed7953"
             ],
             [
              0.7777777777777778,
              "#fb9f3a"
             ],
             [
              0.8888888888888888,
              "#fdca26"
             ],
             [
              1,
              "#f0f921"
             ]
            ],
            "type": "contour"
           }
          ],
          "contourcarpet": [
           {
            "colorbar": {
             "outlinewidth": 0,
             "ticks": ""
            },
            "type": "contourcarpet"
           }
          ],
          "heatmap": [
           {
            "colorbar": {
             "outlinewidth": 0,
             "ticks": ""
            },
            "colorscale": [
             [
              0,
              "#0d0887"
             ],
             [
              0.1111111111111111,
              "#46039f"
             ],
             [
              0.2222222222222222,
              "#7201a8"
             ],
             [
              0.3333333333333333,
              "#9c179e"
             ],
             [
              0.4444444444444444,
              "#bd3786"
             ],
             [
              0.5555555555555556,
              "#d8576b"
             ],
             [
              0.6666666666666666,
              "#ed7953"
             ],
             [
              0.7777777777777778,
              "#fb9f3a"
             ],
             [
              0.8888888888888888,
              "#fdca26"
             ],
             [
              1,
              "#f0f921"
             ]
            ],
            "type": "heatmap"
           }
          ],
          "heatmapgl": [
           {
            "colorbar": {
             "outlinewidth": 0,
             "ticks": ""
            },
            "colorscale": [
             [
              0,
              "#0d0887"
             ],
             [
              0.1111111111111111,
              "#46039f"
             ],
             [
              0.2222222222222222,
              "#7201a8"
             ],
             [
              0.3333333333333333,
              "#9c179e"
             ],
             [
              0.4444444444444444,
              "#bd3786"
             ],
             [
              0.5555555555555556,
              "#d8576b"
             ],
             [
              0.6666666666666666,
              "#ed7953"
             ],
             [
              0.7777777777777778,
              "#fb9f3a"
             ],
             [
              0.8888888888888888,
              "#fdca26"
             ],
             [
              1,
              "#f0f921"
             ]
            ],
            "type": "heatmapgl"
           }
          ],
          "histogram": [
           {
            "marker": {
             "pattern": {
              "fillmode": "overlay",
              "size": 10,
              "solidity": 0.2
             }
            },
            "type": "histogram"
           }
          ],
          "histogram2d": [
           {
            "colorbar": {
             "outlinewidth": 0,
             "ticks": ""
            },
            "colorscale": [
             [
              0,
              "#0d0887"
             ],
             [
              0.1111111111111111,
              "#46039f"
             ],
             [
              0.2222222222222222,
              "#7201a8"
             ],
             [
              0.3333333333333333,
              "#9c179e"
             ],
             [
              0.4444444444444444,
              "#bd3786"
             ],
             [
              0.5555555555555556,
              "#d8576b"
             ],
             [
              0.6666666666666666,
              "#ed7953"
             ],
             [
              0.7777777777777778,
              "#fb9f3a"
             ],
             [
              0.8888888888888888,
              "#fdca26"
             ],
             [
              1,
              "#f0f921"
             ]
            ],
            "type": "histogram2d"
           }
          ],
          "histogram2dcontour": [
           {
            "colorbar": {
             "outlinewidth": 0,
             "ticks": ""
            },
            "colorscale": [
             [
              0,
              "#0d0887"
             ],
             [
              0.1111111111111111,
              "#46039f"
             ],
             [
              0.2222222222222222,
              "#7201a8"
             ],
             [
              0.3333333333333333,
              "#9c179e"
             ],
             [
              0.4444444444444444,
              "#bd3786"
             ],
             [
              0.5555555555555556,
              "#d8576b"
             ],
             [
              0.6666666666666666,
              "#ed7953"
             ],
             [
              0.7777777777777778,
              "#fb9f3a"
             ],
             [
              0.8888888888888888,
              "#fdca26"
             ],
             [
              1,
              "#f0f921"
             ]
            ],
            "type": "histogram2dcontour"
           }
          ],
          "mesh3d": [
           {
            "colorbar": {
             "outlinewidth": 0,
             "ticks": ""
            },
            "type": "mesh3d"
           }
          ],
          "parcoords": [
           {
            "line": {
             "colorbar": {
              "outlinewidth": 0,
              "ticks": ""
             }
            },
            "type": "parcoords"
           }
          ],
          "pie": [
           {
            "automargin": true,
            "type": "pie"
           }
          ],
          "scatter": [
           {
            "fillpattern": {
             "fillmode": "overlay",
             "size": 10,
             "solidity": 0.2
            },
            "type": "scatter"
           }
          ],
          "scatter3d": [
           {
            "line": {
             "colorbar": {
              "outlinewidth": 0,
              "ticks": ""
             }
            },
            "marker": {
             "colorbar": {
              "outlinewidth": 0,
              "ticks": ""
             }
            },
            "type": "scatter3d"
           }
          ],
          "scattercarpet": [
           {
            "marker": {
             "colorbar": {
              "outlinewidth": 0,
              "ticks": ""
             }
            },
            "type": "scattercarpet"
           }
          ],
          "scattergeo": [
           {
            "marker": {
             "colorbar": {
              "outlinewidth": 0,
              "ticks": ""
             }
            },
            "type": "scattergeo"
           }
          ],
          "scattergl": [
           {
            "marker": {
             "colorbar": {
              "outlinewidth": 0,
              "ticks": ""
             }
            },
            "type": "scattergl"
           }
          ],
          "scattermapbox": [
           {
            "marker": {
             "colorbar": {
              "outlinewidth": 0,
              "ticks": ""
             }
            },
            "type": "scattermapbox"
           }
          ],
          "scatterpolar": [
           {
            "marker": {
             "colorbar": {
              "outlinewidth": 0,
              "ticks": ""
             }
            },
            "type": "scatterpolar"
           }
          ],
          "scatterpolargl": [
           {
            "marker": {
             "colorbar": {
              "outlinewidth": 0,
              "ticks": ""
             }
            },
            "type": "scatterpolargl"
           }
          ],
          "scatterternary": [
           {
            "marker": {
             "colorbar": {
              "outlinewidth": 0,
              "ticks": ""
             }
            },
            "type": "scatterternary"
           }
          ],
          "surface": [
           {
            "colorbar": {
             "outlinewidth": 0,
             "ticks": ""
            },
            "colorscale": [
             [
              0,
              "#0d0887"
             ],
             [
              0.1111111111111111,
              "#46039f"
             ],
             [
              0.2222222222222222,
              "#7201a8"
             ],
             [
              0.3333333333333333,
              "#9c179e"
             ],
             [
              0.4444444444444444,
              "#bd3786"
             ],
             [
              0.5555555555555556,
              "#d8576b"
             ],
             [
              0.6666666666666666,
              "#ed7953"
             ],
             [
              0.7777777777777778,
              "#fb9f3a"
             ],
             [
              0.8888888888888888,
              "#fdca26"
             ],
             [
              1,
              "#f0f921"
             ]
            ],
            "type": "surface"
           }
          ],
          "table": [
           {
            "cells": {
             "fill": {
              "color": "#EBF0F8"
             },
             "line": {
              "color": "white"
             }
            },
            "header": {
             "fill": {
              "color": "#C8D4E3"
             },
             "line": {
              "color": "white"
             }
            },
            "type": "table"
           }
          ]
         },
         "layout": {
          "annotationdefaults": {
           "arrowcolor": "#2a3f5f",
           "arrowhead": 0,
           "arrowwidth": 1
          },
          "autotypenumbers": "strict",
          "coloraxis": {
           "colorbar": {
            "outlinewidth": 0,
            "ticks": ""
           }
          },
          "colorscale": {
           "diverging": [
            [
             0,
             "#8e0152"
            ],
            [
             0.1,
             "#c51b7d"
            ],
            [
             0.2,
             "#de77ae"
            ],
            [
             0.3,
             "#f1b6da"
            ],
            [
             0.4,
             "#fde0ef"
            ],
            [
             0.5,
             "#f7f7f7"
            ],
            [
             0.6,
             "#e6f5d0"
            ],
            [
             0.7,
             "#b8e186"
            ],
            [
             0.8,
             "#7fbc41"
            ],
            [
             0.9,
             "#4d9221"
            ],
            [
             1,
             "#276419"
            ]
           ],
           "sequential": [
            [
             0,
             "#0d0887"
            ],
            [
             0.1111111111111111,
             "#46039f"
            ],
            [
             0.2222222222222222,
             "#7201a8"
            ],
            [
             0.3333333333333333,
             "#9c179e"
            ],
            [
             0.4444444444444444,
             "#bd3786"
            ],
            [
             0.5555555555555556,
             "#d8576b"
            ],
            [
             0.6666666666666666,
             "#ed7953"
            ],
            [
             0.7777777777777778,
             "#fb9f3a"
            ],
            [
             0.8888888888888888,
             "#fdca26"
            ],
            [
             1,
             "#f0f921"
            ]
           ],
           "sequentialminus": [
            [
             0,
             "#0d0887"
            ],
            [
             0.1111111111111111,
             "#46039f"
            ],
            [
             0.2222222222222222,
             "#7201a8"
            ],
            [
             0.3333333333333333,
             "#9c179e"
            ],
            [
             0.4444444444444444,
             "#bd3786"
            ],
            [
             0.5555555555555556,
             "#d8576b"
            ],
            [
             0.6666666666666666,
             "#ed7953"
            ],
            [
             0.7777777777777778,
             "#fb9f3a"
            ],
            [
             0.8888888888888888,
             "#fdca26"
            ],
            [
             1,
             "#f0f921"
            ]
           ]
          },
          "colorway": [
           "#636efa",
           "#EF553B",
           "#00cc96",
           "#ab63fa",
           "#FFA15A",
           "#19d3f3",
           "#FF6692",
           "#B6E880",
           "#FF97FF",
           "#FECB52"
          ],
          "font": {
           "color": "#2a3f5f"
          },
          "geo": {
           "bgcolor": "white",
           "lakecolor": "white",
           "landcolor": "#E5ECF6",
           "showlakes": true,
           "showland": true,
           "subunitcolor": "white"
          },
          "hoverlabel": {
           "align": "left"
          },
          "hovermode": "closest",
          "mapbox": {
           "style": "light"
          },
          "paper_bgcolor": "white",
          "plot_bgcolor": "#E5ECF6",
          "polar": {
           "angularaxis": {
            "gridcolor": "white",
            "linecolor": "white",
            "ticks": ""
           },
           "bgcolor": "#E5ECF6",
           "radialaxis": {
            "gridcolor": "white",
            "linecolor": "white",
            "ticks": ""
           }
          },
          "scene": {
           "xaxis": {
            "backgroundcolor": "#E5ECF6",
            "gridcolor": "white",
            "gridwidth": 2,
            "linecolor": "white",
            "showbackground": true,
            "ticks": "",
            "zerolinecolor": "white"
           },
           "yaxis": {
            "backgroundcolor": "#E5ECF6",
            "gridcolor": "white",
            "gridwidth": 2,
            "linecolor": "white",
            "showbackground": true,
            "ticks": "",
            "zerolinecolor": "white"
           },
           "zaxis": {
            "backgroundcolor": "#E5ECF6",
            "gridcolor": "white",
            "gridwidth": 2,
            "linecolor": "white",
            "showbackground": true,
            "ticks": "",
            "zerolinecolor": "white"
           }
          },
          "shapedefaults": {
           "line": {
            "color": "#2a3f5f"
           }
          },
          "ternary": {
           "aaxis": {
            "gridcolor": "white",
            "linecolor": "white",
            "ticks": ""
           },
           "baxis": {
            "gridcolor": "white",
            "linecolor": "white",
            "ticks": ""
           },
           "bgcolor": "#E5ECF6",
           "caxis": {
            "gridcolor": "white",
            "linecolor": "white",
            "ticks": ""
           }
          },
          "title": {
           "x": 0.05
          },
          "xaxis": {
           "automargin": true,
           "gridcolor": "white",
           "linecolor": "white",
           "ticks": "",
           "title": {
            "standoff": 15
           },
           "zerolinecolor": "white",
           "zerolinewidth": 2
          },
          "yaxis": {
           "automargin": true,
           "gridcolor": "white",
           "linecolor": "white",
           "ticks": "",
           "title": {
            "standoff": 15
           },
           "zerolinecolor": "white",
           "zerolinewidth": 2
          }
         }
        },
        "title": {
         "text": "Number of songs per artist(s) in Playlist 1",
         "x": 0.5
        },
        "xaxis": {
         "anchor": "y",
         "domain": [
          0,
          1
         ],
         "title": {
          "text": "artists"
         }
        },
        "yaxis": {
         "anchor": "x",
         "domain": [
          0,
          1
         ],
         "title": {
          "text": "count"
         }
        }
       }
      }
     },
     "metadata": {},
     "output_type": "display_data"
    }
   ],
   "source": [
    "fig = px.histogram(playlist_1, x = 'artists', title='Number of songs per artist(s) in Playlist 1')\n",
    "fig.update_layout(title_x = 0.5)"
   ]
  },
  {
   "cell_type": "code",
   "execution_count": 16,
   "metadata": {},
   "outputs": [
    {
     "data": {
      "application/vnd.plotly.v1+json": {
       "config": {
        "plotlyServerURL": "https://plot.ly"
       },
       "data": [
        {
         "alignmentgroup": "True",
         "bingroup": "x",
         "hovertemplate": "artists=%{x}<br>count=%{y}<extra></extra>",
         "legendgroup": "",
         "marker": {
          "color": "#636efa",
          "pattern": {
           "shape": ""
          }
         },
         "name": "",
         "offsetgroup": "",
         "orientation": "v",
         "showlegend": false,
         "type": "histogram",
         "x": [
          "Sylvan Esso",
          "Sylvan Esso",
          "Electric Guest",
          "Souly Had",
          "Dave / J Hus",
          "Blue Foundation",
          "Sylvan Esso",
          "Dijon",
          "Jack Kays",
          "Whethan / Ashe",
          "Trettmann / KitschKrieg / SFR / KeKe",
          "Rompasso / Rich The Kid",
          "Neighbors / Brasstracks / PhiloSofie",
          "slenderbodies",
          "KitschKrieg / SFR / CRO / AnnenMayKantereit / Trettmann",
          "NoMBe",
          "RIZ LA VIE",
          "Whethan / Mascolo",
          "Trettmann / KitschKrieg / SFR",
          "BabyJake",
          "RIZ LA VIE",
          "Kweku Collins",
          "Sylvan Esso",
          "Souly Had",
          "RIZ LA VIE",
          "Bizarrap / NATHY PELUSO",
          "Just A Gent / Nevve",
          "Coast Modern",
          "Wiley from Atlanta",
          "Death Cab for Cutie / Louis The Child",
          "INK",
          "Rick Ross / Drake",
          "DEVOTED / Billionaire",
          "ODIE",
          "Shakey Graves",
          "Berhana",
          "Trettmann / KitschKrieg / SFR",
          "Souly Had / Lonr",
          "Caye",
          "Stormzy",
          "Benji Lewis",
          "Local Natives",
          "Seal",
          "Wingtip / Sophie Strauss",
          "SAINt JHN",
          "Trettmann / KitschKrieg / SFR / Bonez MC / RAF Camora",
          "OH",
          "Big Wild / Hundred Waters",
          "Jaden / WILLOW",
          "Trettmann / KitschKrieg / SFR",
          "SAINt JHN",
          "Matisyahu",
          "ayokay",
          "Trettmann / KitschKrieg / SFR",
          "James Brown / The J B  s",
          "Ashh",
          "Rod Wave",
          "Trettmann / KitschKrieg / SFR",
          "filous / James Hersey",
          "Azealia Banks / Lazy Jay",
          "Loyle Carner / Tom Misch",
          "Trettmann / Gzuz / KitschKrieg / SFR",
          "Abhi The Nomad / Harrison Sands / Copper King",
          "Hinder",
          "Natalie Imbruglia",
          "Trettmann / KitschKrieg / SFR",
          "Dennis Lloyd",
          "Passion Pit",
          "Timbaland / Keri Hilson / D O E",
          "Trettmann / KitschKrieg / SFR / Marteria",
          "SAINt JHN",
          "Elle King",
          "Sons Of The East",
          "Trettmann / KitschKrieg / SFR / Haiyti / Joey Bargeld",
          "Anderson  Paak",
          "Kojey Radical / Mahalia / Swindle",
          "Dave / Burna Boy",
          "Skepta / J Hus",
          "Headie One / AJ Tracey / Stormzy",
          "Russ / Tamae / Capella Grey",
          "j ember",
          "Nu",
          "Stormzy",
          "Golden Vessel / Emerson Leif",
          "Domo Genesis / Anderson  Paak",
          "Dave",
          "Skepta / Wizkid",
          "Ashh",
          "Die Antwoord",
          "Samm Henshaw",
          "Kelvyn Colt",
          "Skepta / Young Lord",
          "Dave / Stormzy",
          "Litany",
          "slenderbodies",
          "Y K / bbno",
          "Dave",
          "Remi Wolf",
          "Masego / FKJ",
          "Action Bronson / Chance the Rapper",
          "Bizarrap / NATHY PELUSO",
          "Trettmann / KitschKrieg / SFR / Marteria",
          "Avril Lavigne",
          "Dave",
          "filous / James Hersey",
          "Shakey Graves",
          "Kojey Radical / Mahalia / Swindle",
          "Trettmann / KitschKrieg / SFR / KeKe",
          "Headie One / AJ Tracey / Stormzy",
          "Russ / Tamae / Capella Grey",
          "Wiley from Atlanta",
          "Rod Wave",
          "Remi Wolf",
          "Stormzy",
          "Basshunter",
          "INK",
          "Pacific Avenue",
          "Action Bronson / Chance the Rapper",
          "Anderson  Paak",
          "Dave / Burna Boy",
          "Skepta / Wizkid",
          "James Brown / The J B  s",
          "NxWorries / Anderson  Paak / Knxwledge",
          "Nu",
          "Jay Prince",
          "Kid Cudi",
          "Tion Wayne",
          "The Game / Elijah Blake",
          "Jevon",
          "Green Day",
          "Ashh",
          "Baloji",
          "A AP Ferg / MadeinTYO",
          "Domo Genesis / Anderson  Paak",
          "Trettmann / KitschKrieg / SFR / Haiyti / Joey Bargeld",
          "Estelle / Kanye West",
          "Samm Henshaw",
          "Passion Pit",
          "Trettmann / KitschKrieg / SFR",
          "Anderson  Paak",
          "Protoje / Wiz Khalifa",
          "Stormzy",
          "Trettmann / Gzuz / KitschKrieg / SFR",
          "Skepta / J Hus",
          "Y K / bbno",
          "Dave / Stormzy",
          "Trettmann / KitschKrieg / SFR / Bonez MC / RAF Camora",
          "Ashh",
          "Current Blue",
          "Timbaland / Keri Hilson / D O E",
          "Trettmann / KitschKrieg / SFR",
          "Will Smith",
          "The Silhouettes Project / Kieron Boothe / Morgan Lorelle / Purple Cloud",
          "Ashh",
          "Trettmann / KitschKrieg / SFR",
          "Jaden / WILLOW",
          "kadiata / Sam Wise",
          "Skepta",
          "Trettmann / KitschKrieg / SFR",
          "Billie Eilish",
          "Chance the Rapper / Nate Fox",
          "Mac Miller",
          "Trettmann / KitschKrieg / SFR",
          "Busta Rhymes / Anderson  Paak",
          "Chance the Rapper / VIC MENSA / Twista",
          "Loyle Carner / Tom Misch",
          "Trettmann / KitschKrieg / SFR",
          "Young T   Bugsey / DaBaby",
          "Chance the Rapper / Nosaj Thing",
          "TOBi / Harrison",
          "Masego / FKJ",
          "Azealia Banks / Lazy Jay",
          "AJ Tracey",
          "Colter Wall",
          "Mac DeMarco",
          "Edward Maya / Vika Jigulina",
          "Avelino / SL",
          "Basshunter",
          "A AP Rocky / Skepta",
          "Dave",
          "Clay and Friends",
          "Chelsea Cutler",
          "Drake / Wizkid / Kyla",
          "Berhana",
          "Saba / Jean Deaux",
          "Hartman / King Majik / Bawse",
          "Amin",
          "Chance the Rapper / BJ The Chicago Kid / Lili K",
          "Russ / BIA",
          "A /  Etta Bond",
          "SL",
          "Dennis Lloyd",
          "ayokay",
          "T Pain",
          "Ghetts / Jaykae / Moonchild Sanelly",
          "Jay Prince",
          "Che Lingo / Kojey Radical",
          "Loyle Carner",
          "Benji Lewis",
          "Skepta / Young Lord"
         ],
         "xaxis": "x",
         "yaxis": "y"
        }
       ],
       "layout": {
        "barmode": "relative",
        "legend": {
         "tracegroupgap": 0
        },
        "template": {
         "data": {
          "bar": [
           {
            "error_x": {
             "color": "#2a3f5f"
            },
            "error_y": {
             "color": "#2a3f5f"
            },
            "marker": {
             "line": {
              "color": "#E5ECF6",
              "width": 0.5
             },
             "pattern": {
              "fillmode": "overlay",
              "size": 10,
              "solidity": 0.2
             }
            },
            "type": "bar"
           }
          ],
          "barpolar": [
           {
            "marker": {
             "line": {
              "color": "#E5ECF6",
              "width": 0.5
             },
             "pattern": {
              "fillmode": "overlay",
              "size": 10,
              "solidity": 0.2
             }
            },
            "type": "barpolar"
           }
          ],
          "carpet": [
           {
            "aaxis": {
             "endlinecolor": "#2a3f5f",
             "gridcolor": "white",
             "linecolor": "white",
             "minorgridcolor": "white",
             "startlinecolor": "#2a3f5f"
            },
            "baxis": {
             "endlinecolor": "#2a3f5f",
             "gridcolor": "white",
             "linecolor": "white",
             "minorgridcolor": "white",
             "startlinecolor": "#2a3f5f"
            },
            "type": "carpet"
           }
          ],
          "choropleth": [
           {
            "colorbar": {
             "outlinewidth": 0,
             "ticks": ""
            },
            "type": "choropleth"
           }
          ],
          "contour": [
           {
            "colorbar": {
             "outlinewidth": 0,
             "ticks": ""
            },
            "colorscale": [
             [
              0,
              "#0d0887"
             ],
             [
              0.1111111111111111,
              "#46039f"
             ],
             [
              0.2222222222222222,
              "#7201a8"
             ],
             [
              0.3333333333333333,
              "#9c179e"
             ],
             [
              0.4444444444444444,
              "#bd3786"
             ],
             [
              0.5555555555555556,
              "#d8576b"
             ],
             [
              0.6666666666666666,
              "#ed7953"
             ],
             [
              0.7777777777777778,
              "#fb9f3a"
             ],
             [
              0.8888888888888888,
              "#fdca26"
             ],
             [
              1,
              "#f0f921"
             ]
            ],
            "type": "contour"
           }
          ],
          "contourcarpet": [
           {
            "colorbar": {
             "outlinewidth": 0,
             "ticks": ""
            },
            "type": "contourcarpet"
           }
          ],
          "heatmap": [
           {
            "colorbar": {
             "outlinewidth": 0,
             "ticks": ""
            },
            "colorscale": [
             [
              0,
              "#0d0887"
             ],
             [
              0.1111111111111111,
              "#46039f"
             ],
             [
              0.2222222222222222,
              "#7201a8"
             ],
             [
              0.3333333333333333,
              "#9c179e"
             ],
             [
              0.4444444444444444,
              "#bd3786"
             ],
             [
              0.5555555555555556,
              "#d8576b"
             ],
             [
              0.6666666666666666,
              "#ed7953"
             ],
             [
              0.7777777777777778,
              "#fb9f3a"
             ],
             [
              0.8888888888888888,
              "#fdca26"
             ],
             [
              1,
              "#f0f921"
             ]
            ],
            "type": "heatmap"
           }
          ],
          "heatmapgl": [
           {
            "colorbar": {
             "outlinewidth": 0,
             "ticks": ""
            },
            "colorscale": [
             [
              0,
              "#0d0887"
             ],
             [
              0.1111111111111111,
              "#46039f"
             ],
             [
              0.2222222222222222,
              "#7201a8"
             ],
             [
              0.3333333333333333,
              "#9c179e"
             ],
             [
              0.4444444444444444,
              "#bd3786"
             ],
             [
              0.5555555555555556,
              "#d8576b"
             ],
             [
              0.6666666666666666,
              "#ed7953"
             ],
             [
              0.7777777777777778,
              "#fb9f3a"
             ],
             [
              0.8888888888888888,
              "#fdca26"
             ],
             [
              1,
              "#f0f921"
             ]
            ],
            "type": "heatmapgl"
           }
          ],
          "histogram": [
           {
            "marker": {
             "pattern": {
              "fillmode": "overlay",
              "size": 10,
              "solidity": 0.2
             }
            },
            "type": "histogram"
           }
          ],
          "histogram2d": [
           {
            "colorbar": {
             "outlinewidth": 0,
             "ticks": ""
            },
            "colorscale": [
             [
              0,
              "#0d0887"
             ],
             [
              0.1111111111111111,
              "#46039f"
             ],
             [
              0.2222222222222222,
              "#7201a8"
             ],
             [
              0.3333333333333333,
              "#9c179e"
             ],
             [
              0.4444444444444444,
              "#bd3786"
             ],
             [
              0.5555555555555556,
              "#d8576b"
             ],
             [
              0.6666666666666666,
              "#ed7953"
             ],
             [
              0.7777777777777778,
              "#fb9f3a"
             ],
             [
              0.8888888888888888,
              "#fdca26"
             ],
             [
              1,
              "#f0f921"
             ]
            ],
            "type": "histogram2d"
           }
          ],
          "histogram2dcontour": [
           {
            "colorbar": {
             "outlinewidth": 0,
             "ticks": ""
            },
            "colorscale": [
             [
              0,
              "#0d0887"
             ],
             [
              0.1111111111111111,
              "#46039f"
             ],
             [
              0.2222222222222222,
              "#7201a8"
             ],
             [
              0.3333333333333333,
              "#9c179e"
             ],
             [
              0.4444444444444444,
              "#bd3786"
             ],
             [
              0.5555555555555556,
              "#d8576b"
             ],
             [
              0.6666666666666666,
              "#ed7953"
             ],
             [
              0.7777777777777778,
              "#fb9f3a"
             ],
             [
              0.8888888888888888,
              "#fdca26"
             ],
             [
              1,
              "#f0f921"
             ]
            ],
            "type": "histogram2dcontour"
           }
          ],
          "mesh3d": [
           {
            "colorbar": {
             "outlinewidth": 0,
             "ticks": ""
            },
            "type": "mesh3d"
           }
          ],
          "parcoords": [
           {
            "line": {
             "colorbar": {
              "outlinewidth": 0,
              "ticks": ""
             }
            },
            "type": "parcoords"
           }
          ],
          "pie": [
           {
            "automargin": true,
            "type": "pie"
           }
          ],
          "scatter": [
           {
            "fillpattern": {
             "fillmode": "overlay",
             "size": 10,
             "solidity": 0.2
            },
            "type": "scatter"
           }
          ],
          "scatter3d": [
           {
            "line": {
             "colorbar": {
              "outlinewidth": 0,
              "ticks": ""
             }
            },
            "marker": {
             "colorbar": {
              "outlinewidth": 0,
              "ticks": ""
             }
            },
            "type": "scatter3d"
           }
          ],
          "scattercarpet": [
           {
            "marker": {
             "colorbar": {
              "outlinewidth": 0,
              "ticks": ""
             }
            },
            "type": "scattercarpet"
           }
          ],
          "scattergeo": [
           {
            "marker": {
             "colorbar": {
              "outlinewidth": 0,
              "ticks": ""
             }
            },
            "type": "scattergeo"
           }
          ],
          "scattergl": [
           {
            "marker": {
             "colorbar": {
              "outlinewidth": 0,
              "ticks": ""
             }
            },
            "type": "scattergl"
           }
          ],
          "scattermapbox": [
           {
            "marker": {
             "colorbar": {
              "outlinewidth": 0,
              "ticks": ""
             }
            },
            "type": "scattermapbox"
           }
          ],
          "scatterpolar": [
           {
            "marker": {
             "colorbar": {
              "outlinewidth": 0,
              "ticks": ""
             }
            },
            "type": "scatterpolar"
           }
          ],
          "scatterpolargl": [
           {
            "marker": {
             "colorbar": {
              "outlinewidth": 0,
              "ticks": ""
             }
            },
            "type": "scatterpolargl"
           }
          ],
          "scatterternary": [
           {
            "marker": {
             "colorbar": {
              "outlinewidth": 0,
              "ticks": ""
             }
            },
            "type": "scatterternary"
           }
          ],
          "surface": [
           {
            "colorbar": {
             "outlinewidth": 0,
             "ticks": ""
            },
            "colorscale": [
             [
              0,
              "#0d0887"
             ],
             [
              0.1111111111111111,
              "#46039f"
             ],
             [
              0.2222222222222222,
              "#7201a8"
             ],
             [
              0.3333333333333333,
              "#9c179e"
             ],
             [
              0.4444444444444444,
              "#bd3786"
             ],
             [
              0.5555555555555556,
              "#d8576b"
             ],
             [
              0.6666666666666666,
              "#ed7953"
             ],
             [
              0.7777777777777778,
              "#fb9f3a"
             ],
             [
              0.8888888888888888,
              "#fdca26"
             ],
             [
              1,
              "#f0f921"
             ]
            ],
            "type": "surface"
           }
          ],
          "table": [
           {
            "cells": {
             "fill": {
              "color": "#EBF0F8"
             },
             "line": {
              "color": "white"
             }
            },
            "header": {
             "fill": {
              "color": "#C8D4E3"
             },
             "line": {
              "color": "white"
             }
            },
            "type": "table"
           }
          ]
         },
         "layout": {
          "annotationdefaults": {
           "arrowcolor": "#2a3f5f",
           "arrowhead": 0,
           "arrowwidth": 1
          },
          "autotypenumbers": "strict",
          "coloraxis": {
           "colorbar": {
            "outlinewidth": 0,
            "ticks": ""
           }
          },
          "colorscale": {
           "diverging": [
            [
             0,
             "#8e0152"
            ],
            [
             0.1,
             "#c51b7d"
            ],
            [
             0.2,
             "#de77ae"
            ],
            [
             0.3,
             "#f1b6da"
            ],
            [
             0.4,
             "#fde0ef"
            ],
            [
             0.5,
             "#f7f7f7"
            ],
            [
             0.6,
             "#e6f5d0"
            ],
            [
             0.7,
             "#b8e186"
            ],
            [
             0.8,
             "#7fbc41"
            ],
            [
             0.9,
             "#4d9221"
            ],
            [
             1,
             "#276419"
            ]
           ],
           "sequential": [
            [
             0,
             "#0d0887"
            ],
            [
             0.1111111111111111,
             "#46039f"
            ],
            [
             0.2222222222222222,
             "#7201a8"
            ],
            [
             0.3333333333333333,
             "#9c179e"
            ],
            [
             0.4444444444444444,
             "#bd3786"
            ],
            [
             0.5555555555555556,
             "#d8576b"
            ],
            [
             0.6666666666666666,
             "#ed7953"
            ],
            [
             0.7777777777777778,
             "#fb9f3a"
            ],
            [
             0.8888888888888888,
             "#fdca26"
            ],
            [
             1,
             "#f0f921"
            ]
           ],
           "sequentialminus": [
            [
             0,
             "#0d0887"
            ],
            [
             0.1111111111111111,
             "#46039f"
            ],
            [
             0.2222222222222222,
             "#7201a8"
            ],
            [
             0.3333333333333333,
             "#9c179e"
            ],
            [
             0.4444444444444444,
             "#bd3786"
            ],
            [
             0.5555555555555556,
             "#d8576b"
            ],
            [
             0.6666666666666666,
             "#ed7953"
            ],
            [
             0.7777777777777778,
             "#fb9f3a"
            ],
            [
             0.8888888888888888,
             "#fdca26"
            ],
            [
             1,
             "#f0f921"
            ]
           ]
          },
          "colorway": [
           "#636efa",
           "#EF553B",
           "#00cc96",
           "#ab63fa",
           "#FFA15A",
           "#19d3f3",
           "#FF6692",
           "#B6E880",
           "#FF97FF",
           "#FECB52"
          ],
          "font": {
           "color": "#2a3f5f"
          },
          "geo": {
           "bgcolor": "white",
           "lakecolor": "white",
           "landcolor": "#E5ECF6",
           "showlakes": true,
           "showland": true,
           "subunitcolor": "white"
          },
          "hoverlabel": {
           "align": "left"
          },
          "hovermode": "closest",
          "mapbox": {
           "style": "light"
          },
          "paper_bgcolor": "white",
          "plot_bgcolor": "#E5ECF6",
          "polar": {
           "angularaxis": {
            "gridcolor": "white",
            "linecolor": "white",
            "ticks": ""
           },
           "bgcolor": "#E5ECF6",
           "radialaxis": {
            "gridcolor": "white",
            "linecolor": "white",
            "ticks": ""
           }
          },
          "scene": {
           "xaxis": {
            "backgroundcolor": "#E5ECF6",
            "gridcolor": "white",
            "gridwidth": 2,
            "linecolor": "white",
            "showbackground": true,
            "ticks": "",
            "zerolinecolor": "white"
           },
           "yaxis": {
            "backgroundcolor": "#E5ECF6",
            "gridcolor": "white",
            "gridwidth": 2,
            "linecolor": "white",
            "showbackground": true,
            "ticks": "",
            "zerolinecolor": "white"
           },
           "zaxis": {
            "backgroundcolor": "#E5ECF6",
            "gridcolor": "white",
            "gridwidth": 2,
            "linecolor": "white",
            "showbackground": true,
            "ticks": "",
            "zerolinecolor": "white"
           }
          },
          "shapedefaults": {
           "line": {
            "color": "#2a3f5f"
           }
          },
          "ternary": {
           "aaxis": {
            "gridcolor": "white",
            "linecolor": "white",
            "ticks": ""
           },
           "baxis": {
            "gridcolor": "white",
            "linecolor": "white",
            "ticks": ""
           },
           "bgcolor": "#E5ECF6",
           "caxis": {
            "gridcolor": "white",
            "linecolor": "white",
            "ticks": ""
           }
          },
          "title": {
           "x": 0.05
          },
          "xaxis": {
           "automargin": true,
           "gridcolor": "white",
           "linecolor": "white",
           "ticks": "",
           "title": {
            "standoff": 15
           },
           "zerolinecolor": "white",
           "zerolinewidth": 2
          },
          "yaxis": {
           "automargin": true,
           "gridcolor": "white",
           "linecolor": "white",
           "ticks": "",
           "title": {
            "standoff": 15
           },
           "zerolinecolor": "white",
           "zerolinewidth": 2
          }
         }
        },
        "title": {
         "text": "Number of songs per artist(s) in Playlist 2",
         "x": 0.5
        },
        "xaxis": {
         "anchor": "y",
         "domain": [
          0,
          1
         ],
         "title": {
          "text": "artists"
         }
        },
        "yaxis": {
         "anchor": "x",
         "domain": [
          0,
          1
         ],
         "title": {
          "text": "count"
         }
        }
       }
      }
     },
     "metadata": {},
     "output_type": "display_data"
    }
   ],
   "source": [
    "fig = px.histogram(playlist_2, x = 'artists', title= 'Number of songs per artist(s) in Playlist 2')\n",
    "fig.update_layout(title_x = 0.5)"
   ]
  },
  {
   "cell_type": "code",
   "execution_count": 17,
   "metadata": {},
   "outputs": [
    {
     "data": {
      "application/vnd.plotly.v1+json": {
       "config": {
        "plotlyServerURL": "https://plot.ly"
       },
       "data": [
        {
         "alignmentgroup": "True",
         "bingroup": "y",
         "hovertemplate": "count=%{x}<br>artists=%{y}<extra></extra>",
         "legendgroup": "",
         "marker": {
          "color": "#636efa",
          "pattern": {
           "shape": ""
          }
         },
         "name": "",
         "offsetgroup": "",
         "orientation": "h",
         "showlegend": false,
         "type": "histogram",
         "xaxis": "x",
         "y": [
          "Sylvan Esso",
          "Dijon",
          "Blue Foundation",
          "Whethan / Ashe",
          "Sylvan Esso",
          "Electric Guest",
          "Souly Had",
          "NoMBe",
          "Coast Modern",
          "DEVOTED / Billionaire",
          "slenderbodies",
          "Kweku Collins",
          "RIZ LA VIE",
          "Death Cab for Cutie / Louis The Child",
          "Whethan / Mascolo",
          "RIZ LA VIE",
          "Sylvan Esso",
          "Jack Kays",
          "Sylvan Esso",
          "RIZ LA VIE",
          "ODIE",
          "Local Natives",
          "Joy Crookes",
          "Mahalia",
          "Two Another",
          "NoMBe / Thutmose",
          "Cautious Clay",
          "Alina Baraz / Khalid",
          "Alina Baraz / Khalid",
          "Alina Baraz / Khalid",
          "slenderbodies",
          "John Butler",
          "Shakey Graves",
          "Shakey Graves",
          "KALEO",
          "KALEO",
          "Mumford   Sons",
          "Ang le",
          "Wiley from Atlanta",
          "Wiley from Atlanta",
          "Wiley from Atlanta",
          "Wiley from Atlanta",
          "Benji Lewis",
          "Benji Lewis",
          "Benji Lewis",
          "Berhana",
          "Berhana",
          "Berhana",
          "Berhana",
          "Berhana",
          "Berhana",
          "Clay and Friends",
          "Clay and Friends",
          "Dennis Lloyd",
          "Dennis Lloyd",
          "Dennis Lloyd",
          "Dennis Lloyd",
          "Hozier",
          "Hozier",
          "Hozier",
          "Ashh",
          "Ashh",
          "Ashh",
          "Ashh",
          "j ember",
          "j ember",
          "Bon Iver",
          "Bon Iver",
          "Bon Iver",
          "Hozier",
          "TOBi / Harrison",
          "Current Blue",
          "Tones And I",
          "Ashh",
          "Ashh",
          "Ashh",
          "Matt DiMona",
          "Matt DiMona",
          "Masego",
          "Masego",
          "Abhi The Nomad / Harrison Sands / Copper King",
          "Abhi The Nomad / Harrison Sands / Copper King",
          "Masego / FKJ",
          "Masego / FKJ",
          "Jorja Smith",
          "Jorja Smith",
          "Masego",
          "Masego",
          "Maggie Rogers",
          "Maggie Rogers",
          "Frank Ocean",
          "Mac DeMarco",
          "Mac DeMarco",
          "Quinn XCII / Chelsea Cutler",
          "Quinn XCII / Chelsea Cutler",
          "Tora",
          "Tora",
          "Abhi The Nomad",
          "Saba / Jean Deaux",
          "Dantes",
          "Quincy Mumford",
          "Foreign Air",
          "Grizfolk",
          "Alice et Moi",
          "Royal   the Serpent / Marky Style",
          "ASL",
          "Two Another",
          "KAMAUU",
          "Verzache / Swell",
          "Irie Lee",
          "Abhi The Nomad",
          "Shoffy",
          "Jakubi",
          "NoMBe",
          "Shoffy",
          "Rence",
          "ODESZA / Leon Bridges",
          "WILLOW",
          "alt J",
          "James Hersey",
          "James Hersey",
          "Milky Chance",
          "Milky Chance",
          "Quinn XCII / Ashe / Louis Futon",
          "Quinn XCII / Ashe / Louis Futon",
          "Mac DeMarco",
          "Mac DeMarco",
          "alt J",
          "alt J",
          "Billie Eilish",
          "Billie Eilish",
          "Billie Eilish",
          "Billie Eilish",
          "Oliver Tree",
          "SHAED / ZAYN",
          "Still Woozy",
          "DRAMA",
          "Chelsea Cutler",
          "Zachary Knowles",
          "ayokay",
          "ayokay",
          "Clay and Friends",
          "Masego",
          "NoMBe",
          "Zanski",
          "Mac Miller",
          "Tora",
          "George Ezra",
          "SZA / Calvin Harris / Funk Wav",
          "The Lagoons",
          "Tayla Parx / Khalid",
          "Kevin Garrett",
          "Mother Mother",
          "Khalid",
          "Khalid",
          "Khalid",
          "Kiiara",
          "Tierra Whack",
          "Khalid / Disclosure",
          "The Lumineers",
          "Quinn XCII",
          "Frank Ocean",
          "Quinn XCII",
          "Tom Misch / GoldLink",
          "Quinn XCII",
          "Tom Misch",
          "Frank Ocean",
          "Jon Bellion",
          "Quinn XCII",
          "Roy Woods",
          "Chance the Rapper / Justin Bieber / Towkio",
          "Chance the Rapper / Jeremih / Francis and the Lights",
          "Frank Ocean",
          "Chet Faker",
          "Frank Ocean",
          "Frank Ocean",
          "Frank Ocean",
          "Quinn XCII",
          "Jon Bellion",
          "Ruth B",
          "Kiiara",
          "Daya",
          "Alessia Cara",
          "Jorja Smith",
          "Mac DeMarco",
          "Mac DeMarco",
          "Mac DeMarco",
          "Roy Woods",
          "Phoebe Ryan / Quinn XCII",
          "Khalid / Normani",
          "T Pain",
          "Jelani Blackman",
          "Quinn XCII / Elohim",
          "Quinn XCII",
          "Quinn XCII",
          "Quinn XCII",
          "Quinn XCII / Yoshi Flower",
          "Quinn XCII / Noah Kahan",
          "Quinn XCII",
          "Quinn XCII",
          "Quinn XCII",
          "Quinn XCII",
          "Quinn XCII",
          "Quinn XCII",
          "Quinn XCII",
          "Quinn XCII / Chelsea Cutler",
          "Quinn XCII",
          "Quinn XCII",
          "Quinn XCII",
          "Quinn XCII",
          "Quinn XCII",
          "Quinn XCII",
          "Quinn XCII",
          "Quinn XCII",
          "Quinn XCII",
          "Quinn XCII / Kailee Morgue",
          "Quinn XCII",
          "Kevin Garrett",
          "Jaymes Young / Phoebe Ryan",
          "Hozier",
          "James Quick",
          "Hozier",
          "X Ambassadors",
          "George Ezra",
          "Francis and the Lights / Chance the Rapper",
          "Khalid",
          "Dave / J Hus",
          "Trettmann / KitschKrieg / SFR / KeKe",
          "Trettmann / KitschKrieg / SFR / KeKe",
          "Rompasso / Rich The Kid",
          "Neighbors / Brasstracks / PhiloSofie",
          "KitschKrieg / SFR / CRO / AnnenMayKantereit / Trettmann",
          "RIZ LA VIE",
          "Trettmann / KitschKrieg / SFR",
          "Trettmann / KitschKrieg / SFR",
          "BabyJake",
          "RIZ LA VIE",
          "Kweku Collins",
          "Souly Had",
          "RIZ LA VIE",
          "Bizarrap / NATHY PELUSO",
          "Bizarrap / NATHY PELUSO",
          "Just A Gent / Nevve",
          "INK",
          "Rick Ross / Drake",
          "DEVOTED / Billionaire",
          "Trettmann / KitschKrieg / SFR",
          "Trettmann / KitschKrieg / SFR",
          "Souly Had / Lonr",
          "Caye",
          "Stormzy",
          "Stormzy",
          "Benji Lewis",
          "Seal",
          "Wingtip / Sophie Strauss",
          "SAINt JHN",
          "Trettmann / KitschKrieg / SFR / Bonez MC / RAF Camora",
          "Trettmann / KitschKrieg / SFR / Bonez MC / RAF Camora",
          "OH",
          "Big Wild / Hundred Waters",
          "Jaden / WILLOW",
          "Jaden / WILLOW",
          "Trettmann / KitschKrieg / SFR",
          "Trettmann / KitschKrieg / SFR",
          "SAINt JHN",
          "Matisyahu",
          "Trettmann / KitschKrieg / SFR",
          "Trettmann / KitschKrieg / SFR",
          "James Brown / The J B  s",
          "James Brown / The J B  s",
          "Rod Wave",
          "Trettmann / KitschKrieg / SFR",
          "Trettmann / KitschKrieg / SFR",
          "filous / James Hersey",
          "filous / James Hersey",
          "Azealia Banks / Lazy Jay",
          "Azealia Banks / Lazy Jay",
          "Loyle Carner / Tom Misch",
          "Loyle Carner / Tom Misch",
          "Trettmann / Gzuz / KitschKrieg / SFR",
          "Trettmann / Gzuz / KitschKrieg / SFR",
          "Hinder",
          "Natalie Imbruglia",
          "Trettmann / KitschKrieg / SFR",
          "Trettmann / KitschKrieg / SFR",
          "Passion Pit",
          "Passion Pit",
          "Timbaland / Keri Hilson / D O E",
          "Timbaland / Keri Hilson / D O E",
          "Trettmann / KitschKrieg / SFR / Marteria",
          "Trettmann / KitschKrieg / SFR / Marteria",
          "SAINt JHN",
          "Elle King",
          "Sons Of The East",
          "Trettmann / KitschKrieg / SFR / Haiyti / Joey Bargeld",
          "Trettmann / KitschKrieg / SFR / Haiyti / Joey Bargeld",
          "Anderson  Paak",
          "Anderson  Paak",
          "Kojey Radical / Mahalia / Swindle",
          "Kojey Radical / Mahalia / Swindle",
          "Dave / Burna Boy",
          "Dave / Burna Boy",
          "Skepta / J Hus",
          "Skepta / J Hus",
          "Headie One / AJ Tracey / Stormzy",
          "Headie One / AJ Tracey / Stormzy",
          "Russ / Tamae / Capella Grey",
          "Russ / Tamae / Capella Grey",
          "Nu",
          "Nu",
          "Stormzy",
          "Golden Vessel / Emerson Leif",
          "Domo Genesis / Anderson  Paak",
          "Domo Genesis / Anderson  Paak",
          "Dave",
          "Dave",
          "Skepta / Wizkid",
          "Skepta / Wizkid",
          "Die Antwoord",
          "Samm Henshaw",
          "Samm Henshaw",
          "Kelvyn Colt",
          "Skepta / Young Lord",
          "Skepta / Young Lord",
          "Dave / Stormzy",
          "Dave / Stormzy",
          "Litany",
          "Y K / bbno",
          "Y K / bbno",
          "Dave",
          "Dave",
          "Remi Wolf",
          "Remi Wolf",
          "Masego / FKJ",
          "Masego / FKJ",
          "Action Bronson / Chance the Rapper",
          "Action Bronson / Chance the Rapper",
          "Avril Lavigne",
          "Rod Wave",
          "Stormzy",
          "Basshunter",
          "INK",
          "Pacific Avenue",
          "Anderson  Paak",
          "NxWorries / Anderson  Paak / Knxwledge",
          "Jay Prince",
          "Kid Cudi",
          "Tion Wayne",
          "The Game / Elijah Blake",
          "Jevon",
          "Green Day",
          "Baloji",
          "A AP Ferg / MadeinTYO",
          "Estelle / Kanye West",
          "Protoje / Wiz Khalifa",
          "Will Smith",
          "The Silhouettes Project / Kieron Boothe / Morgan Lorelle / Purple Cloud",
          "kadiata / Sam Wise",
          "Skepta",
          "Chance the Rapper / Nate Fox",
          "Busta Rhymes / Anderson  Paak",
          "Chance the Rapper / VIC MENSA / Twista",
          "Young T   Bugsey / DaBaby",
          "Chance the Rapper / Nosaj Thing",
          "AJ Tracey",
          "Colter Wall",
          "Edward Maya / Vika Jigulina",
          "Avelino / SL",
          "Basshunter",
          "A AP Rocky / Skepta",
          "Drake / Wizkid / Kyla",
          "Hartman / King Majik / Bawse",
          "Amin",
          "Chance the Rapper / BJ The Chicago Kid / Lili K",
          "Russ / BIA",
          "A /  Etta Bond",
          "SL",
          "T Pain",
          "Ghetts / Jaykae / Moonchild Sanelly",
          "Jay Prince",
          "Che Lingo / Kojey Radical",
          "Loyle Carner",
          "Benji Lewis"
         ],
         "yaxis": "y"
        }
       ],
       "layout": {
        "barmode": "relative",
        "height": 4000,
        "legend": {
         "tracegroupgap": 0
        },
        "template": {
         "data": {
          "bar": [
           {
            "error_x": {
             "color": "#2a3f5f"
            },
            "error_y": {
             "color": "#2a3f5f"
            },
            "marker": {
             "line": {
              "color": "#E5ECF6",
              "width": 0.5
             },
             "pattern": {
              "fillmode": "overlay",
              "size": 10,
              "solidity": 0.2
             }
            },
            "type": "bar"
           }
          ],
          "barpolar": [
           {
            "marker": {
             "line": {
              "color": "#E5ECF6",
              "width": 0.5
             },
             "pattern": {
              "fillmode": "overlay",
              "size": 10,
              "solidity": 0.2
             }
            },
            "type": "barpolar"
           }
          ],
          "carpet": [
           {
            "aaxis": {
             "endlinecolor": "#2a3f5f",
             "gridcolor": "white",
             "linecolor": "white",
             "minorgridcolor": "white",
             "startlinecolor": "#2a3f5f"
            },
            "baxis": {
             "endlinecolor": "#2a3f5f",
             "gridcolor": "white",
             "linecolor": "white",
             "minorgridcolor": "white",
             "startlinecolor": "#2a3f5f"
            },
            "type": "carpet"
           }
          ],
          "choropleth": [
           {
            "colorbar": {
             "outlinewidth": 0,
             "ticks": ""
            },
            "type": "choropleth"
           }
          ],
          "contour": [
           {
            "colorbar": {
             "outlinewidth": 0,
             "ticks": ""
            },
            "colorscale": [
             [
              0,
              "#0d0887"
             ],
             [
              0.1111111111111111,
              "#46039f"
             ],
             [
              0.2222222222222222,
              "#7201a8"
             ],
             [
              0.3333333333333333,
              "#9c179e"
             ],
             [
              0.4444444444444444,
              "#bd3786"
             ],
             [
              0.5555555555555556,
              "#d8576b"
             ],
             [
              0.6666666666666666,
              "#ed7953"
             ],
             [
              0.7777777777777778,
              "#fb9f3a"
             ],
             [
              0.8888888888888888,
              "#fdca26"
             ],
             [
              1,
              "#f0f921"
             ]
            ],
            "type": "contour"
           }
          ],
          "contourcarpet": [
           {
            "colorbar": {
             "outlinewidth": 0,
             "ticks": ""
            },
            "type": "contourcarpet"
           }
          ],
          "heatmap": [
           {
            "colorbar": {
             "outlinewidth": 0,
             "ticks": ""
            },
            "colorscale": [
             [
              0,
              "#0d0887"
             ],
             [
              0.1111111111111111,
              "#46039f"
             ],
             [
              0.2222222222222222,
              "#7201a8"
             ],
             [
              0.3333333333333333,
              "#9c179e"
             ],
             [
              0.4444444444444444,
              "#bd3786"
             ],
             [
              0.5555555555555556,
              "#d8576b"
             ],
             [
              0.6666666666666666,
              "#ed7953"
             ],
             [
              0.7777777777777778,
              "#fb9f3a"
             ],
             [
              0.8888888888888888,
              "#fdca26"
             ],
             [
              1,
              "#f0f921"
             ]
            ],
            "type": "heatmap"
           }
          ],
          "heatmapgl": [
           {
            "colorbar": {
             "outlinewidth": 0,
             "ticks": ""
            },
            "colorscale": [
             [
              0,
              "#0d0887"
             ],
             [
              0.1111111111111111,
              "#46039f"
             ],
             [
              0.2222222222222222,
              "#7201a8"
             ],
             [
              0.3333333333333333,
              "#9c179e"
             ],
             [
              0.4444444444444444,
              "#bd3786"
             ],
             [
              0.5555555555555556,
              "#d8576b"
             ],
             [
              0.6666666666666666,
              "#ed7953"
             ],
             [
              0.7777777777777778,
              "#fb9f3a"
             ],
             [
              0.8888888888888888,
              "#fdca26"
             ],
             [
              1,
              "#f0f921"
             ]
            ],
            "type": "heatmapgl"
           }
          ],
          "histogram": [
           {
            "marker": {
             "pattern": {
              "fillmode": "overlay",
              "size": 10,
              "solidity": 0.2
             }
            },
            "type": "histogram"
           }
          ],
          "histogram2d": [
           {
            "colorbar": {
             "outlinewidth": 0,
             "ticks": ""
            },
            "colorscale": [
             [
              0,
              "#0d0887"
             ],
             [
              0.1111111111111111,
              "#46039f"
             ],
             [
              0.2222222222222222,
              "#7201a8"
             ],
             [
              0.3333333333333333,
              "#9c179e"
             ],
             [
              0.4444444444444444,
              "#bd3786"
             ],
             [
              0.5555555555555556,
              "#d8576b"
             ],
             [
              0.6666666666666666,
              "#ed7953"
             ],
             [
              0.7777777777777778,
              "#fb9f3a"
             ],
             [
              0.8888888888888888,
              "#fdca26"
             ],
             [
              1,
              "#f0f921"
             ]
            ],
            "type": "histogram2d"
           }
          ],
          "histogram2dcontour": [
           {
            "colorbar": {
             "outlinewidth": 0,
             "ticks": ""
            },
            "colorscale": [
             [
              0,
              "#0d0887"
             ],
             [
              0.1111111111111111,
              "#46039f"
             ],
             [
              0.2222222222222222,
              "#7201a8"
             ],
             [
              0.3333333333333333,
              "#9c179e"
             ],
             [
              0.4444444444444444,
              "#bd3786"
             ],
             [
              0.5555555555555556,
              "#d8576b"
             ],
             [
              0.6666666666666666,
              "#ed7953"
             ],
             [
              0.7777777777777778,
              "#fb9f3a"
             ],
             [
              0.8888888888888888,
              "#fdca26"
             ],
             [
              1,
              "#f0f921"
             ]
            ],
            "type": "histogram2dcontour"
           }
          ],
          "mesh3d": [
           {
            "colorbar": {
             "outlinewidth": 0,
             "ticks": ""
            },
            "type": "mesh3d"
           }
          ],
          "parcoords": [
           {
            "line": {
             "colorbar": {
              "outlinewidth": 0,
              "ticks": ""
             }
            },
            "type": "parcoords"
           }
          ],
          "pie": [
           {
            "automargin": true,
            "type": "pie"
           }
          ],
          "scatter": [
           {
            "fillpattern": {
             "fillmode": "overlay",
             "size": 10,
             "solidity": 0.2
            },
            "type": "scatter"
           }
          ],
          "scatter3d": [
           {
            "line": {
             "colorbar": {
              "outlinewidth": 0,
              "ticks": ""
             }
            },
            "marker": {
             "colorbar": {
              "outlinewidth": 0,
              "ticks": ""
             }
            },
            "type": "scatter3d"
           }
          ],
          "scattercarpet": [
           {
            "marker": {
             "colorbar": {
              "outlinewidth": 0,
              "ticks": ""
             }
            },
            "type": "scattercarpet"
           }
          ],
          "scattergeo": [
           {
            "marker": {
             "colorbar": {
              "outlinewidth": 0,
              "ticks": ""
             }
            },
            "type": "scattergeo"
           }
          ],
          "scattergl": [
           {
            "marker": {
             "colorbar": {
              "outlinewidth": 0,
              "ticks": ""
             }
            },
            "type": "scattergl"
           }
          ],
          "scattermapbox": [
           {
            "marker": {
             "colorbar": {
              "outlinewidth": 0,
              "ticks": ""
             }
            },
            "type": "scattermapbox"
           }
          ],
          "scatterpolar": [
           {
            "marker": {
             "colorbar": {
              "outlinewidth": 0,
              "ticks": ""
             }
            },
            "type": "scatterpolar"
           }
          ],
          "scatterpolargl": [
           {
            "marker": {
             "colorbar": {
              "outlinewidth": 0,
              "ticks": ""
             }
            },
            "type": "scatterpolargl"
           }
          ],
          "scatterternary": [
           {
            "marker": {
             "colorbar": {
              "outlinewidth": 0,
              "ticks": ""
             }
            },
            "type": "scatterternary"
           }
          ],
          "surface": [
           {
            "colorbar": {
             "outlinewidth": 0,
             "ticks": ""
            },
            "colorscale": [
             [
              0,
              "#0d0887"
             ],
             [
              0.1111111111111111,
              "#46039f"
             ],
             [
              0.2222222222222222,
              "#7201a8"
             ],
             [
              0.3333333333333333,
              "#9c179e"
             ],
             [
              0.4444444444444444,
              "#bd3786"
             ],
             [
              0.5555555555555556,
              "#d8576b"
             ],
             [
              0.6666666666666666,
              "#ed7953"
             ],
             [
              0.7777777777777778,
              "#fb9f3a"
             ],
             [
              0.8888888888888888,
              "#fdca26"
             ],
             [
              1,
              "#f0f921"
             ]
            ],
            "type": "surface"
           }
          ],
          "table": [
           {
            "cells": {
             "fill": {
              "color": "#EBF0F8"
             },
             "line": {
              "color": "white"
             }
            },
            "header": {
             "fill": {
              "color": "#C8D4E3"
             },
             "line": {
              "color": "white"
             }
            },
            "type": "table"
           }
          ]
         },
         "layout": {
          "annotationdefaults": {
           "arrowcolor": "#2a3f5f",
           "arrowhead": 0,
           "arrowwidth": 1
          },
          "autotypenumbers": "strict",
          "coloraxis": {
           "colorbar": {
            "outlinewidth": 0,
            "ticks": ""
           }
          },
          "colorscale": {
           "diverging": [
            [
             0,
             "#8e0152"
            ],
            [
             0.1,
             "#c51b7d"
            ],
            [
             0.2,
             "#de77ae"
            ],
            [
             0.3,
             "#f1b6da"
            ],
            [
             0.4,
             "#fde0ef"
            ],
            [
             0.5,
             "#f7f7f7"
            ],
            [
             0.6,
             "#e6f5d0"
            ],
            [
             0.7,
             "#b8e186"
            ],
            [
             0.8,
             "#7fbc41"
            ],
            [
             0.9,
             "#4d9221"
            ],
            [
             1,
             "#276419"
            ]
           ],
           "sequential": [
            [
             0,
             "#0d0887"
            ],
            [
             0.1111111111111111,
             "#46039f"
            ],
            [
             0.2222222222222222,
             "#7201a8"
            ],
            [
             0.3333333333333333,
             "#9c179e"
            ],
            [
             0.4444444444444444,
             "#bd3786"
            ],
            [
             0.5555555555555556,
             "#d8576b"
            ],
            [
             0.6666666666666666,
             "#ed7953"
            ],
            [
             0.7777777777777778,
             "#fb9f3a"
            ],
            [
             0.8888888888888888,
             "#fdca26"
            ],
            [
             1,
             "#f0f921"
            ]
           ],
           "sequentialminus": [
            [
             0,
             "#0d0887"
            ],
            [
             0.1111111111111111,
             "#46039f"
            ],
            [
             0.2222222222222222,
             "#7201a8"
            ],
            [
             0.3333333333333333,
             "#9c179e"
            ],
            [
             0.4444444444444444,
             "#bd3786"
            ],
            [
             0.5555555555555556,
             "#d8576b"
            ],
            [
             0.6666666666666666,
             "#ed7953"
            ],
            [
             0.7777777777777778,
             "#fb9f3a"
            ],
            [
             0.8888888888888888,
             "#fdca26"
            ],
            [
             1,
             "#f0f921"
            ]
           ]
          },
          "colorway": [
           "#636efa",
           "#EF553B",
           "#00cc96",
           "#ab63fa",
           "#FFA15A",
           "#19d3f3",
           "#FF6692",
           "#B6E880",
           "#FF97FF",
           "#FECB52"
          ],
          "font": {
           "color": "#2a3f5f"
          },
          "geo": {
           "bgcolor": "white",
           "lakecolor": "white",
           "landcolor": "#E5ECF6",
           "showlakes": true,
           "showland": true,
           "subunitcolor": "white"
          },
          "hoverlabel": {
           "align": "left"
          },
          "hovermode": "closest",
          "mapbox": {
           "style": "light"
          },
          "paper_bgcolor": "white",
          "plot_bgcolor": "#E5ECF6",
          "polar": {
           "angularaxis": {
            "gridcolor": "white",
            "linecolor": "white",
            "ticks": ""
           },
           "bgcolor": "#E5ECF6",
           "radialaxis": {
            "gridcolor": "white",
            "linecolor": "white",
            "ticks": ""
           }
          },
          "scene": {
           "xaxis": {
            "backgroundcolor": "#E5ECF6",
            "gridcolor": "white",
            "gridwidth": 2,
            "linecolor": "white",
            "showbackground": true,
            "ticks": "",
            "zerolinecolor": "white"
           },
           "yaxis": {
            "backgroundcolor": "#E5ECF6",
            "gridcolor": "white",
            "gridwidth": 2,
            "linecolor": "white",
            "showbackground": true,
            "ticks": "",
            "zerolinecolor": "white"
           },
           "zaxis": {
            "backgroundcolor": "#E5ECF6",
            "gridcolor": "white",
            "gridwidth": 2,
            "linecolor": "white",
            "showbackground": true,
            "ticks": "",
            "zerolinecolor": "white"
           }
          },
          "shapedefaults": {
           "line": {
            "color": "#2a3f5f"
           }
          },
          "ternary": {
           "aaxis": {
            "gridcolor": "white",
            "linecolor": "white",
            "ticks": ""
           },
           "baxis": {
            "gridcolor": "white",
            "linecolor": "white",
            "ticks": ""
           },
           "bgcolor": "#E5ECF6",
           "caxis": {
            "gridcolor": "white",
            "linecolor": "white",
            "ticks": ""
           }
          },
          "title": {
           "x": 0.05
          },
          "xaxis": {
           "automargin": true,
           "gridcolor": "white",
           "linecolor": "white",
           "ticks": "",
           "title": {
            "standoff": 15
           },
           "zerolinecolor": "white",
           "zerolinewidth": 2
          },
          "yaxis": {
           "automargin": true,
           "gridcolor": "white",
           "linecolor": "white",
           "ticks": "",
           "title": {
            "standoff": 15
           },
           "zerolinecolor": "white",
           "zerolinewidth": 2
          }
         }
        },
        "title": {
         "text": "Number of tracks each artist has in both playlists",
         "x": 0.5
        },
        "xaxis": {
         "anchor": "y",
         "domain": [
          0,
          1
         ],
         "title": {
          "text": "count"
         }
        },
        "yaxis": {
         "anchor": "x",
         "domain": [
          0,
          1
         ],
         "title": {
          "text": "artists"
         }
        }
       }
      }
     },
     "metadata": {},
     "output_type": "display_data"
    }
   ],
   "source": [
    "fig = px.histogram(merge, y='artists', orientation='h', height=4000, title= 'Number of tracks each artist has in both playlists')\n",
    "fig.update_layout(title_x = 0.5)\n",
    "fig.show()"
   ]
  },
  {
   "cell_type": "code",
   "execution_count": 18,
   "metadata": {},
   "outputs": [
    {
     "name": "stdout",
     "output_type": "stream",
     "text": [
      "The artist with the most songs from different albums in playlist 1 is Quinn XCII with a total of 6 different album appearances\n",
      "The artist with the most songs from different albums in playlist 2 is RIZ LA VIE with a total of 3 different album appearances\n",
      "The artist with the most songs from different albums in both playlists is Quinn XCII with a total of 6 different album appearances\n"
     ]
    }
   ],
   "source": [
    "\"\"\"\n",
    "By taking only the columns we need and counting the values of each unique occurance of both columns, we can find the number of albums each artist appears in.\n",
    "Then, taking the value that occurs the most, we can separate the artist(s) that appear in the most albums per playlist.\n",
    "\"\"\"\n",
    "top_album_art_1 = playlist_1[['artists', 'album']].value_counts().rename_axis(['artists', 'album']).reset_index(name = 'counts')\n",
    "top_album_art_1 = top_album_art_1['artists'].value_counts().head(1).rename_axis('artists').reset_index(name = 'counts')\n",
    "\n",
    "top_album_art_2 = playlist_2[['artists', 'album']].value_counts().rename_axis(['artists', 'album']).reset_index(name = 'counts')\n",
    "top_album_art_2 = top_album_art_2['artists'].value_counts().head(1).rename_axis('artists').reset_index(name = 'counts')\n",
    "\n",
    "top_album_art_both = merge[['artists', 'album']].value_counts().rename_axis(['artists', 'album']).reset_index(name = 'counts')\n",
    "top_album_art_both = top_album_art_both['artists'].value_counts().head(1).rename_axis('artists').reset_index(name = 'counts')\n",
    "\n",
    "print(f'The artist with the most songs from different albums in playlist 1 is {top_album_art_1[\"artists\"].values[0]} with a total of {top_album_art_1[\"counts\"].values[0]} different album appearances')\n",
    "print(f'The artist with the most songs from different albums in playlist 2 is {top_album_art_2[\"artists\"].values[0]} with a total of {top_album_art_2[\"counts\"].values[0]} different album appearances')\n",
    "print(f'The artist with the most songs from different albums in both playlists is {top_album_art_both[\"artists\"].values[0]} with a total of {top_album_art_both[\"counts\"].values[0]} different album appearances')"
   ]
  },
  {
   "attachments": {},
   "cell_type": "markdown",
   "metadata": {},
   "source": [
    "## Explicit or Not?"
   ]
  },
  {
   "attachments": {},
   "cell_type": "markdown",
   "metadata": {},
   "source": [
    "### Create a visualization depicting which playlist contains a greater percentage of explicit music."
   ]
  },
  {
   "cell_type": "code",
   "execution_count": 19,
   "metadata": {},
   "outputs": [
    {
     "data": {
      "application/vnd.plotly.v1+json": {
       "config": {
        "plotlyServerURL": "https://plot.ly"
       },
       "data": [
        {
         "alignmentgroup": "True",
         "bingroup": "x",
         "hovertemplate": "variable=p_1_explicit<br>value=%{x}<br>count=%{y}<extra></extra>",
         "legendgroup": "p_1_explicit",
         "marker": {
          "color": "#636efa",
          "pattern": {
           "shape": ""
          }
         },
         "name": "p_1_explicit",
         "offsetgroup": "p_1_explicit",
         "orientation": "v",
         "showlegend": true,
         "type": "histogram",
         "x": [
          false,
          false,
          false,
          false,
          false,
          false,
          false,
          false,
          false,
          false,
          false,
          true,
          false,
          false,
          false,
          false,
          false,
          false,
          false,
          false,
          true,
          false,
          false,
          false,
          false,
          false,
          true,
          false,
          false,
          false,
          false,
          false,
          false,
          false,
          false,
          true,
          false,
          true,
          true,
          false,
          false,
          true,
          false,
          false,
          false,
          true,
          true,
          false,
          true,
          true,
          false,
          false,
          false,
          false,
          false,
          true,
          false,
          false,
          false,
          false,
          true,
          false,
          false,
          false,
          false,
          true,
          true,
          false,
          false,
          false,
          false,
          false,
          false,
          false,
          false,
          false,
          false,
          false,
          false,
          false,
          false,
          false,
          true,
          true,
          false,
          false,
          false,
          false,
          false,
          false,
          false,
          false,
          false,
          false,
          false,
          false,
          false,
          false,
          true,
          false,
          true,
          false,
          false,
          false,
          false,
          false,
          true,
          false,
          false,
          false,
          false,
          true,
          true,
          false,
          false,
          false,
          false,
          true,
          false,
          false,
          false,
          false,
          false,
          false,
          false,
          true,
          false,
          false,
          false,
          false,
          false,
          false,
          true,
          false,
          false,
          false,
          false,
          false,
          false,
          false,
          false,
          false,
          true,
          false,
          false,
          true,
          false,
          false,
          true,
          true,
          true,
          false,
          false,
          true,
          false,
          true,
          true,
          false,
          false,
          false,
          false,
          false,
          false,
          false,
          false,
          false,
          false,
          false,
          false,
          false,
          false,
          true,
          false,
          false,
          false,
          false,
          false,
          false,
          false,
          false,
          false,
          false,
          false,
          false,
          false,
          false,
          false,
          false,
          false,
          false,
          false,
          false,
          false,
          true,
          true,
          false,
          true,
          false,
          false,
          false,
          false,
          false,
          false,
          false,
          false,
          false,
          false,
          false,
          false,
          false,
          false,
          false,
          false,
          false
         ],
         "xaxis": "x",
         "yaxis": "y"
        },
        {
         "alignmentgroup": "True",
         "bingroup": "x",
         "hovertemplate": "variable=p_2_explicit<br>value=%{x}<br>count=%{y}<extra></extra>",
         "legendgroup": "p_2_explicit",
         "marker": {
          "color": "#EF553B",
          "pattern": {
           "shape": ""
          }
         },
         "name": "p_2_explicit",
         "offsetgroup": "p_2_explicit",
         "orientation": "v",
         "showlegend": true,
         "type": "histogram",
         "x": [
          false,
          false,
          false,
          false,
          true,
          false,
          false,
          false,
          false,
          false,
          false,
          true,
          true,
          false,
          false,
          false,
          false,
          false,
          false,
          true,
          false,
          false,
          false,
          true,
          false,
          false,
          false,
          false,
          true,
          false,
          true,
          true,
          false,
          true,
          false,
          true,
          false,
          false,
          true,
          true,
          false,
          false,
          false,
          false,
          true,
          false,
          true,
          false,
          true,
          false,
          true,
          false,
          false,
          false,
          false,
          true,
          true,
          false,
          false,
          true,
          true,
          true,
          false,
          false,
          false,
          false,
          false,
          false,
          false,
          false,
          true,
          false,
          false,
          false,
          true,
          true,
          true,
          true,
          true,
          true,
          false,
          false,
          true,
          false,
          true,
          true,
          true,
          true,
          true,
          false,
          true,
          true,
          true,
          false,
          false,
          true,
          true,
          false,
          false,
          true,
          false,
          false,
          false,
          true,
          false,
          false,
          true,
          false,
          true,
          true,
          true,
          true,
          false,
          true,
          false,
          false,
          false,
          true,
          true,
          true,
          true,
          false,
          true,
          false,
          false,
          true,
          true,
          true,
          true,
          false,
          true,
          false,
          true,
          true,
          false,
          true,
          false,
          false,
          false,
          true,
          false,
          true,
          true,
          true,
          true,
          true,
          false,
          true,
          true,
          false,
          false,
          false,
          false,
          true,
          false,
          true,
          true,
          true,
          false,
          false,
          true,
          true,
          false,
          true,
          true,
          true,
          false,
          true,
          true,
          true,
          false,
          true,
          true,
          false,
          false,
          false,
          true,
          false,
          true,
          true,
          false,
          false,
          false,
          true,
          true,
          false,
          true,
          true,
          true,
          true,
          true,
          false,
          false,
          true,
          true,
          true,
          true,
          false,
          false,
          true,
          false,
          false,
          false,
          false,
          false,
          false,
          false,
          false,
          false,
          false,
          false,
          false,
          false,
          false
         ],
         "xaxis": "x",
         "yaxis": "y"
        }
       ],
       "layout": {
        "barmode": "group",
        "legend": {
         "title": {
          "text": "variable"
         },
         "tracegroupgap": 0
        },
        "template": {
         "data": {
          "bar": [
           {
            "error_x": {
             "color": "#2a3f5f"
            },
            "error_y": {
             "color": "#2a3f5f"
            },
            "marker": {
             "line": {
              "color": "#E5ECF6",
              "width": 0.5
             },
             "pattern": {
              "fillmode": "overlay",
              "size": 10,
              "solidity": 0.2
             }
            },
            "type": "bar"
           }
          ],
          "barpolar": [
           {
            "marker": {
             "line": {
              "color": "#E5ECF6",
              "width": 0.5
             },
             "pattern": {
              "fillmode": "overlay",
              "size": 10,
              "solidity": 0.2
             }
            },
            "type": "barpolar"
           }
          ],
          "carpet": [
           {
            "aaxis": {
             "endlinecolor": "#2a3f5f",
             "gridcolor": "white",
             "linecolor": "white",
             "minorgridcolor": "white",
             "startlinecolor": "#2a3f5f"
            },
            "baxis": {
             "endlinecolor": "#2a3f5f",
             "gridcolor": "white",
             "linecolor": "white",
             "minorgridcolor": "white",
             "startlinecolor": "#2a3f5f"
            },
            "type": "carpet"
           }
          ],
          "choropleth": [
           {
            "colorbar": {
             "outlinewidth": 0,
             "ticks": ""
            },
            "type": "choropleth"
           }
          ],
          "contour": [
           {
            "colorbar": {
             "outlinewidth": 0,
             "ticks": ""
            },
            "colorscale": [
             [
              0,
              "#0d0887"
             ],
             [
              0.1111111111111111,
              "#46039f"
             ],
             [
              0.2222222222222222,
              "#7201a8"
             ],
             [
              0.3333333333333333,
              "#9c179e"
             ],
             [
              0.4444444444444444,
              "#bd3786"
             ],
             [
              0.5555555555555556,
              "#d8576b"
             ],
             [
              0.6666666666666666,
              "#ed7953"
             ],
             [
              0.7777777777777778,
              "#fb9f3a"
             ],
             [
              0.8888888888888888,
              "#fdca26"
             ],
             [
              1,
              "#f0f921"
             ]
            ],
            "type": "contour"
           }
          ],
          "contourcarpet": [
           {
            "colorbar": {
             "outlinewidth": 0,
             "ticks": ""
            },
            "type": "contourcarpet"
           }
          ],
          "heatmap": [
           {
            "colorbar": {
             "outlinewidth": 0,
             "ticks": ""
            },
            "colorscale": [
             [
              0,
              "#0d0887"
             ],
             [
              0.1111111111111111,
              "#46039f"
             ],
             [
              0.2222222222222222,
              "#7201a8"
             ],
             [
              0.3333333333333333,
              "#9c179e"
             ],
             [
              0.4444444444444444,
              "#bd3786"
             ],
             [
              0.5555555555555556,
              "#d8576b"
             ],
             [
              0.6666666666666666,
              "#ed7953"
             ],
             [
              0.7777777777777778,
              "#fb9f3a"
             ],
             [
              0.8888888888888888,
              "#fdca26"
             ],
             [
              1,
              "#f0f921"
             ]
            ],
            "type": "heatmap"
           }
          ],
          "heatmapgl": [
           {
            "colorbar": {
             "outlinewidth": 0,
             "ticks": ""
            },
            "colorscale": [
             [
              0,
              "#0d0887"
             ],
             [
              0.1111111111111111,
              "#46039f"
             ],
             [
              0.2222222222222222,
              "#7201a8"
             ],
             [
              0.3333333333333333,
              "#9c179e"
             ],
             [
              0.4444444444444444,
              "#bd3786"
             ],
             [
              0.5555555555555556,
              "#d8576b"
             ],
             [
              0.6666666666666666,
              "#ed7953"
             ],
             [
              0.7777777777777778,
              "#fb9f3a"
             ],
             [
              0.8888888888888888,
              "#fdca26"
             ],
             [
              1,
              "#f0f921"
             ]
            ],
            "type": "heatmapgl"
           }
          ],
          "histogram": [
           {
            "marker": {
             "pattern": {
              "fillmode": "overlay",
              "size": 10,
              "solidity": 0.2
             }
            },
            "type": "histogram"
           }
          ],
          "histogram2d": [
           {
            "colorbar": {
             "outlinewidth": 0,
             "ticks": ""
            },
            "colorscale": [
             [
              0,
              "#0d0887"
             ],
             [
              0.1111111111111111,
              "#46039f"
             ],
             [
              0.2222222222222222,
              "#7201a8"
             ],
             [
              0.3333333333333333,
              "#9c179e"
             ],
             [
              0.4444444444444444,
              "#bd3786"
             ],
             [
              0.5555555555555556,
              "#d8576b"
             ],
             [
              0.6666666666666666,
              "#ed7953"
             ],
             [
              0.7777777777777778,
              "#fb9f3a"
             ],
             [
              0.8888888888888888,
              "#fdca26"
             ],
             [
              1,
              "#f0f921"
             ]
            ],
            "type": "histogram2d"
           }
          ],
          "histogram2dcontour": [
           {
            "colorbar": {
             "outlinewidth": 0,
             "ticks": ""
            },
            "colorscale": [
             [
              0,
              "#0d0887"
             ],
             [
              0.1111111111111111,
              "#46039f"
             ],
             [
              0.2222222222222222,
              "#7201a8"
             ],
             [
              0.3333333333333333,
              "#9c179e"
             ],
             [
              0.4444444444444444,
              "#bd3786"
             ],
             [
              0.5555555555555556,
              "#d8576b"
             ],
             [
              0.6666666666666666,
              "#ed7953"
             ],
             [
              0.7777777777777778,
              "#fb9f3a"
             ],
             [
              0.8888888888888888,
              "#fdca26"
             ],
             [
              1,
              "#f0f921"
             ]
            ],
            "type": "histogram2dcontour"
           }
          ],
          "mesh3d": [
           {
            "colorbar": {
             "outlinewidth": 0,
             "ticks": ""
            },
            "type": "mesh3d"
           }
          ],
          "parcoords": [
           {
            "line": {
             "colorbar": {
              "outlinewidth": 0,
              "ticks": ""
             }
            },
            "type": "parcoords"
           }
          ],
          "pie": [
           {
            "automargin": true,
            "type": "pie"
           }
          ],
          "scatter": [
           {
            "fillpattern": {
             "fillmode": "overlay",
             "size": 10,
             "solidity": 0.2
            },
            "type": "scatter"
           }
          ],
          "scatter3d": [
           {
            "line": {
             "colorbar": {
              "outlinewidth": 0,
              "ticks": ""
             }
            },
            "marker": {
             "colorbar": {
              "outlinewidth": 0,
              "ticks": ""
             }
            },
            "type": "scatter3d"
           }
          ],
          "scattercarpet": [
           {
            "marker": {
             "colorbar": {
              "outlinewidth": 0,
              "ticks": ""
             }
            },
            "type": "scattercarpet"
           }
          ],
          "scattergeo": [
           {
            "marker": {
             "colorbar": {
              "outlinewidth": 0,
              "ticks": ""
             }
            },
            "type": "scattergeo"
           }
          ],
          "scattergl": [
           {
            "marker": {
             "colorbar": {
              "outlinewidth": 0,
              "ticks": ""
             }
            },
            "type": "scattergl"
           }
          ],
          "scattermapbox": [
           {
            "marker": {
             "colorbar": {
              "outlinewidth": 0,
              "ticks": ""
             }
            },
            "type": "scattermapbox"
           }
          ],
          "scatterpolar": [
           {
            "marker": {
             "colorbar": {
              "outlinewidth": 0,
              "ticks": ""
             }
            },
            "type": "scatterpolar"
           }
          ],
          "scatterpolargl": [
           {
            "marker": {
             "colorbar": {
              "outlinewidth": 0,
              "ticks": ""
             }
            },
            "type": "scatterpolargl"
           }
          ],
          "scatterternary": [
           {
            "marker": {
             "colorbar": {
              "outlinewidth": 0,
              "ticks": ""
             }
            },
            "type": "scatterternary"
           }
          ],
          "surface": [
           {
            "colorbar": {
             "outlinewidth": 0,
             "ticks": ""
            },
            "colorscale": [
             [
              0,
              "#0d0887"
             ],
             [
              0.1111111111111111,
              "#46039f"
             ],
             [
              0.2222222222222222,
              "#7201a8"
             ],
             [
              0.3333333333333333,
              "#9c179e"
             ],
             [
              0.4444444444444444,
              "#bd3786"
             ],
             [
              0.5555555555555556,
              "#d8576b"
             ],
             [
              0.6666666666666666,
              "#ed7953"
             ],
             [
              0.7777777777777778,
              "#fb9f3a"
             ],
             [
              0.8888888888888888,
              "#fdca26"
             ],
             [
              1,
              "#f0f921"
             ]
            ],
            "type": "surface"
           }
          ],
          "table": [
           {
            "cells": {
             "fill": {
              "color": "#EBF0F8"
             },
             "line": {
              "color": "white"
             }
            },
            "header": {
             "fill": {
              "color": "#C8D4E3"
             },
             "line": {
              "color": "white"
             }
            },
            "type": "table"
           }
          ]
         },
         "layout": {
          "annotationdefaults": {
           "arrowcolor": "#2a3f5f",
           "arrowhead": 0,
           "arrowwidth": 1
          },
          "autotypenumbers": "strict",
          "coloraxis": {
           "colorbar": {
            "outlinewidth": 0,
            "ticks": ""
           }
          },
          "colorscale": {
           "diverging": [
            [
             0,
             "#8e0152"
            ],
            [
             0.1,
             "#c51b7d"
            ],
            [
             0.2,
             "#de77ae"
            ],
            [
             0.3,
             "#f1b6da"
            ],
            [
             0.4,
             "#fde0ef"
            ],
            [
             0.5,
             "#f7f7f7"
            ],
            [
             0.6,
             "#e6f5d0"
            ],
            [
             0.7,
             "#b8e186"
            ],
            [
             0.8,
             "#7fbc41"
            ],
            [
             0.9,
             "#4d9221"
            ],
            [
             1,
             "#276419"
            ]
           ],
           "sequential": [
            [
             0,
             "#0d0887"
            ],
            [
             0.1111111111111111,
             "#46039f"
            ],
            [
             0.2222222222222222,
             "#7201a8"
            ],
            [
             0.3333333333333333,
             "#9c179e"
            ],
            [
             0.4444444444444444,
             "#bd3786"
            ],
            [
             0.5555555555555556,
             "#d8576b"
            ],
            [
             0.6666666666666666,
             "#ed7953"
            ],
            [
             0.7777777777777778,
             "#fb9f3a"
            ],
            [
             0.8888888888888888,
             "#fdca26"
            ],
            [
             1,
             "#f0f921"
            ]
           ],
           "sequentialminus": [
            [
             0,
             "#0d0887"
            ],
            [
             0.1111111111111111,
             "#46039f"
            ],
            [
             0.2222222222222222,
             "#7201a8"
            ],
            [
             0.3333333333333333,
             "#9c179e"
            ],
            [
             0.4444444444444444,
             "#bd3786"
            ],
            [
             0.5555555555555556,
             "#d8576b"
            ],
            [
             0.6666666666666666,
             "#ed7953"
            ],
            [
             0.7777777777777778,
             "#fb9f3a"
            ],
            [
             0.8888888888888888,
             "#fdca26"
            ],
            [
             1,
             "#f0f921"
            ]
           ]
          },
          "colorway": [
           "#636efa",
           "#EF553B",
           "#00cc96",
           "#ab63fa",
           "#FFA15A",
           "#19d3f3",
           "#FF6692",
           "#B6E880",
           "#FF97FF",
           "#FECB52"
          ],
          "font": {
           "color": "#2a3f5f"
          },
          "geo": {
           "bgcolor": "white",
           "lakecolor": "white",
           "landcolor": "#E5ECF6",
           "showlakes": true,
           "showland": true,
           "subunitcolor": "white"
          },
          "hoverlabel": {
           "align": "left"
          },
          "hovermode": "closest",
          "mapbox": {
           "style": "light"
          },
          "paper_bgcolor": "white",
          "plot_bgcolor": "#E5ECF6",
          "polar": {
           "angularaxis": {
            "gridcolor": "white",
            "linecolor": "white",
            "ticks": ""
           },
           "bgcolor": "#E5ECF6",
           "radialaxis": {
            "gridcolor": "white",
            "linecolor": "white",
            "ticks": ""
           }
          },
          "scene": {
           "xaxis": {
            "backgroundcolor": "#E5ECF6",
            "gridcolor": "white",
            "gridwidth": 2,
            "linecolor": "white",
            "showbackground": true,
            "ticks": "",
            "zerolinecolor": "white"
           },
           "yaxis": {
            "backgroundcolor": "#E5ECF6",
            "gridcolor": "white",
            "gridwidth": 2,
            "linecolor": "white",
            "showbackground": true,
            "ticks": "",
            "zerolinecolor": "white"
           },
           "zaxis": {
            "backgroundcolor": "#E5ECF6",
            "gridcolor": "white",
            "gridwidth": 2,
            "linecolor": "white",
            "showbackground": true,
            "ticks": "",
            "zerolinecolor": "white"
           }
          },
          "shapedefaults": {
           "line": {
            "color": "#2a3f5f"
           }
          },
          "ternary": {
           "aaxis": {
            "gridcolor": "white",
            "linecolor": "white",
            "ticks": ""
           },
           "baxis": {
            "gridcolor": "white",
            "linecolor": "white",
            "ticks": ""
           },
           "bgcolor": "#E5ECF6",
           "caxis": {
            "gridcolor": "white",
            "linecolor": "white",
            "ticks": ""
           }
          },
          "title": {
           "x": 0.05
          },
          "xaxis": {
           "automargin": true,
           "gridcolor": "white",
           "linecolor": "white",
           "ticks": "",
           "title": {
            "standoff": 15
           },
           "zerolinecolor": "white",
           "zerolinewidth": 2
          },
          "yaxis": {
           "automargin": true,
           "gridcolor": "white",
           "linecolor": "white",
           "ticks": "",
           "title": {
            "standoff": 15
           },
           "zerolinecolor": "white",
           "zerolinewidth": 2
          }
         }
        },
        "title": {
         "text": "Ratio of Explicit Values Across Both Playlists",
         "x": 0.5
        },
        "xaxis": {
         "anchor": "y",
         "domain": [
          0,
          1
         ],
         "title": {
          "text": "Explicit"
         }
        },
        "yaxis": {
         "anchor": "x",
         "domain": [
          0,
          1
         ],
         "title": {
          "text": "count"
         }
        }
       }
      }
     },
     "metadata": {},
     "output_type": "display_data"
    }
   ],
   "source": [
    "# Create a single DataFrame object containing explicit values for both playlists\n",
    "explicit_df = pd.DataFrame(data = {'p_1_explicit': playlist_1['explicit'], 'p_2_explicit': playlist_2['explicit']})\n",
    "# We can fill NaN values in explicit column with False as we are searching for True. NaN values exist because those songs are not in playlist 2\n",
    "explicit_df.fillna(False, inplace=True)\n",
    "\n",
    "# Create visualization\n",
    "px.histogram(explicit_df, x = ['p_1_explicit', 'p_2_explicit'], title = 'Ratio of Explicit Values Across Both Playlists', barmode='group').update_layout(title_x = 0.5, xaxis_title = 'Explicit')"
   ]
  },
  {
   "attachments": {},
   "cell_type": "markdown",
   "metadata": {},
   "source": [
    "By reviewing the visualization, we can easily deduce that playlist 2 contains much more explicit songs than playlist 1"
   ]
  },
  {
   "attachments": {},
   "cell_type": "markdown",
   "metadata": {},
   "source": [
    "## Preview URL"
   ]
  },
  {
   "attachments": {},
   "cell_type": "markdown",
   "metadata": {},
   "source": [
    "### Create a visualization for the preview_url column"
   ]
  },
  {
   "cell_type": "code",
   "execution_count": 20,
   "metadata": {},
   "outputs": [
    {
     "data": {
      "application/vnd.plotly.v1+json": {
       "config": {
        "plotlyServerURL": "https://plot.ly"
       },
       "data": [
        {
         "alignmentgroup": "True",
         "bingroup": "x",
         "histfunc": "sum",
         "hovertemplate": "artists=%{x}<br>sum of counts=%{y}<extra></extra>",
         "legendgroup": "",
         "marker": {
          "color": "#636efa",
          "pattern": {
           "shape": ""
          }
         },
         "name": "",
         "offsetgroup": "",
         "orientation": "v",
         "showlegend": false,
         "type": "histogram",
         "x": [
          "Berhana",
          "Dennis Lloyd",
          "Ashh",
          "Wiley from Atlanta",
          "Quinn XCII / Chelsea Cutler",
          "Alina Baraz / Khalid",
          "Hozier",
          "Masego / FKJ",
          "Masego",
          "Domo Genesis / Anderson  Paak",
          "Masego",
          "Dave / Stormzy",
          "Timbaland / Keri Hilson / D O E",
          "Dave",
          "Dave",
          "Trettmann / Gzuz / KitschKrieg / SFR",
          "Trettmann / KitschKrieg / SFR",
          "Trettmann / KitschKrieg / SFR",
          "Trettmann / KitschKrieg / SFR",
          "Maggie Rogers",
          "Stormzy",
          "Loyle Carner / Tom Misch",
          "Stormzy",
          "Trettmann / KitschKrieg / SFR",
          "Kojey Radical / Mahalia / Swindle",
          "Quinn XCII / Ashe / Louis Futon",
          "Skepta / Young Lord",
          "Headie One / AJ Tracey / Stormzy",
          "Skepta / Wizkid",
          "Skepta / J Hus",
          "Shakey Graves",
          "Samm Henshaw",
          "Jaden / WILLOW",
          "James Brown / The J B  s",
          "Remi Wolf",
          "Russ / Tamae / Capella Grey",
          "Clay and Friends",
          "Dave / Burna Boy",
          "Trettmann / KitschKrieg / SFR",
          "Quinn XCII",
          "Passion Pit",
          "j ember",
          "filous / James Hersey",
          "Abhi The Nomad / Harrison Sands / Copper King",
          "Action Bronson / Chance the Rapper",
          "ayokay",
          "Anderson  Paak",
          "alt J",
          "Ashh",
          "Y K / bbno",
          "Trettmann / KitschKrieg / SFR",
          "Azealia Banks / Lazy Jay",
          "Nu",
          "Jorja Smith",
          "Matt DiMona",
          "Billie Eilish",
          "Trettmann / KitschKrieg / SFR / Bonez MC / RAF Camora",
          "Trettmann / KitschKrieg / SFR / KeKe",
          "Trettmann / KitschKrieg / SFR / Haiyti / Joey Bargeld",
          "Billie Eilish",
          "Trettmann / KitschKrieg / SFR / Marteria",
          "Bizarrap / NATHY PELUSO",
          "RIZ LA VIE",
          "Quinn XCII",
          "Quinn XCII / Yoshi Flower",
          "RIZ LA VIE",
          "Quinn XCII",
          "RIZ LA VIE",
          "Rence",
          "Rick Ross / Drake",
          "Rod Wave",
          "Rompasso / Rich The Kid",
          "Roy Woods",
          "Quinn XCII / Noah Kahan",
          "Quinn XCII",
          "Quinn XCII / Kailee Morgue",
          "Quinn XCII",
          "Quinn XCII",
          "Quinn XCII",
          "Quinn XCII",
          "Quinn XCII",
          "Quinn XCII",
          "Quinn XCII",
          "Quinn XCII",
          "Quinn XCII",
          "Quinn XCII",
          "Quinn XCII / Elohim",
          "Quinn XCII",
          "Quinn XCII",
          "Quinn XCII",
          "Roy Woods",
          "Quinn XCII",
          "Souly Had",
          "Royal   the Serpent / Marky Style",
          "WILLOW",
          "The Game / Elijah Blake",
          "The Lagoons",
          "The Lumineers",
          "Tierra Whack",
          "Tion Wayne",
          "Tones And I",
          "Two Another",
          "Verzache / Swell",
          "Whethan / Ashe",
          "Russ / BIA",
          "Whethan / Mascolo",
          "Will Smith",
          "Wingtip / Sophie Strauss",
          "X Ambassadors",
          "Young T   Bugsey / DaBaby",
          "alt J",
          "kadiata / Sam Wise",
          "slenderbodies",
          "Tayla Parx / Khalid",
          "TOBi / Harrison",
          "Sylvan Esso",
          "Sylvan Esso",
          "Ruth B",
          "SAINt JHN",
          "SAINt JHN",
          "SAINt JHN",
          "SHAED / ZAYN",
          "SL",
          "SZA / Calvin Harris / Funk Wav",
          "Saba / Jean Deaux",
          "Seal",
          "Skepta",
          "Sons Of The East",
          "Quinn XCII",
          "Souly Had",
          "Souly Had / Lonr",
          "Still Woozy",
          "Sylvan Esso",
          "Sylvan Esso",
          "Quinn XCII",
          "A /  Etta Bond",
          "Protoje / Wiz Khalifa",
          "Phoebe Ryan / Quinn XCII",
          "Coast Modern",
          "Colter Wall",
          "Current Blue",
          "DEVOTED / Billionaire",
          "Dave / J Hus",
          "Death Cab for Cutie / Louis The Child",
          "Die Antwoord",
          "Dijon",
          "Drake / Wizkid / Kyla",
          "Edward Maya / Vika Jigulina",
          "Electric Guest",
          "Elle King",
          "Francis and the Lights / Chance the Rapper",
          "Frank Ocean",
          "Frank Ocean",
          "Frank Ocean",
          "Frank Ocean",
          "Frank Ocean",
          "Frank Ocean",
          "Frank Ocean",
          "Ghetts / Jaykae / Moonchild Sanelly",
          "Golden Vessel / Emerson Leif",
          "Green Day",
          "Clay and Friends",
          "Chance the Rapper / VIC MENSA / Twista",
          "Chance the Rapper / Nosaj Thing",
          "BabyJake",
          "A AP Rocky / Skepta",
          "AJ Tracey",
          "Abhi The Nomad",
          "Abhi The Nomad",
          "Amin",
          "Anderson  Paak",
          "Ang le",
          "Ashh",
          "Avelino / SL",
          "Avril Lavigne",
          "Baloji",
          "Chance the Rapper / Nate Fox",
          "Basshunter",
          "Benji Lewis",
          "Big Wild / Hundred Waters",
          "Blue Foundation",
          "Busta Rhymes / Anderson  Paak",
          "Cautious Clay",
          "Caye",
          "Chance the Rapper / BJ The Chicago Kid / Lili K",
          "Chance the Rapper / Jeremih / Francis and the Lights",
          "Chance the Rapper / Justin Bieber / Towkio",
          "Hartman / King Majik / Bawse",
          "Hinder",
          "Hozier",
          "Masego",
          "Kid Cudi",
          "Kiiara",
          "Kiiara",
          "KitschKrieg / SFR / CRO / AnnenMayKantereit / Trettmann",
          "Kweku Collins",
          "Litany",
          "Local Natives",
          "Loyle Carner",
          "Mac Miller",
          "Mahalia",
          "A AP Ferg / MadeinTYO",
          "Khalid / Disclosure",
          "Matisyahu",
          "Mother Mother",
          "Natalie Imbruglia",
          "Neighbors / Brasstracks / PhiloSofie",
          "NoMBe",
          "NoMBe / Thutmose",
          "ODESZA / Leon Bridges",
          "ODIE",
          "OH",
          "Pacific Avenue",
          "Khalid / Normani",
          "Khalid",
          "Hozier",
          "John Butler",
          "Hozier",
          "INK",
          "INK",
          "Jack Kays",
          "Jakubi",
          "Jay Prince",
          "Jay Prince",
          "Jaymes Young / Phoebe Ryan",
          "Jelani Blackman",
          "Jevon",
          "Jon Bellion",
          "Khalid",
          "Jon Bellion",
          "Jorja Smith",
          "Joy Crookes",
          "Just A Gent / Nevve",
          "KALEO",
          "KALEO",
          "KAMAUU",
          "Kelvyn Colt",
          "Khalid",
          "Khalid",
          "slenderbodies"
         ],
         "xaxis": "x",
         "y": [
          6,
          4,
          4,
          4,
          3,
          3,
          3,
          2,
          2,
          2,
          2,
          2,
          2,
          2,
          2,
          2,
          2,
          2,
          2,
          2,
          2,
          2,
          2,
          2,
          2,
          2,
          2,
          2,
          2,
          2,
          2,
          2,
          2,
          2,
          2,
          2,
          2,
          2,
          2,
          2,
          2,
          2,
          2,
          2,
          2,
          2,
          2,
          2,
          2,
          2,
          2,
          2,
          2,
          2,
          2,
          2,
          2,
          2,
          2,
          2,
          2,
          2,
          1,
          1,
          1,
          1,
          1,
          1,
          1,
          1,
          1,
          1,
          1,
          1,
          1,
          1,
          1,
          1,
          1,
          1,
          1,
          1,
          1,
          1,
          1,
          1,
          1,
          1,
          1,
          1,
          1,
          1,
          1,
          1,
          1,
          1,
          1,
          1,
          1,
          1,
          1,
          1,
          1,
          1,
          1,
          1,
          1,
          1,
          1,
          1,
          1,
          1,
          1,
          1,
          1,
          1,
          1,
          1,
          1,
          1,
          1,
          1,
          1,
          1,
          1,
          1,
          1,
          1,
          1,
          1,
          1,
          1,
          1,
          1,
          1,
          1,
          1,
          1,
          1,
          1,
          1,
          1,
          1,
          1,
          1,
          1,
          1,
          1,
          1,
          1,
          1,
          1,
          1,
          1,
          1,
          1,
          1,
          1,
          1,
          1,
          1,
          1,
          1,
          1,
          1,
          1,
          1,
          1,
          1,
          1,
          1,
          1,
          1,
          1,
          1,
          1,
          1,
          1,
          1,
          1,
          1,
          1,
          1,
          1,
          1,
          1,
          1,
          1,
          1,
          1,
          1,
          1,
          1,
          1,
          1,
          1,
          1,
          1,
          1,
          1,
          1,
          1,
          1,
          1,
          1,
          1,
          1,
          1,
          1,
          1,
          1,
          1,
          1,
          1,
          1,
          1,
          1,
          1,
          1,
          1,
          1,
          1,
          1,
          1,
          1,
          1,
          1,
          1,
          1,
          1,
          1,
          1,
          1,
          1,
          1,
          1,
          1,
          1,
          1,
          1
         ],
         "yaxis": "y"
        }
       ],
       "layout": {
        "barmode": "relative",
        "legend": {
         "tracegroupgap": 0
        },
        "template": {
         "data": {
          "bar": [
           {
            "error_x": {
             "color": "#2a3f5f"
            },
            "error_y": {
             "color": "#2a3f5f"
            },
            "marker": {
             "line": {
              "color": "#E5ECF6",
              "width": 0.5
             },
             "pattern": {
              "fillmode": "overlay",
              "size": 10,
              "solidity": 0.2
             }
            },
            "type": "bar"
           }
          ],
          "barpolar": [
           {
            "marker": {
             "line": {
              "color": "#E5ECF6",
              "width": 0.5
             },
             "pattern": {
              "fillmode": "overlay",
              "size": 10,
              "solidity": 0.2
             }
            },
            "type": "barpolar"
           }
          ],
          "carpet": [
           {
            "aaxis": {
             "endlinecolor": "#2a3f5f",
             "gridcolor": "white",
             "linecolor": "white",
             "minorgridcolor": "white",
             "startlinecolor": "#2a3f5f"
            },
            "baxis": {
             "endlinecolor": "#2a3f5f",
             "gridcolor": "white",
             "linecolor": "white",
             "minorgridcolor": "white",
             "startlinecolor": "#2a3f5f"
            },
            "type": "carpet"
           }
          ],
          "choropleth": [
           {
            "colorbar": {
             "outlinewidth": 0,
             "ticks": ""
            },
            "type": "choropleth"
           }
          ],
          "contour": [
           {
            "colorbar": {
             "outlinewidth": 0,
             "ticks": ""
            },
            "colorscale": [
             [
              0,
              "#0d0887"
             ],
             [
              0.1111111111111111,
              "#46039f"
             ],
             [
              0.2222222222222222,
              "#7201a8"
             ],
             [
              0.3333333333333333,
              "#9c179e"
             ],
             [
              0.4444444444444444,
              "#bd3786"
             ],
             [
              0.5555555555555556,
              "#d8576b"
             ],
             [
              0.6666666666666666,
              "#ed7953"
             ],
             [
              0.7777777777777778,
              "#fb9f3a"
             ],
             [
              0.8888888888888888,
              "#fdca26"
             ],
             [
              1,
              "#f0f921"
             ]
            ],
            "type": "contour"
           }
          ],
          "contourcarpet": [
           {
            "colorbar": {
             "outlinewidth": 0,
             "ticks": ""
            },
            "type": "contourcarpet"
           }
          ],
          "heatmap": [
           {
            "colorbar": {
             "outlinewidth": 0,
             "ticks": ""
            },
            "colorscale": [
             [
              0,
              "#0d0887"
             ],
             [
              0.1111111111111111,
              "#46039f"
             ],
             [
              0.2222222222222222,
              "#7201a8"
             ],
             [
              0.3333333333333333,
              "#9c179e"
             ],
             [
              0.4444444444444444,
              "#bd3786"
             ],
             [
              0.5555555555555556,
              "#d8576b"
             ],
             [
              0.6666666666666666,
              "#ed7953"
             ],
             [
              0.7777777777777778,
              "#fb9f3a"
             ],
             [
              0.8888888888888888,
              "#fdca26"
             ],
             [
              1,
              "#f0f921"
             ]
            ],
            "type": "heatmap"
           }
          ],
          "heatmapgl": [
           {
            "colorbar": {
             "outlinewidth": 0,
             "ticks": ""
            },
            "colorscale": [
             [
              0,
              "#0d0887"
             ],
             [
              0.1111111111111111,
              "#46039f"
             ],
             [
              0.2222222222222222,
              "#7201a8"
             ],
             [
              0.3333333333333333,
              "#9c179e"
             ],
             [
              0.4444444444444444,
              "#bd3786"
             ],
             [
              0.5555555555555556,
              "#d8576b"
             ],
             [
              0.6666666666666666,
              "#ed7953"
             ],
             [
              0.7777777777777778,
              "#fb9f3a"
             ],
             [
              0.8888888888888888,
              "#fdca26"
             ],
             [
              1,
              "#f0f921"
             ]
            ],
            "type": "heatmapgl"
           }
          ],
          "histogram": [
           {
            "marker": {
             "pattern": {
              "fillmode": "overlay",
              "size": 10,
              "solidity": 0.2
             }
            },
            "type": "histogram"
           }
          ],
          "histogram2d": [
           {
            "colorbar": {
             "outlinewidth": 0,
             "ticks": ""
            },
            "colorscale": [
             [
              0,
              "#0d0887"
             ],
             [
              0.1111111111111111,
              "#46039f"
             ],
             [
              0.2222222222222222,
              "#7201a8"
             ],
             [
              0.3333333333333333,
              "#9c179e"
             ],
             [
              0.4444444444444444,
              "#bd3786"
             ],
             [
              0.5555555555555556,
              "#d8576b"
             ],
             [
              0.6666666666666666,
              "#ed7953"
             ],
             [
              0.7777777777777778,
              "#fb9f3a"
             ],
             [
              0.8888888888888888,
              "#fdca26"
             ],
             [
              1,
              "#f0f921"
             ]
            ],
            "type": "histogram2d"
           }
          ],
          "histogram2dcontour": [
           {
            "colorbar": {
             "outlinewidth": 0,
             "ticks": ""
            },
            "colorscale": [
             [
              0,
              "#0d0887"
             ],
             [
              0.1111111111111111,
              "#46039f"
             ],
             [
              0.2222222222222222,
              "#7201a8"
             ],
             [
              0.3333333333333333,
              "#9c179e"
             ],
             [
              0.4444444444444444,
              "#bd3786"
             ],
             [
              0.5555555555555556,
              "#d8576b"
             ],
             [
              0.6666666666666666,
              "#ed7953"
             ],
             [
              0.7777777777777778,
              "#fb9f3a"
             ],
             [
              0.8888888888888888,
              "#fdca26"
             ],
             [
              1,
              "#f0f921"
             ]
            ],
            "type": "histogram2dcontour"
           }
          ],
          "mesh3d": [
           {
            "colorbar": {
             "outlinewidth": 0,
             "ticks": ""
            },
            "type": "mesh3d"
           }
          ],
          "parcoords": [
           {
            "line": {
             "colorbar": {
              "outlinewidth": 0,
              "ticks": ""
             }
            },
            "type": "parcoords"
           }
          ],
          "pie": [
           {
            "automargin": true,
            "type": "pie"
           }
          ],
          "scatter": [
           {
            "fillpattern": {
             "fillmode": "overlay",
             "size": 10,
             "solidity": 0.2
            },
            "type": "scatter"
           }
          ],
          "scatter3d": [
           {
            "line": {
             "colorbar": {
              "outlinewidth": 0,
              "ticks": ""
             }
            },
            "marker": {
             "colorbar": {
              "outlinewidth": 0,
              "ticks": ""
             }
            },
            "type": "scatter3d"
           }
          ],
          "scattercarpet": [
           {
            "marker": {
             "colorbar": {
              "outlinewidth": 0,
              "ticks": ""
             }
            },
            "type": "scattercarpet"
           }
          ],
          "scattergeo": [
           {
            "marker": {
             "colorbar": {
              "outlinewidth": 0,
              "ticks": ""
             }
            },
            "type": "scattergeo"
           }
          ],
          "scattergl": [
           {
            "marker": {
             "colorbar": {
              "outlinewidth": 0,
              "ticks": ""
             }
            },
            "type": "scattergl"
           }
          ],
          "scattermapbox": [
           {
            "marker": {
             "colorbar": {
              "outlinewidth": 0,
              "ticks": ""
             }
            },
            "type": "scattermapbox"
           }
          ],
          "scatterpolar": [
           {
            "marker": {
             "colorbar": {
              "outlinewidth": 0,
              "ticks": ""
             }
            },
            "type": "scatterpolar"
           }
          ],
          "scatterpolargl": [
           {
            "marker": {
             "colorbar": {
              "outlinewidth": 0,
              "ticks": ""
             }
            },
            "type": "scatterpolargl"
           }
          ],
          "scatterternary": [
           {
            "marker": {
             "colorbar": {
              "outlinewidth": 0,
              "ticks": ""
             }
            },
            "type": "scatterternary"
           }
          ],
          "surface": [
           {
            "colorbar": {
             "outlinewidth": 0,
             "ticks": ""
            },
            "colorscale": [
             [
              0,
              "#0d0887"
             ],
             [
              0.1111111111111111,
              "#46039f"
             ],
             [
              0.2222222222222222,
              "#7201a8"
             ],
             [
              0.3333333333333333,
              "#9c179e"
             ],
             [
              0.4444444444444444,
              "#bd3786"
             ],
             [
              0.5555555555555556,
              "#d8576b"
             ],
             [
              0.6666666666666666,
              "#ed7953"
             ],
             [
              0.7777777777777778,
              "#fb9f3a"
             ],
             [
              0.8888888888888888,
              "#fdca26"
             ],
             [
              1,
              "#f0f921"
             ]
            ],
            "type": "surface"
           }
          ],
          "table": [
           {
            "cells": {
             "fill": {
              "color": "#EBF0F8"
             },
             "line": {
              "color": "white"
             }
            },
            "header": {
             "fill": {
              "color": "#C8D4E3"
             },
             "line": {
              "color": "white"
             }
            },
            "type": "table"
           }
          ]
         },
         "layout": {
          "annotationdefaults": {
           "arrowcolor": "#2a3f5f",
           "arrowhead": 0,
           "arrowwidth": 1
          },
          "autotypenumbers": "strict",
          "coloraxis": {
           "colorbar": {
            "outlinewidth": 0,
            "ticks": ""
           }
          },
          "colorscale": {
           "diverging": [
            [
             0,
             "#8e0152"
            ],
            [
             0.1,
             "#c51b7d"
            ],
            [
             0.2,
             "#de77ae"
            ],
            [
             0.3,
             "#f1b6da"
            ],
            [
             0.4,
             "#fde0ef"
            ],
            [
             0.5,
             "#f7f7f7"
            ],
            [
             0.6,
             "#e6f5d0"
            ],
            [
             0.7,
             "#b8e186"
            ],
            [
             0.8,
             "#7fbc41"
            ],
            [
             0.9,
             "#4d9221"
            ],
            [
             1,
             "#276419"
            ]
           ],
           "sequential": [
            [
             0,
             "#0d0887"
            ],
            [
             0.1111111111111111,
             "#46039f"
            ],
            [
             0.2222222222222222,
             "#7201a8"
            ],
            [
             0.3333333333333333,
             "#9c179e"
            ],
            [
             0.4444444444444444,
             "#bd3786"
            ],
            [
             0.5555555555555556,
             "#d8576b"
            ],
            [
             0.6666666666666666,
             "#ed7953"
            ],
            [
             0.7777777777777778,
             "#fb9f3a"
            ],
            [
             0.8888888888888888,
             "#fdca26"
            ],
            [
             1,
             "#f0f921"
            ]
           ],
           "sequentialminus": [
            [
             0,
             "#0d0887"
            ],
            [
             0.1111111111111111,
             "#46039f"
            ],
            [
             0.2222222222222222,
             "#7201a8"
            ],
            [
             0.3333333333333333,
             "#9c179e"
            ],
            [
             0.4444444444444444,
             "#bd3786"
            ],
            [
             0.5555555555555556,
             "#d8576b"
            ],
            [
             0.6666666666666666,
             "#ed7953"
            ],
            [
             0.7777777777777778,
             "#fb9f3a"
            ],
            [
             0.8888888888888888,
             "#fdca26"
            ],
            [
             1,
             "#f0f921"
            ]
           ]
          },
          "colorway": [
           "#636efa",
           "#EF553B",
           "#00cc96",
           "#ab63fa",
           "#FFA15A",
           "#19d3f3",
           "#FF6692",
           "#B6E880",
           "#FF97FF",
           "#FECB52"
          ],
          "font": {
           "color": "#2a3f5f"
          },
          "geo": {
           "bgcolor": "white",
           "lakecolor": "white",
           "landcolor": "#E5ECF6",
           "showlakes": true,
           "showland": true,
           "subunitcolor": "white"
          },
          "hoverlabel": {
           "align": "left"
          },
          "hovermode": "closest",
          "mapbox": {
           "style": "light"
          },
          "paper_bgcolor": "white",
          "plot_bgcolor": "#E5ECF6",
          "polar": {
           "angularaxis": {
            "gridcolor": "white",
            "linecolor": "white",
            "ticks": ""
           },
           "bgcolor": "#E5ECF6",
           "radialaxis": {
            "gridcolor": "white",
            "linecolor": "white",
            "ticks": ""
           }
          },
          "scene": {
           "xaxis": {
            "backgroundcolor": "#E5ECF6",
            "gridcolor": "white",
            "gridwidth": 2,
            "linecolor": "white",
            "showbackground": true,
            "ticks": "",
            "zerolinecolor": "white"
           },
           "yaxis": {
            "backgroundcolor": "#E5ECF6",
            "gridcolor": "white",
            "gridwidth": 2,
            "linecolor": "white",
            "showbackground": true,
            "ticks": "",
            "zerolinecolor": "white"
           },
           "zaxis": {
            "backgroundcolor": "#E5ECF6",
            "gridcolor": "white",
            "gridwidth": 2,
            "linecolor": "white",
            "showbackground": true,
            "ticks": "",
            "zerolinecolor": "white"
           }
          },
          "shapedefaults": {
           "line": {
            "color": "#2a3f5f"
           }
          },
          "ternary": {
           "aaxis": {
            "gridcolor": "white",
            "linecolor": "white",
            "ticks": ""
           },
           "baxis": {
            "gridcolor": "white",
            "linecolor": "white",
            "ticks": ""
           },
           "bgcolor": "#E5ECF6",
           "caxis": {
            "gridcolor": "white",
            "linecolor": "white",
            "ticks": ""
           }
          },
          "title": {
           "x": 0.05
          },
          "xaxis": {
           "automargin": true,
           "gridcolor": "white",
           "linecolor": "white",
           "ticks": "",
           "title": {
            "standoff": 15
           },
           "zerolinecolor": "white",
           "zerolinewidth": 2
          },
          "yaxis": {
           "automargin": true,
           "gridcolor": "white",
           "linecolor": "white",
           "ticks": "",
           "title": {
            "standoff": 15
           },
           "zerolinecolor": "white",
           "zerolinewidth": 2
          }
         }
        },
        "title": {
         "text": "Sum of URL's per Artist",
         "x": 0.5
        },
        "xaxis": {
         "anchor": "y",
         "domain": [
          0,
          1
         ],
         "title": {
          "text": "Artists"
         }
        },
        "yaxis": {
         "anchor": "x",
         "domain": [
          0,
          1
         ],
         "title": {
          "text": "Sum of URL's"
         }
        }
       }
      }
     },
     "metadata": {},
     "output_type": "display_data"
    }
   ],
   "source": [
    "px.histogram(merge[['artists','preview_url']].value_counts().rename_axis(['artists', 'preview_url']).reset_index(name = 'counts'), \n",
    "             x = 'artists', y = 'counts', title = \"Sum of URL's per Artist\").update_layout(xaxis_title = 'Artists', \n",
    "                                                                                           yaxis_title = \"Sum of URL's\", title_x = 0.5)"
   ]
  }
 ],
 "metadata": {
  "kernelspec": {
   "display_name": "playlist_data--tJRePin",
   "language": "python",
   "name": "python3"
  },
  "language_info": {
   "codemirror_mode": {
    "name": "ipython",
    "version": 3
   },
   "file_extension": ".py",
   "mimetype": "text/x-python",
   "name": "python",
   "nbconvert_exporter": "python",
   "pygments_lexer": "ipython3",
   "version": "3.10.8 (tags/v3.10.8:aaaf517, Oct 11 2022, 16:50:30) [MSC v.1933 64 bit (AMD64)]"
  },
  "orig_nbformat": 4,
  "vscode": {
   "interpreter": {
    "hash": "ece3b6fd847cef8fd458d328c88417e26afbc877678fa632782ffe53564706f6"
   }
  }
 },
 "nbformat": 4,
 "nbformat_minor": 2
}
